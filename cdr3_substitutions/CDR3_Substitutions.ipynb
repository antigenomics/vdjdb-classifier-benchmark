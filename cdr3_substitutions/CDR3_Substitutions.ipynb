{
 "cells": [
  {
   "cell_type": "code",
   "execution_count": 518,
   "metadata": {},
   "outputs": [],
   "source": [
    "import numpy as np\n",
    "import pandas as pd\n",
    "from collections import Counter\n",
    "from scipy import stats\n",
    "import seaborn as sns; sns.set()\n",
    "import plotly.graph_objects as go\n",
    "from plotly.subplots import make_subplots\n",
    "import matplotlib.pyplot as plt\n",
    "from sklearn.decomposition import PCA\n",
    "from sklearn.manifold import MDS\n",
    "from collections import defaultdict"
   ]
  },
  {
   "cell_type": "code",
   "execution_count": 152,
   "metadata": {},
   "outputs": [],
   "source": [
    "def filter_df(df, species, epitopes, chains, cdr3_len):\n",
    "    return df[(df['species'].isin(species)) &\n",
    "              (df['antigen.epitope'].isin(epitopes)) &\n",
    "              (df['gene'].isin(chains)) &\n",
    "              (df['cdr3_len'] == cdr3_len)].copy()"
   ]
  },
  {
   "cell_type": "code",
   "execution_count": 10,
   "metadata": {},
   "outputs": [],
   "source": [
    "def get_concervative_pos(df, q):\n",
    "    start_pos = np.percentile(df['v.end'], q=q, interpolation='nearest')\n",
    "    end_pos = np.percentile(df['j.start'], q=(100-q), interpolation='nearest') - 1\n",
    "    return start_pos, end_pos"
   ]
  },
  {
   "cell_type": "code",
   "execution_count": 208,
   "metadata": {},
   "outputs": [],
   "source": [
    "AMINO_ACIDS = ['A', 'R', 'N', 'D', 'C', 'Q', 'E', 'G', 'H', 'I', 'L', 'K', 'M', 'F', 'P', 'S', 'T', 'W', 'Y', 'V']\n",
    "AA_2_POS = {'A': 0, 'R': 1, 'N': 2, 'D': 3, 'C': 4,\n",
    "            'Q': 5, 'E': 6, 'G': 7, 'H': 8, 'I': 9,\n",
    "            'L': 10, 'K': 11, 'M': 12, 'F': 13, 'P': 14,\n",
    "            'S': 15, 'T': 16, 'W': 17, 'Y': 18, 'V': 19}\n",
    "AA_N = 20\n",
    "\n",
    "def get_blosum_matrix(df, start_pos, end_pos):\n",
    "    cdr3_full = df.cdr3.apply(lambda x: pd.Series(list(x))).values\n",
    "    cdr3 = cdr3_full[:, start_pos:(end_pos+1)]\n",
    "\n",
    "    # Frequency table\n",
    "    F_ij = np.zeros([AA_N, AA_N])\n",
    "    for j in range(0, cdr3.shape[1]):\n",
    "        column_acids = cdr3[:, j]\n",
    "        cnt = Counter(column_acids)\n",
    "        for i_acid, i in AA_2_POS.items():\n",
    "            for j_acid, j in AA_2_POS.items():\n",
    "                if (i_acid == j_acid) and cnt[i_acid] > 1:\n",
    "                    F_ij[i, j] += ((cnt[i_acid] * (cnt[i_acid] - 1)) / 2)\n",
    "                else:\n",
    "                    F_ij[i, j] += cnt[i_acid] * cnt[j_acid]\n",
    "    \n",
    "    # Observed probability\n",
    "    lower_Tr = np.tril(np.ones([AA_N, AA_N]))\n",
    "    np.fill_diagonal(lower_Tr, 1)\n",
    "    total_pairs = np.sum(lower_Tr * F_ij)\n",
    "    Q_ij = F_ij / total_pairs\n",
    "\n",
    "    # Expected probability\n",
    "    P_i = np.zeros(AA_N)\n",
    "    for i_acid, i in AA_2_POS.items():\n",
    "        P_i[i] = Q_ij[i, i] + (np.sum(Q_ij[i, :]) - Q_ij[i, i])/2\n",
    "    E_ij = np.zeros([AA_N, AA_N])\n",
    "    for i in np.arange(0, AA_N):\n",
    "        for j in np.arange(0, AA_N):\n",
    "            if i == j:\n",
    "                E_ij[i, j] = P_i[i] * P_i[i]\n",
    "            else:\n",
    "                E_ij[i, j] = 2 * P_i[i] * P_i[j]\n",
    "    \n",
    "    # The log-odds ration\n",
    "    L = np.zeros([AA_N, AA_N])\n",
    "    for i in np.arange(0, AA_N):\n",
    "        for j in np.arange(0, AA_N):\n",
    "            if (Q_ij[i, j] == 0) or (E_ij[i, j] == 0):\n",
    "                L[i, j] = 1\n",
    "            else:\n",
    "                L[i, j] = Q_ij[i, j] / E_ij[i, j]\n",
    "    L = np.round(np.log2(L) * 2)\n",
    "    return L"
   ]
  },
  {
   "cell_type": "code",
   "execution_count": 491,
   "metadata": {},
   "outputs": [],
   "source": [
    "def spearman_corr(M1, M2):\n",
    "    return stats.spearmanr(M1.values.flatten(), M2.values.flatten())\n",
    "def pearson_corr(M1, M2):\n",
    "    return stats.pearsonr(M1.values.flatten(), M2.values.flatten())"
   ]
  },
  {
   "cell_type": "markdown",
   "metadata": {},
   "source": [
    "## Preparing stage"
   ]
  },
  {
   "cell_type": "code",
   "execution_count": 313,
   "metadata": {},
   "outputs": [],
   "source": [
    "blosum62 = pd.read_csv('blosum62.txt', sep=r'\\s+', index_col=0)\n",
    "blosum62 = blosum62.loc[AMINO_ACIDS, AMINO_ACIDS]"
   ]
  },
  {
   "cell_type": "markdown",
   "metadata": {},
   "source": [
    "#### Database preparing"
   ]
  },
  {
   "cell_type": "code",
   "execution_count": 202,
   "metadata": {},
   "outputs": [],
   "source": [
    "vdjdb_slim_df = pd.read_csv('../vdjdb-dump/vdjdb.slim.txt', sep='\\t')\n",
    "\n",
    "# Filter referencies from 10xgenomics.com\n",
    "vdjdb_slim_df = vdjdb_slim_df[~vdjdb_slim_df['reference.id'].str.startswith('https://www.10xgenomics.com')]\n",
    "\n",
    "# Filter bad positions of j.start and v.end\n",
    "vdjdb_slim_df = vdjdb_slim_df[(vdjdb_slim_df['v.end'] < vdjdb_slim_df['j.start']) & (vdjdb_slim_df['v.end'] > 0)]\n",
    "\n",
    "# add CDR3 len\n",
    "vdjdb_slim_df['cdr3_len'] = vdjdb_slim_df.cdr3.str.len()"
   ]
  },
  {
   "cell_type": "code",
   "execution_count": 203,
   "metadata": {},
   "outputs": [],
   "source": [
    "# Percentiles of samples number per species and gene. \n",
    "ept_df = vdjdb_slim_df.groupby(['species', 'gene', 'antigen.epitope', 'cdr3_len'])['cdr3'].count().reset_index()\n",
    "ept_df.columns = ['species', 'gene', 'antigen.epitope', 'cdr3_len', 'samples_cnt']"
   ]
  },
  {
   "cell_type": "code",
   "execution_count": 204,
   "metadata": {},
   "outputs": [],
   "source": [
    "# Leave just epitopes with >= 30 CDR3 samples\n",
    "good_epitopes = ept_df[ept_df.samples_cnt >= 30][['species', 'gene', 'antigen.epitope', 'cdr3_len', 'samples_cnt']]\n",
    "vdjdb_slim_df = vdjdb_slim_df.merge(good_epitopes, how='inner', suffixes=['', '_r'],\n",
    "                                    left_on=['species', 'gene', 'antigen.epitope', 'cdr3_len'],\n",
    "                                    right_on=['species', 'gene', 'antigen.epitope', 'cdr3_len'])\n"
   ]
  },
  {
   "cell_type": "code",
   "execution_count": 536,
   "metadata": {},
   "outputs": [],
   "source": [
    "IMGT_classes = [\n",
    "    ('acidic', ['D', 'E']),\n",
    "    ('aliphatic', ['A', 'I', 'L', 'V']),\n",
    "    ('amide', ['N', 'Q']),\n",
    "    ('aromatic', ['F', 'W', 'Y']),\n",
    "    ('basic', ['H', 'K', 'R']),\n",
    "    ('G', ['G']),\n",
    "    ('hydroxyl', ['S', 'T']),\n",
    "    ('P', ['P']),\n",
    "    ('sulfur', ['C', 'M'])\n",
    "]\n",
    "\n",
    "IMGT_colors =  [\n",
    "    '#1f77b4', '#ff7f0e', '#2ca02c',\n",
    "    '#d62728', '#9467bd', '#8c564b',\n",
    "    '#e377c2', '#7f7f7f', '#bcbd22'\n",
    "]\n",
    "\n",
    "def get_pca_imgt_traces(matrice, showlegend=True):\n",
    "    pca = PCA(n_components=2)\n",
    "    pca.fit(matrice.values)\n",
    "    traces = []\n",
    "    for num, (imgt_class, aa_v) in enumerate(IMGT_classes):\n",
    "        components = pca.transform(matrice.loc[aa_v, :])\n",
    "        traces.append(go.Scatter(x=components[:,0], y=components[:,1],\n",
    "                                 mode='markers+text', text=aa_v,\n",
    "                                 marker={'size': 17, 'opacity':0.5},\n",
    "                                 line={'color': IMGT_colors[num]},\n",
    "                                 name=imgt_class,\n",
    "                                 showlegend=showlegend))\n",
    "    return traces\n",
    "\n",
    "def plot_pca_IMGT(matrice2params, rows, cols, titles):\n",
    "    fig = make_subplots(rows=rows, cols=cols, subplot_titles=titles)\n",
    "    for matrice, row, col in matrice2params:\n",
    "        if row == 1 and col == 1:\n",
    "            traces = get_pca_imgt_traces(matrice)\n",
    "        else:\n",
    "            traces = get_pca_imgt_traces(matrice, showlegend=False)\n",
    "        for t in traces:\n",
    "            fig.append_trace(t, row=row, col=col)\n",
    "    for row in range(rows):\n",
    "        for col in range(cols):\n",
    "            fig.update_xaxes(title_text=\"pca_x\", row=row+1, col=col+1)\n",
    "            fig.update_yaxes(title_text=\"pca_y\", row=row+1, col=col+1)\n",
    "    fig.update_layout(plot_bgcolor='rgb(248,248,248)')\n",
    "    fig.show()\n",
    "    \n",
    "def get_mds_imgt_traces(matrice, showlegend=True):\n",
    "    mds = MDS(n_components=2)\n",
    "    components = mds.fit_transform(matrice.values)\n",
    "    class2x = defaultdict(list)\n",
    "    class2y = defaultdict(list)\n",
    "    for imgt_class, aa_v in IMGT_classes:\n",
    "        for aa in aa_v:\n",
    "            x, y = components[AA_2_POS[aa]]\n",
    "            class2x[imgt_class].append(x)\n",
    "            class2y[imgt_class].append(y)\n",
    "    traces = []\n",
    "    for num, (imgt_class, aa_v) in enumerate(IMGT_classes):\n",
    "        traces.append(go.Scatter(x=class2x[imgt_class], y=class2y[imgt_class],\n",
    "                                 mode='markers+text', text=aa_v,\n",
    "                                 marker={'size': 17, 'opacity':0.5},\n",
    "                                 line={'color': IMGT_colors[num]},\n",
    "                                 name=imgt_class,\n",
    "                                 showlegend=showlegend))\n",
    "    return traces\n",
    "\n",
    "def plot_mds_IMGT(matrice2params, rows, cols, titles):\n",
    "    fig = make_subplots(rows=rows, cols=cols, subplot_titles=titles)\n",
    "    for matrice, row, col in matrice2params:\n",
    "        if row == 1 and col == 1:\n",
    "            traces = get_mds_imgt_traces(matrice)\n",
    "        else:\n",
    "            traces = get_mds_imgt_traces(matrice, showlegend=False)\n",
    "        for t in traces:\n",
    "            fig.append_trace(t, row=row, col=col)\n",
    "    for row in range(rows):\n",
    "        for col in range(cols):\n",
    "            fig.update_xaxes(title_text=\"mds_x\", row=row+1, col=col+1)\n",
    "            fig.update_yaxes(title_text=\"mds_y\", row=row+1, col=col+1)\n",
    "    fig.update_layout(plot_bgcolor='rgb(248,248,248)')\n",
    "    fig.show()"
   ]
  },
  {
   "cell_type": "markdown",
   "metadata": {},
   "source": [
    "#### Build matrices for all good epitopes "
   ]
  },
  {
   "cell_type": "code",
   "execution_count": 205,
   "metadata": {},
   "outputs": [
    {
     "name": "stdout",
     "output_type": "stream",
     "text": [
      "HomoSapiens good epitopes (TRA): 27\n",
      "HomoSapiens good epitopes (TRB): 77\n",
      "MusMusculus good epitopes (TRA): 15\n",
      "MusMusculus good epitopes (TRB): 18\n"
     ]
    }
   ],
   "source": [
    "hs_tra_samples = good_epitopes[(good_epitopes.species == 'HomoSapiens') & (good_epitopes.gene == 'TRA')].shape[0]\n",
    "hs_trb_samples = good_epitopes[(good_epitopes.species == 'HomoSapiens') & (good_epitopes.gene == 'TRB')].shape[0]\n",
    "mm_tra_samples = good_epitopes[(good_epitopes.species == 'MusMusculus') & (good_epitopes.gene == 'TRA')].shape[0]\n",
    "mm_trb_samples = good_epitopes[(good_epitopes.species == 'MusMusculus') & (good_epitopes.gene == 'TRB')].shape[0]\n",
    "print(f\"HomoSapiens good epitopes (TRA): {hs_tra_samples}\")\n",
    "print(f\"HomoSapiens good epitopes (TRB): {hs_trb_samples}\")\n",
    "print(f\"MusMusculus good epitopes (TRA): {mm_tra_samples}\")\n",
    "print(f\"MusMusculus good epitopes (TRB): {mm_trb_samples}\")"
   ]
  },
  {
   "cell_type": "code",
   "execution_count": 511,
   "metadata": {
    "scrolled": true
   },
   "outputs": [
    {
     "name": "stdout",
     "output_type": "stream",
     "text": [
      "HomoSapiens, TRA, FRDYVDRFYKTLRAEQASQE, 12 processed!\n",
      "HomoSapiens, TRA, GILGFVFTL, 10 processed!\n",
      "HomoSapiens, TRA, GILGFVFTL, 11 processed!\n",
      "HomoSapiens, TRA, GILGFVFTL, 12 processed!\n",
      "HomoSapiens, TRA, GILGFVFTL, 13 processed!\n",
      "HomoSapiens, TRA, GILGFVFTL, 14 processed!\n",
      "HomoSapiens, TRA, GILGFVFTL, 15 processed!\n",
      "HomoSapiens, TRA, GILGFVFTL, 16 processed!\n",
      "HomoSapiens, TRA, GILGFVFTL, 17 processed!\n",
      "HomoSapiens, TRA, GILGFVFTL, 18 processed!\n",
      "HomoSapiens, TRA, GILGFVFTL, 19 processed!\n",
      "HomoSapiens, TRA, GLIYNRMGAVTTEV, 14 processed!\n",
      "HomoSapiens, TRA, LLLGIGILV, 11 processed!\n",
      "HomoSapiens, TRA, LLLGIGILV, 12 processed!\n",
      "HomoSapiens, TRA, LLLGIGILV, 13 processed!\n",
      "HomoSapiens, TRA, LLLGIGILV, 14 processed!\n",
      "HomoSapiens, TRA, LLLGIGILV, 15 processed!\n",
      "HomoSapiens, TRA, LLWNGPMAV, 10 processed!\n",
      "HomoSapiens, TRA, NLVPMVATV, 10 processed!\n",
      "HomoSapiens, TRA, NLVPMVATV, 11 processed!\n",
      "HomoSapiens, TRA, NLVPMVATV, 12 processed!\n",
      "HomoSapiens, TRA, NLVPMVATV, 13 processed!\n",
      "HomoSapiens, TRA, NLVPMVATV, 14 processed!\n",
      "HomoSapiens, TRA, NLVPMVATV, 15 processed!\n",
      "HomoSapiens, TRA, NLVPMVATV, 16 processed!\n",
      "HomoSapiens, TRA, NLVPMVATV, 17 processed!\n",
      "HomoSapiens, TRA, PKYVKQNTLKLAT, 13 processed!\n",
      "HomoSapiens, TRB, ATDALMTGY, 14 processed!\n",
      "HomoSapiens, TRB, ATDALMTGY, 15 processed!\n",
      "HomoSapiens, TRB, DPFRLLQNSQVFS, 15 processed!\n",
      "HomoSapiens, TRB, EIYKRWII, 15 processed!\n",
      "HomoSapiens, TRB, ELAGIGILTV, 11 processed!\n",
      "HomoSapiens, TRB, ELAGIGILTV, 12 processed!\n",
      "HomoSapiens, TRB, ELAGIGILTV, 13 processed!\n",
      "HomoSapiens, TRB, ELAGIGILTV, 14 processed!\n",
      "HomoSapiens, TRB, ELAGIGILTV, 15 processed!\n",
      "HomoSapiens, TRB, ELAGIGILTV, 16 processed!\n",
      "HomoSapiens, TRB, ELAGIGILTV, 17 processed!\n",
      "HomoSapiens, TRB, FLKEKGGL, 15 processed!\n",
      "HomoSapiens, TRB, FPRPWLHGL, 15 processed!\n",
      "HomoSapiens, TRB, FRDYVDRFYKTLRAEQASQE, 14 processed!\n",
      "HomoSapiens, TRB, FRDYVDRFYKTLRAEQASQE, 15 processed!\n",
      "HomoSapiens, TRB, FRDYVDRFYKTLRAEQASQE, 16 processed!\n",
      "HomoSapiens, TRB, GILGFVFTL, 11 processed!\n",
      "HomoSapiens, TRB, GILGFVFTL, 12 processed!\n",
      "HomoSapiens, TRB, GILGFVFTL, 13 processed!\n",
      "HomoSapiens, TRB, GILGFVFTL, 14 processed!\n",
      "HomoSapiens, TRB, GILGFVFTL, 15 processed!\n",
      "HomoSapiens, TRB, GILGFVFTL, 16 processed!\n",
      "HomoSapiens, TRB, GILGFVFTL, 17 processed!\n",
      "HomoSapiens, TRB, GILGFVFTL, 18 processed!\n",
      "HomoSapiens, TRB, GILGFVFTL, 19 processed!\n",
      "HomoSapiens, TRB, GLCTLVAML, 12 processed!\n",
      "HomoSapiens, TRB, GLCTLVAML, 13 processed!\n",
      "HomoSapiens, TRB, GLCTLVAML, 14 processed!\n",
      "HomoSapiens, TRB, GLCTLVAML, 15 processed!\n",
      "HomoSapiens, TRB, GLCTLVAML, 16 processed!\n",
      "HomoSapiens, TRB, GLCTLVAML, 17 processed!\n",
      "HomoSapiens, TRB, GTSGSPIINR, 13 processed!\n",
      "HomoSapiens, TRB, GTSGSPIINR, 14 processed!\n",
      "HomoSapiens, TRB, GTSGSPIINR, 15 processed!\n",
      "HomoSapiens, TRB, GTSGSPIVNR, 12 processed!\n",
      "HomoSapiens, TRB, GTSGSPIVNR, 14 processed!\n",
      "HomoSapiens, TRB, GTSGSPIVNR, 15 processed!\n",
      "HomoSapiens, TRB, IPSINVHHY, 15 processed!\n",
      "HomoSapiens, TRB, KAFSPEVIPMF, 12 processed!\n",
      "HomoSapiens, TRB, KAFSPEVIPMF, 14 processed!\n",
      "HomoSapiens, TRB, KRWIILGLNK, 12 processed!\n",
      "HomoSapiens, TRB, KRWIILGLNK, 13 processed!\n",
      "HomoSapiens, TRB, KRWIILGLNK, 14 processed!\n",
      "HomoSapiens, TRB, KRWIILGLNK, 15 processed!\n",
      "HomoSapiens, TRB, KRWIIMGLNK, 14 processed!\n",
      "HomoSapiens, TRB, LLLGIGILV, 13 processed!\n",
      "HomoSapiens, TRB, LLLGIGILV, 14 processed!\n",
      "HomoSapiens, TRB, LLLGIGILV, 15 processed!\n",
      "HomoSapiens, TRB, LLWNGPMAV, 13 processed!\n",
      "HomoSapiens, TRB, LLWNGPMAV, 14 processed!\n",
      "HomoSapiens, TRB, LLWNGPMAV, 15 processed!\n",
      "HomoSapiens, TRB, LLWNGPMAV, 16 processed!\n",
      "HomoSapiens, TRB, LPRRSGAAGA, 14 processed!\n",
      "HomoSapiens, TRB, LPRRSGAAGA, 15 processed!\n",
      "HomoSapiens, TRB, NLVPMVATV, 11 processed!\n",
      "HomoSapiens, TRB, NLVPMVATV, 12 processed!\n",
      "HomoSapiens, TRB, NLVPMVATV, 13 processed!\n",
      "HomoSapiens, TRB, NLVPMVATV, 14 processed!\n",
      "HomoSapiens, TRB, NLVPMVATV, 15 processed!\n",
      "HomoSapiens, TRB, NLVPMVATV, 16 processed!\n",
      "HomoSapiens, TRB, NLVPMVATV, 17 processed!\n",
      "HomoSapiens, TRB, NLVPMVATV, 18 processed!\n",
      "HomoSapiens, TRB, NLVPMVATV, 19 processed!\n",
      "HomoSapiens, TRB, PKYVKQNTLKLAT, 12 processed!\n",
      "HomoSapiens, TRB, PKYVKQNTLKLAT, 13 processed!\n",
      "HomoSapiens, TRB, PKYVKQNTLKLAT, 14 processed!\n",
      "HomoSapiens, TRB, PKYVKQNTLKLAT, 15 processed!\n",
      "HomoSapiens, TRB, PKYVKQNTLKLAT, 16 processed!\n",
      "HomoSapiens, TRB, RAKFKQLL, 15 processed!\n",
      "HomoSapiens, TRB, RAKFKQLL, 16 processed!\n",
      "HomoSapiens, TRB, SFHSLHLLF, 13 processed!\n",
      "HomoSapiens, TRB, TPRVTGGGAM, 14 processed!\n",
      "HomoSapiens, TRB, TPRVTGGGAM, 15 processed!\n",
      "HomoSapiens, TRB, TPRVTGGGAM, 16 processed!\n",
      "HomoSapiens, TRB, VTEHDTLLY, 13 processed!\n",
      "HomoSapiens, TRB, VTEHDTLLY, 14 processed!\n",
      "HomoSapiens, TRB, VTEHDTLLY, 15 processed!\n",
      "MacacaMulatta, TRB, CTPYDINQM, 14 processed!\n",
      "MacacaMulatta, TRB, CTPYDINQM, 15 processed!\n",
      "MacacaMulatta, TRB, CTPYDINQM, 16 processed!\n",
      "MacacaMulatta, TRB, CTPYDINQM, 17 processed!\n",
      "MacacaMulatta, TRB, STPESANL, 15 processed!\n",
      "MacacaMulatta, TRB, TTPESANL, 14 processed!\n",
      "MacacaMulatta, TRB, TTPESANL, 15 processed!\n",
      "MacacaMulatta, TRB, TTPESANL, 17 processed!\n",
      "MusMusculus, TRA, ASNENMETM, 13 processed!\n",
      "MusMusculus, TRA, ASNENMETM, 14 processed!\n",
      "MusMusculus, TRA, ASNENMETM, 15 processed!\n",
      "MusMusculus, TRA, HGIRNASFI, 13 processed!\n",
      "MusMusculus, TRA, HGIRNASFI, 14 processed!\n",
      "MusMusculus, TRA, HGIRNASFI, 15 processed!\n",
      "MusMusculus, TRA, LSLRNPILV, 13 processed!\n",
      "MusMusculus, TRA, LSLRNPILV, 14 processed!\n",
      "MusMusculus, TRA, SSLENFRAYV, 13 processed!\n",
      "MusMusculus, TRA, SSLENFRAYV, 14 processed!\n",
      "MusMusculus, TRA, SSLENFRAYV, 15 processed!\n",
      "MusMusculus, TRA, SSPPMFRV, 15 processed!\n",
      "MusMusculus, TRA, SSYRRPVGI, 13 processed!\n",
      "MusMusculus, TRA, SSYRRPVGI, 14 processed!\n",
      "MusMusculus, TRA, TVYGFCLL, 14 processed!\n",
      "MusMusculus, TRB, ASNENMETM, 14 processed!\n",
      "MusMusculus, TRB, HGIRNASFI, 13 processed!\n",
      "MusMusculus, TRB, HGIRNASFI, 14 processed!\n",
      "MusMusculus, TRB, HGIRNASFI, 15 processed!\n",
      "MusMusculus, TRB, LSLRNPILV, 13 processed!\n",
      "MusMusculus, TRB, LSLRNPILV, 14 processed!\n",
      "MusMusculus, TRB, RALEYKNL, 13 processed!\n",
      "MusMusculus, TRB, RALEYKNL, 14 processed!\n",
      "MusMusculus, TRB, SQLLNAKYL, 14 processed!\n",
      "MusMusculus, TRB, SSLENFRAYV, 11 processed!\n",
      "MusMusculus, TRB, SSLENFRAYV, 12 processed!\n",
      "MusMusculus, TRB, SSLENFRAYV, 13 processed!\n",
      "MusMusculus, TRB, SSLENFRAYV, 14 processed!\n",
      "MusMusculus, TRB, SSLENFRAYV, 15 processed!\n",
      "MusMusculus, TRB, SSPPMFRV, 17 processed!\n",
      "MusMusculus, TRB, SSYRRPVGI, 13 processed!\n",
      "MusMusculus, TRB, SSYRRPVGI, 14 processed!\n",
      "MusMusculus, TRB, SSYRRPVGI, 15 processed!\n"
     ]
    }
   ],
   "source": [
    "matrices = {}\n",
    "\n",
    "for r in good_epitopes.to_records():\n",
    "    species, chain, epitope, cdr3_len = r[1], r[2], r[3], r[4]\n",
    "    df = filter_df(vdjdb_slim_df, [species], [epitope], [chain], cdr3_len)\n",
    "    start_pos, end_pos = get_concervative_pos(df, 80)\n",
    "    L = get_blosum_matrix(df, cdr3_start_pos, cdr3_end_pos)\n",
    "    result = pd.DataFrame(L, index=AMINO_ACIDS, columns=AMINO_ACIDS)\n",
    "    matrices[(species, chain, epitope, cdr3_len)] = result\n",
    "    print(f\"{species}, {chain}, {epitope}, {cdr3_len} processed!\")"
   ]
  },
  {
   "cell_type": "markdown",
   "metadata": {},
   "source": [
    "## Top 3 epitopes "
   ]
  },
  {
   "cell_type": "markdown",
   "metadata": {},
   "source": [
    "1) most common length"
   ]
  },
  {
   "cell_type": "code",
   "execution_count": 503,
   "metadata": {},
   "outputs": [
    {
     "data": {
      "text/html": [
       "<div>\n",
       "<style scoped>\n",
       "    .dataframe tbody tr th:only-of-type {\n",
       "        vertical-align: middle;\n",
       "    }\n",
       "\n",
       "    .dataframe tbody tr th {\n",
       "        vertical-align: top;\n",
       "    }\n",
       "\n",
       "    .dataframe thead th {\n",
       "        text-align: right;\n",
       "    }\n",
       "</style>\n",
       "<table border=\"1\" class=\"dataframe\">\n",
       "  <thead>\n",
       "    <tr style=\"text-align: right;\">\n",
       "      <th></th>\n",
       "      <th>species</th>\n",
       "      <th>gene</th>\n",
       "      <th>antigen.epitope</th>\n",
       "      <th>cdr3_len</th>\n",
       "      <th>samples_cnt</th>\n",
       "    </tr>\n",
       "  </thead>\n",
       "  <tbody>\n",
       "    <tr>\n",
       "      <th>542</th>\n",
       "      <td>HomoSapiens</td>\n",
       "      <td>TRB</td>\n",
       "      <td>GILGFVFTL</td>\n",
       "      <td>13</td>\n",
       "      <td>1089</td>\n",
       "    </tr>\n",
       "    <tr>\n",
       "      <th>859</th>\n",
       "      <td>HomoSapiens</td>\n",
       "      <td>TRB</td>\n",
       "      <td>NLVPMVATV</td>\n",
       "      <td>15</td>\n",
       "      <td>1022</td>\n",
       "    </tr>\n",
       "    <tr>\n",
       "      <th>858</th>\n",
       "      <td>HomoSapiens</td>\n",
       "      <td>TRB</td>\n",
       "      <td>NLVPMVATV</td>\n",
       "      <td>14</td>\n",
       "      <td>903</td>\n",
       "    </tr>\n",
       "  </tbody>\n",
       "</table>\n",
       "</div>"
      ],
      "text/plain": [
       "         species gene antigen.epitope  cdr3_len  samples_cnt\n",
       "542  HomoSapiens  TRB       GILGFVFTL        13         1089\n",
       "859  HomoSapiens  TRB       NLVPMVATV        15         1022\n",
       "858  HomoSapiens  TRB       NLVPMVATV        14          903"
      ]
     },
     "execution_count": 503,
     "metadata": {},
     "output_type": "execute_result"
    }
   ],
   "source": [
    "good_epitopes[(good_epitopes.species == 'HomoSapiens')\n",
    "              & (good_epitopes.gene == 'TRB')].sort_values('samples_cnt', ascending=False)[0:3]"
   ]
  },
  {
   "cell_type": "code",
   "execution_count": 505,
   "metadata": {},
   "outputs": [],
   "source": [
    "M1 = matrices[('HomoSapiens', 'TRB', 'GILGFVFTL', 13)]\n",
    "M2 = matrices[('HomoSapiens', 'TRB', 'NLVPMVATV', 15)]\n",
    "M3 = matrices[('HomoSapiens', 'TRB', 'NLVPMVATV', 14)]"
   ]
  },
  {
   "cell_type": "code",
   "execution_count": 507,
   "metadata": {},
   "outputs": [
    {
     "data": {
      "text/plain": [
       "(0.0994823019148526, 0.046772519931885845)"
      ]
     },
     "execution_count": 507,
     "metadata": {},
     "output_type": "execute_result"
    }
   ],
   "source": [
    "pearson_corr(M1, M2)"
   ]
  },
  {
   "cell_type": "code",
   "execution_count": 509,
   "metadata": {},
   "outputs": [
    {
     "data": {
      "text/plain": [
       "(0.18810457493383512, 0.00015423402457194086)"
      ]
     },
     "execution_count": 509,
     "metadata": {},
     "output_type": "execute_result"
    }
   ],
   "source": [
    "pearson_corr(M2, M3)"
   ]
  },
  {
   "cell_type": "code",
   "execution_count": 534,
   "metadata": {},
   "outputs": [
    {
     "name": "stderr",
     "output_type": "stream",
     "text": [
      "/Users/nediolus/anaconda3/lib/python3.7/site-packages/sklearn/manifold/mds.py:421: UserWarning:\n",
      "\n",
      "The MDS API has changed. ``fit`` now constructs an dissimilarity matrix from data. To use a custom dissimilarity matrix, set ``dissimilarity='precomputed'``.\n",
      "\n",
      "/Users/nediolus/anaconda3/lib/python3.7/site-packages/sklearn/manifold/mds.py:421: UserWarning:\n",
      "\n",
      "The MDS API has changed. ``fit`` now constructs an dissimilarity matrix from data. To use a custom dissimilarity matrix, set ``dissimilarity='precomputed'``.\n",
      "\n"
     ]
    },
    {
     "data": {
      "application/vnd.plotly.v1+json": {
       "config": {
        "plotlyServerURL": "https://plot.ly"
       },
       "data": [
        {
         "line": {
          "color": "#1f77b4"
         },
         "marker": {
          "opacity": 0.5,
          "size": 17
         },
         "mode": "markers+text",
         "name": "acidic",
         "showlegend": true,
         "text": [
          "D",
          "E"
         ],
         "type": "scatter",
         "x": [
          -4.857035942844682,
          -7.982763967964567
         ],
         "xaxis": "x",
         "y": [
          9.96768829165658,
          5.138160974230173
         ],
         "yaxis": "y"
        },
        {
         "line": {
          "color": "#ff7f0e"
         },
         "marker": {
          "opacity": 0.5,
          "size": 17
         },
         "mode": "markers+text",
         "name": "aliphatic",
         "showlegend": true,
         "text": [
          "A",
          "I",
          "L",
          "V"
         ],
         "type": "scatter",
         "x": [
          4.2169312573630515,
          8.932557533255558,
          6.938946278940441,
          7.954035214756148
         ],
         "xaxis": "x",
         "y": [
          2.9055487950946453,
          -5.167444355074856,
          -5.947516746221366,
          -3.0809150660499904
         ],
         "yaxis": "y"
        },
        {
         "line": {
          "color": "#2ca02c"
         },
         "marker": {
          "opacity": 0.5,
          "size": 17
         },
         "mode": "markers+text",
         "name": "amide",
         "showlegend": true,
         "text": [
          "N",
          "Q"
         ],
         "type": "scatter",
         "x": [
          -6.056066383792468,
          -5.459365011597615
         ],
         "xaxis": "x",
         "y": [
          7.535139022759854,
          2.8047925961612066
         ],
         "yaxis": "y"
        },
        {
         "line": {
          "color": "#d62728"
         },
         "marker": {
          "opacity": 0.5,
          "size": 17
         },
         "mode": "markers+text",
         "name": "aromatic",
         "showlegend": true,
         "text": [
          "F",
          "W",
          "Y"
         ],
         "type": "scatter",
         "x": [
          2.170905757541359,
          -2.730349141631809,
          -3.396020752323085
         ],
         "xaxis": "x",
         "y": [
          -10.62804370036472,
          -15.701152899825459,
          -9.927008000737297
         ],
         "yaxis": "y"
        },
        {
         "line": {
          "color": "#9467bd"
         },
         "marker": {
          "opacity": 0.5,
          "size": 17
         },
         "mode": "markers+text",
         "name": "basic",
         "showlegend": true,
         "text": [
          "H",
          "K",
          "R"
         ],
         "type": "scatter",
         "x": [
          -10.38143530637689,
          -6.758908541358281,
          -6.715675193936615
         ],
         "xaxis": "x",
         "y": [
          -3.444963093779822,
          2.1414063916458654,
          0.22492312325186303
         ],
         "yaxis": "y"
        },
        {
         "line": {
          "color": "#8c564b"
         },
         "marker": {
          "opacity": 0.5,
          "size": 17
         },
         "mode": "markers+text",
         "name": "G",
         "showlegend": true,
         "text": [
          "G"
         ],
         "type": "scatter",
         "x": [
          4.583823243539626
         ],
         "xaxis": "x",
         "y": [
          9.302444851759617
         ],
         "yaxis": "y"
        },
        {
         "line": {
          "color": "#e377c2"
         },
         "marker": {
          "opacity": 0.5,
          "size": 17
         },
         "mode": "markers+text",
         "name": "hydroxyl",
         "showlegend": true,
         "text": [
          "S",
          "T"
         ],
         "type": "scatter",
         "x": [
          -0.5226852801423062,
          1.7225633778481786
         ],
         "xaxis": "x",
         "y": [
          4.615963773893877,
          1.5523728622711779
         ],
         "yaxis": "y"
        },
        {
         "line": {
          "color": "#7f7f7f"
         },
         "marker": {
          "opacity": 0.5,
          "size": 17
         },
         "mode": "markers+text",
         "name": "P",
         "showlegend": true,
         "text": [
          "P"
         ],
         "type": "scatter",
         "x": [
          1.3668034493339696
         ],
         "xaxis": "x",
         "y": [
          10.698742738061481
         ],
         "yaxis": "y"
        },
        {
         "line": {
          "color": "#bcbd22"
         },
         "marker": {
          "opacity": 0.5,
          "size": 17
         },
         "mode": "markers+text",
         "name": "sulfur",
         "showlegend": true,
         "text": [
          "C",
          "M"
         ],
         "type": "scatter",
         "x": [
          13.018635956054167,
          3.9551034533358185
         ],
         "xaxis": "x",
         "y": [
          1.7242531199232596,
          -4.714392678656076
         ],
         "yaxis": "y"
        },
        {
         "line": {
          "color": "#1f77b4"
         },
         "marker": {
          "opacity": 0.5,
          "size": 17
         },
         "mode": "markers+text",
         "name": "acidic",
         "showlegend": false,
         "text": [
          "D",
          "E"
         ],
         "type": "scatter",
         "x": [
          -5.601001823422605,
          -5.118472272909489
         ],
         "xaxis": "x2",
         "y": [
          5.355155045844651,
          6.1972430571201675
         ],
         "yaxis": "y2"
        },
        {
         "line": {
          "color": "#ff7f0e"
         },
         "marker": {
          "opacity": 0.5,
          "size": 17
         },
         "mode": "markers+text",
         "name": "aliphatic",
         "showlegend": false,
         "text": [
          "A",
          "I",
          "L",
          "V"
         ],
         "type": "scatter",
         "x": [
          3.815993151899603,
          7.428483802422822,
          2.6053932381286713,
          -0.5768063557633234
         ],
         "xaxis": "x2",
         "y": [
          6.569673000662812,
          -6.604548742648466,
          -5.200958127062403,
          -0.6220918733789916
         ],
         "yaxis": "y2"
        },
        {
         "line": {
          "color": "#2ca02c"
         },
         "marker": {
          "opacity": 0.5,
          "size": 17
         },
         "mode": "markers+text",
         "name": "amide",
         "showlegend": false,
         "text": [
          "N",
          "Q"
         ],
         "type": "scatter",
         "x": [
          -3.4353960762687423,
          -1.6740706088325983
         ],
         "xaxis": "x2",
         "y": [
          7.121047632043248,
          0.7484254382830513
         ],
         "yaxis": "y2"
        },
        {
         "line": {
          "color": "#d62728"
         },
         "marker": {
          "opacity": 0.5,
          "size": 17
         },
         "mode": "markers+text",
         "name": "aromatic",
         "showlegend": false,
         "text": [
          "F",
          "W",
          "Y"
         ],
         "type": "scatter",
         "x": [
          0.5426290418542911,
          0.6002485126182753,
          -6.291998466951566
         ],
         "xaxis": "x2",
         "y": [
          -5.917734880769295,
          -0.6715274155543894,
          2.0613362955556798
         ],
         "yaxis": "y2"
        },
        {
         "line": {
          "color": "#9467bd"
         },
         "marker": {
          "opacity": 0.5,
          "size": 17
         },
         "mode": "markers+text",
         "name": "basic",
         "showlegend": false,
         "text": [
          "H",
          "K",
          "R"
         ],
         "type": "scatter",
         "x": [
          -4.025594835666137,
          5.467377855534028,
          -6.393665424250663
         ],
         "xaxis": "x2",
         "y": [
          0.04273266728568812,
          -1.9279630753998924,
          -8.858930875995975
         ],
         "yaxis": "y2"
        },
        {
         "line": {
          "color": "#8c564b"
         },
         "marker": {
          "opacity": 0.5,
          "size": 17
         },
         "mode": "markers+text",
         "name": "G",
         "showlegend": false,
         "text": [
          "G"
         ],
         "type": "scatter",
         "x": [
          0.45705195685664296
         ],
         "xaxis": "x2",
         "y": [
          3.313048136260659
         ],
         "yaxis": "y2"
        },
        {
         "line": {
          "color": "#e377c2"
         },
         "marker": {
          "opacity": 0.5,
          "size": 17
         },
         "mode": "markers+text",
         "name": "hydroxyl",
         "showlegend": false,
         "text": [
          "S",
          "T"
         ],
         "type": "scatter",
         "x": [
          5.523016645274323,
          -0.31972083744890495
         ],
         "xaxis": "x2",
         "y": [
          4.961756817790908,
          0.17359294049792348
         ],
         "yaxis": "y2"
        },
        {
         "line": {
          "color": "#7f7f7f"
         },
         "marker": {
          "opacity": 0.5,
          "size": 17
         },
         "mode": "markers+text",
         "name": "P",
         "showlegend": false,
         "text": [
          "P"
         ],
         "type": "scatter",
         "x": [
          6.235395591589856
         ],
         "xaxis": "x2",
         "y": [
          -4.546977246197517
         ],
         "yaxis": "y2"
        },
        {
         "line": {
          "color": "#bcbd22"
         },
         "marker": {
          "opacity": 0.5,
          "size": 17
         },
         "mode": "markers+text",
         "name": "sulfur",
         "showlegend": false,
         "text": [
          "C",
          "M"
         ],
         "type": "scatter",
         "x": [
          -8.285645318689228,
          9.046782224024751
         ],
         "xaxis": "x2",
         "y": [
          3.4511335920622175,
          -5.644412386400072
         ],
         "yaxis": "y2"
        }
       ],
       "layout": {
        "annotations": [
         {
          "font": {
           "size": 16
          },
          "showarrow": false,
          "text": "BLOSUM62",
          "x": 0.225,
          "xanchor": "center",
          "xref": "paper",
          "y": 1,
          "yanchor": "bottom",
          "yref": "paper"
         },
         {
          "font": {
           "size": 16
          },
          "showarrow": false,
          "text": "HomoSapiens, TRB, GILGFVFTL, 14",
          "x": 0.775,
          "xanchor": "center",
          "xref": "paper",
          "y": 1,
          "yanchor": "bottom",
          "yref": "paper"
         }
        ],
        "plot_bgcolor": "rgb(248,248,248)",
        "template": {
         "data": {
          "bar": [
           {
            "error_x": {
             "color": "#2a3f5f"
            },
            "error_y": {
             "color": "#2a3f5f"
            },
            "marker": {
             "line": {
              "color": "#E5ECF6",
              "width": 0.5
             }
            },
            "type": "bar"
           }
          ],
          "barpolar": [
           {
            "marker": {
             "line": {
              "color": "#E5ECF6",
              "width": 0.5
             }
            },
            "type": "barpolar"
           }
          ],
          "carpet": [
           {
            "aaxis": {
             "endlinecolor": "#2a3f5f",
             "gridcolor": "white",
             "linecolor": "white",
             "minorgridcolor": "white",
             "startlinecolor": "#2a3f5f"
            },
            "baxis": {
             "endlinecolor": "#2a3f5f",
             "gridcolor": "white",
             "linecolor": "white",
             "minorgridcolor": "white",
             "startlinecolor": "#2a3f5f"
            },
            "type": "carpet"
           }
          ],
          "choropleth": [
           {
            "colorbar": {
             "outlinewidth": 0,
             "ticks": ""
            },
            "type": "choropleth"
           }
          ],
          "contour": [
           {
            "colorbar": {
             "outlinewidth": 0,
             "ticks": ""
            },
            "colorscale": [
             [
              0,
              "#0d0887"
             ],
             [
              0.1111111111111111,
              "#46039f"
             ],
             [
              0.2222222222222222,
              "#7201a8"
             ],
             [
              0.3333333333333333,
              "#9c179e"
             ],
             [
              0.4444444444444444,
              "#bd3786"
             ],
             [
              0.5555555555555556,
              "#d8576b"
             ],
             [
              0.6666666666666666,
              "#ed7953"
             ],
             [
              0.7777777777777778,
              "#fb9f3a"
             ],
             [
              0.8888888888888888,
              "#fdca26"
             ],
             [
              1,
              "#f0f921"
             ]
            ],
            "type": "contour"
           }
          ],
          "contourcarpet": [
           {
            "colorbar": {
             "outlinewidth": 0,
             "ticks": ""
            },
            "type": "contourcarpet"
           }
          ],
          "heatmap": [
           {
            "colorbar": {
             "outlinewidth": 0,
             "ticks": ""
            },
            "colorscale": [
             [
              0,
              "#0d0887"
             ],
             [
              0.1111111111111111,
              "#46039f"
             ],
             [
              0.2222222222222222,
              "#7201a8"
             ],
             [
              0.3333333333333333,
              "#9c179e"
             ],
             [
              0.4444444444444444,
              "#bd3786"
             ],
             [
              0.5555555555555556,
              "#d8576b"
             ],
             [
              0.6666666666666666,
              "#ed7953"
             ],
             [
              0.7777777777777778,
              "#fb9f3a"
             ],
             [
              0.8888888888888888,
              "#fdca26"
             ],
             [
              1,
              "#f0f921"
             ]
            ],
            "type": "heatmap"
           }
          ],
          "heatmapgl": [
           {
            "colorbar": {
             "outlinewidth": 0,
             "ticks": ""
            },
            "colorscale": [
             [
              0,
              "#0d0887"
             ],
             [
              0.1111111111111111,
              "#46039f"
             ],
             [
              0.2222222222222222,
              "#7201a8"
             ],
             [
              0.3333333333333333,
              "#9c179e"
             ],
             [
              0.4444444444444444,
              "#bd3786"
             ],
             [
              0.5555555555555556,
              "#d8576b"
             ],
             [
              0.6666666666666666,
              "#ed7953"
             ],
             [
              0.7777777777777778,
              "#fb9f3a"
             ],
             [
              0.8888888888888888,
              "#fdca26"
             ],
             [
              1,
              "#f0f921"
             ]
            ],
            "type": "heatmapgl"
           }
          ],
          "histogram": [
           {
            "marker": {
             "colorbar": {
              "outlinewidth": 0,
              "ticks": ""
             }
            },
            "type": "histogram"
           }
          ],
          "histogram2d": [
           {
            "colorbar": {
             "outlinewidth": 0,
             "ticks": ""
            },
            "colorscale": [
             [
              0,
              "#0d0887"
             ],
             [
              0.1111111111111111,
              "#46039f"
             ],
             [
              0.2222222222222222,
              "#7201a8"
             ],
             [
              0.3333333333333333,
              "#9c179e"
             ],
             [
              0.4444444444444444,
              "#bd3786"
             ],
             [
              0.5555555555555556,
              "#d8576b"
             ],
             [
              0.6666666666666666,
              "#ed7953"
             ],
             [
              0.7777777777777778,
              "#fb9f3a"
             ],
             [
              0.8888888888888888,
              "#fdca26"
             ],
             [
              1,
              "#f0f921"
             ]
            ],
            "type": "histogram2d"
           }
          ],
          "histogram2dcontour": [
           {
            "colorbar": {
             "outlinewidth": 0,
             "ticks": ""
            },
            "colorscale": [
             [
              0,
              "#0d0887"
             ],
             [
              0.1111111111111111,
              "#46039f"
             ],
             [
              0.2222222222222222,
              "#7201a8"
             ],
             [
              0.3333333333333333,
              "#9c179e"
             ],
             [
              0.4444444444444444,
              "#bd3786"
             ],
             [
              0.5555555555555556,
              "#d8576b"
             ],
             [
              0.6666666666666666,
              "#ed7953"
             ],
             [
              0.7777777777777778,
              "#fb9f3a"
             ],
             [
              0.8888888888888888,
              "#fdca26"
             ],
             [
              1,
              "#f0f921"
             ]
            ],
            "type": "histogram2dcontour"
           }
          ],
          "mesh3d": [
           {
            "colorbar": {
             "outlinewidth": 0,
             "ticks": ""
            },
            "type": "mesh3d"
           }
          ],
          "parcoords": [
           {
            "line": {
             "colorbar": {
              "outlinewidth": 0,
              "ticks": ""
             }
            },
            "type": "parcoords"
           }
          ],
          "scatter": [
           {
            "marker": {
             "colorbar": {
              "outlinewidth": 0,
              "ticks": ""
             }
            },
            "type": "scatter"
           }
          ],
          "scatter3d": [
           {
            "line": {
             "colorbar": {
              "outlinewidth": 0,
              "ticks": ""
             }
            },
            "marker": {
             "colorbar": {
              "outlinewidth": 0,
              "ticks": ""
             }
            },
            "type": "scatter3d"
           }
          ],
          "scattercarpet": [
           {
            "marker": {
             "colorbar": {
              "outlinewidth": 0,
              "ticks": ""
             }
            },
            "type": "scattercarpet"
           }
          ],
          "scattergeo": [
           {
            "marker": {
             "colorbar": {
              "outlinewidth": 0,
              "ticks": ""
             }
            },
            "type": "scattergeo"
           }
          ],
          "scattergl": [
           {
            "marker": {
             "colorbar": {
              "outlinewidth": 0,
              "ticks": ""
             }
            },
            "type": "scattergl"
           }
          ],
          "scattermapbox": [
           {
            "marker": {
             "colorbar": {
              "outlinewidth": 0,
              "ticks": ""
             }
            },
            "type": "scattermapbox"
           }
          ],
          "scatterpolar": [
           {
            "marker": {
             "colorbar": {
              "outlinewidth": 0,
              "ticks": ""
             }
            },
            "type": "scatterpolar"
           }
          ],
          "scatterpolargl": [
           {
            "marker": {
             "colorbar": {
              "outlinewidth": 0,
              "ticks": ""
             }
            },
            "type": "scatterpolargl"
           }
          ],
          "scatterternary": [
           {
            "marker": {
             "colorbar": {
              "outlinewidth": 0,
              "ticks": ""
             }
            },
            "type": "scatterternary"
           }
          ],
          "surface": [
           {
            "colorbar": {
             "outlinewidth": 0,
             "ticks": ""
            },
            "colorscale": [
             [
              0,
              "#0d0887"
             ],
             [
              0.1111111111111111,
              "#46039f"
             ],
             [
              0.2222222222222222,
              "#7201a8"
             ],
             [
              0.3333333333333333,
              "#9c179e"
             ],
             [
              0.4444444444444444,
              "#bd3786"
             ],
             [
              0.5555555555555556,
              "#d8576b"
             ],
             [
              0.6666666666666666,
              "#ed7953"
             ],
             [
              0.7777777777777778,
              "#fb9f3a"
             ],
             [
              0.8888888888888888,
              "#fdca26"
             ],
             [
              1,
              "#f0f921"
             ]
            ],
            "type": "surface"
           }
          ],
          "table": [
           {
            "cells": {
             "fill": {
              "color": "#EBF0F8"
             },
             "line": {
              "color": "white"
             }
            },
            "header": {
             "fill": {
              "color": "#C8D4E3"
             },
             "line": {
              "color": "white"
             }
            },
            "type": "table"
           }
          ]
         },
         "layout": {
          "annotationdefaults": {
           "arrowcolor": "#2a3f5f",
           "arrowhead": 0,
           "arrowwidth": 1
          },
          "colorscale": {
           "diverging": [
            [
             0,
             "#8e0152"
            ],
            [
             0.1,
             "#c51b7d"
            ],
            [
             0.2,
             "#de77ae"
            ],
            [
             0.3,
             "#f1b6da"
            ],
            [
             0.4,
             "#fde0ef"
            ],
            [
             0.5,
             "#f7f7f7"
            ],
            [
             0.6,
             "#e6f5d0"
            ],
            [
             0.7,
             "#b8e186"
            ],
            [
             0.8,
             "#7fbc41"
            ],
            [
             0.9,
             "#4d9221"
            ],
            [
             1,
             "#276419"
            ]
           ],
           "sequential": [
            [
             0,
             "#0d0887"
            ],
            [
             0.1111111111111111,
             "#46039f"
            ],
            [
             0.2222222222222222,
             "#7201a8"
            ],
            [
             0.3333333333333333,
             "#9c179e"
            ],
            [
             0.4444444444444444,
             "#bd3786"
            ],
            [
             0.5555555555555556,
             "#d8576b"
            ],
            [
             0.6666666666666666,
             "#ed7953"
            ],
            [
             0.7777777777777778,
             "#fb9f3a"
            ],
            [
             0.8888888888888888,
             "#fdca26"
            ],
            [
             1,
             "#f0f921"
            ]
           ],
           "sequentialminus": [
            [
             0,
             "#0d0887"
            ],
            [
             0.1111111111111111,
             "#46039f"
            ],
            [
             0.2222222222222222,
             "#7201a8"
            ],
            [
             0.3333333333333333,
             "#9c179e"
            ],
            [
             0.4444444444444444,
             "#bd3786"
            ],
            [
             0.5555555555555556,
             "#d8576b"
            ],
            [
             0.6666666666666666,
             "#ed7953"
            ],
            [
             0.7777777777777778,
             "#fb9f3a"
            ],
            [
             0.8888888888888888,
             "#fdca26"
            ],
            [
             1,
             "#f0f921"
            ]
           ]
          },
          "colorway": [
           "#636efa",
           "#EF553B",
           "#00cc96",
           "#ab63fa",
           "#FFA15A",
           "#19d3f3",
           "#FF6692",
           "#B6E880",
           "#FF97FF",
           "#FECB52"
          ],
          "font": {
           "color": "#2a3f5f"
          },
          "geo": {
           "bgcolor": "white",
           "lakecolor": "white",
           "landcolor": "#E5ECF6",
           "showlakes": true,
           "showland": true,
           "subunitcolor": "white"
          },
          "hoverlabel": {
           "align": "left"
          },
          "hovermode": "closest",
          "mapbox": {
           "style": "light"
          },
          "paper_bgcolor": "white",
          "plot_bgcolor": "#E5ECF6",
          "polar": {
           "angularaxis": {
            "gridcolor": "white",
            "linecolor": "white",
            "ticks": ""
           },
           "bgcolor": "#E5ECF6",
           "radialaxis": {
            "gridcolor": "white",
            "linecolor": "white",
            "ticks": ""
           }
          },
          "scene": {
           "xaxis": {
            "backgroundcolor": "#E5ECF6",
            "gridcolor": "white",
            "gridwidth": 2,
            "linecolor": "white",
            "showbackground": true,
            "ticks": "",
            "zerolinecolor": "white"
           },
           "yaxis": {
            "backgroundcolor": "#E5ECF6",
            "gridcolor": "white",
            "gridwidth": 2,
            "linecolor": "white",
            "showbackground": true,
            "ticks": "",
            "zerolinecolor": "white"
           },
           "zaxis": {
            "backgroundcolor": "#E5ECF6",
            "gridcolor": "white",
            "gridwidth": 2,
            "linecolor": "white",
            "showbackground": true,
            "ticks": "",
            "zerolinecolor": "white"
           }
          },
          "shapedefaults": {
           "line": {
            "color": "#2a3f5f"
           }
          },
          "ternary": {
           "aaxis": {
            "gridcolor": "white",
            "linecolor": "white",
            "ticks": ""
           },
           "baxis": {
            "gridcolor": "white",
            "linecolor": "white",
            "ticks": ""
           },
           "bgcolor": "#E5ECF6",
           "caxis": {
            "gridcolor": "white",
            "linecolor": "white",
            "ticks": ""
           }
          },
          "title": {
           "x": 0.05
          },
          "xaxis": {
           "automargin": true,
           "gridcolor": "white",
           "linecolor": "white",
           "ticks": "",
           "zerolinecolor": "white",
           "zerolinewidth": 2
          },
          "yaxis": {
           "automargin": true,
           "gridcolor": "white",
           "linecolor": "white",
           "ticks": "",
           "zerolinecolor": "white",
           "zerolinewidth": 2
          }
         }
        },
        "xaxis": {
         "anchor": "y",
         "domain": [
          0,
          0.45
         ],
         "title": {
          "text": "mds_x"
         }
        },
        "xaxis2": {
         "anchor": "y2",
         "domain": [
          0.55,
          1
         ],
         "title": {
          "text": "mds_x"
         }
        },
        "yaxis": {
         "anchor": "x",
         "domain": [
          0,
          1
         ],
         "title": {
          "text": "mds_y"
         }
        },
        "yaxis2": {
         "anchor": "x2",
         "domain": [
          0,
          1
         ],
         "title": {
          "text": "mds_y"
         }
        }
       }
      },
      "text/html": [
       "<div>\n",
       "        \n",
       "        \n",
       "            <div id=\"eb566247-f408-487c-8384-329a0b1b8991\" class=\"plotly-graph-div\" style=\"height:525px; width:100%;\"></div>\n",
       "            <script type=\"text/javascript\">\n",
       "                require([\"plotly\"], function(Plotly) {\n",
       "                    window.PLOTLYENV=window.PLOTLYENV || {};\n",
       "                    \n",
       "                if (document.getElementById(\"eb566247-f408-487c-8384-329a0b1b8991\")) {\n",
       "                    Plotly.newPlot(\n",
       "                        'eb566247-f408-487c-8384-329a0b1b8991',\n",
       "                        [{\"line\": {\"color\": \"#1f77b4\"}, \"marker\": {\"opacity\": 0.5, \"size\": 17}, \"mode\": \"markers+text\", \"name\": \"acidic\", \"showlegend\": true, \"text\": [\"D\", \"E\"], \"type\": \"scatter\", \"x\": [-4.857035942844682, -7.982763967964567], \"xaxis\": \"x\", \"y\": [9.96768829165658, 5.138160974230173], \"yaxis\": \"y\"}, {\"line\": {\"color\": \"#ff7f0e\"}, \"marker\": {\"opacity\": 0.5, \"size\": 17}, \"mode\": \"markers+text\", \"name\": \"aliphatic\", \"showlegend\": true, \"text\": [\"A\", \"I\", \"L\", \"V\"], \"type\": \"scatter\", \"x\": [4.2169312573630515, 8.932557533255558, 6.938946278940441, 7.954035214756148], \"xaxis\": \"x\", \"y\": [2.9055487950946453, -5.167444355074856, -5.947516746221366, -3.0809150660499904], \"yaxis\": \"y\"}, {\"line\": {\"color\": \"#2ca02c\"}, \"marker\": {\"opacity\": 0.5, \"size\": 17}, \"mode\": \"markers+text\", \"name\": \"amide\", \"showlegend\": true, \"text\": [\"N\", \"Q\"], \"type\": \"scatter\", \"x\": [-6.056066383792468, -5.459365011597615], \"xaxis\": \"x\", \"y\": [7.535139022759854, 2.8047925961612066], \"yaxis\": \"y\"}, {\"line\": {\"color\": \"#d62728\"}, \"marker\": {\"opacity\": 0.5, \"size\": 17}, \"mode\": \"markers+text\", \"name\": \"aromatic\", \"showlegend\": true, \"text\": [\"F\", \"W\", \"Y\"], \"type\": \"scatter\", \"x\": [2.170905757541359, -2.730349141631809, -3.396020752323085], \"xaxis\": \"x\", \"y\": [-10.62804370036472, -15.701152899825459, -9.927008000737297], \"yaxis\": \"y\"}, {\"line\": {\"color\": \"#9467bd\"}, \"marker\": {\"opacity\": 0.5, \"size\": 17}, \"mode\": \"markers+text\", \"name\": \"basic\", \"showlegend\": true, \"text\": [\"H\", \"K\", \"R\"], \"type\": \"scatter\", \"x\": [-10.38143530637689, -6.758908541358281, -6.715675193936615], \"xaxis\": \"x\", \"y\": [-3.444963093779822, 2.1414063916458654, 0.22492312325186303], \"yaxis\": \"y\"}, {\"line\": {\"color\": \"#8c564b\"}, \"marker\": {\"opacity\": 0.5, \"size\": 17}, \"mode\": \"markers+text\", \"name\": \"G\", \"showlegend\": true, \"text\": [\"G\"], \"type\": \"scatter\", \"x\": [4.583823243539626], \"xaxis\": \"x\", \"y\": [9.302444851759617], \"yaxis\": \"y\"}, {\"line\": {\"color\": \"#e377c2\"}, \"marker\": {\"opacity\": 0.5, \"size\": 17}, \"mode\": \"markers+text\", \"name\": \"hydroxyl\", \"showlegend\": true, \"text\": [\"S\", \"T\"], \"type\": \"scatter\", \"x\": [-0.5226852801423062, 1.7225633778481786], \"xaxis\": \"x\", \"y\": [4.615963773893877, 1.5523728622711779], \"yaxis\": \"y\"}, {\"line\": {\"color\": \"#7f7f7f\"}, \"marker\": {\"opacity\": 0.5, \"size\": 17}, \"mode\": \"markers+text\", \"name\": \"P\", \"showlegend\": true, \"text\": [\"P\"], \"type\": \"scatter\", \"x\": [1.3668034493339696], \"xaxis\": \"x\", \"y\": [10.698742738061481], \"yaxis\": \"y\"}, {\"line\": {\"color\": \"#bcbd22\"}, \"marker\": {\"opacity\": 0.5, \"size\": 17}, \"mode\": \"markers+text\", \"name\": \"sulfur\", \"showlegend\": true, \"text\": [\"C\", \"M\"], \"type\": \"scatter\", \"x\": [13.018635956054167, 3.9551034533358185], \"xaxis\": \"x\", \"y\": [1.7242531199232596, -4.714392678656076], \"yaxis\": \"y\"}, {\"line\": {\"color\": \"#1f77b4\"}, \"marker\": {\"opacity\": 0.5, \"size\": 17}, \"mode\": \"markers+text\", \"name\": \"acidic\", \"showlegend\": false, \"text\": [\"D\", \"E\"], \"type\": \"scatter\", \"x\": [-5.601001823422605, -5.118472272909489], \"xaxis\": \"x2\", \"y\": [5.355155045844651, 6.1972430571201675], \"yaxis\": \"y2\"}, {\"line\": {\"color\": \"#ff7f0e\"}, \"marker\": {\"opacity\": 0.5, \"size\": 17}, \"mode\": \"markers+text\", \"name\": \"aliphatic\", \"showlegend\": false, \"text\": [\"A\", \"I\", \"L\", \"V\"], \"type\": \"scatter\", \"x\": [3.815993151899603, 7.428483802422822, 2.6053932381286713, -0.5768063557633234], \"xaxis\": \"x2\", \"y\": [6.569673000662812, -6.604548742648466, -5.200958127062403, -0.6220918733789916], \"yaxis\": \"y2\"}, {\"line\": {\"color\": \"#2ca02c\"}, \"marker\": {\"opacity\": 0.5, \"size\": 17}, \"mode\": \"markers+text\", \"name\": \"amide\", \"showlegend\": false, \"text\": [\"N\", \"Q\"], \"type\": \"scatter\", \"x\": [-3.4353960762687423, -1.6740706088325983], \"xaxis\": \"x2\", \"y\": [7.121047632043248, 0.7484254382830513], \"yaxis\": \"y2\"}, {\"line\": {\"color\": \"#d62728\"}, \"marker\": {\"opacity\": 0.5, \"size\": 17}, \"mode\": \"markers+text\", \"name\": \"aromatic\", \"showlegend\": false, \"text\": [\"F\", \"W\", \"Y\"], \"type\": \"scatter\", \"x\": [0.5426290418542911, 0.6002485126182753, -6.291998466951566], \"xaxis\": \"x2\", \"y\": [-5.917734880769295, -0.6715274155543894, 2.0613362955556798], \"yaxis\": \"y2\"}, {\"line\": {\"color\": \"#9467bd\"}, \"marker\": {\"opacity\": 0.5, \"size\": 17}, \"mode\": \"markers+text\", \"name\": \"basic\", \"showlegend\": false, \"text\": [\"H\", \"K\", \"R\"], \"type\": \"scatter\", \"x\": [-4.025594835666137, 5.467377855534028, -6.393665424250663], \"xaxis\": \"x2\", \"y\": [0.04273266728568812, -1.9279630753998924, -8.858930875995975], \"yaxis\": \"y2\"}, {\"line\": {\"color\": \"#8c564b\"}, \"marker\": {\"opacity\": 0.5, \"size\": 17}, \"mode\": \"markers+text\", \"name\": \"G\", \"showlegend\": false, \"text\": [\"G\"], \"type\": \"scatter\", \"x\": [0.45705195685664296], \"xaxis\": \"x2\", \"y\": [3.313048136260659], \"yaxis\": \"y2\"}, {\"line\": {\"color\": \"#e377c2\"}, \"marker\": {\"opacity\": 0.5, \"size\": 17}, \"mode\": \"markers+text\", \"name\": \"hydroxyl\", \"showlegend\": false, \"text\": [\"S\", \"T\"], \"type\": \"scatter\", \"x\": [5.523016645274323, -0.31972083744890495], \"xaxis\": \"x2\", \"y\": [4.961756817790908, 0.17359294049792348], \"yaxis\": \"y2\"}, {\"line\": {\"color\": \"#7f7f7f\"}, \"marker\": {\"opacity\": 0.5, \"size\": 17}, \"mode\": \"markers+text\", \"name\": \"P\", \"showlegend\": false, \"text\": [\"P\"], \"type\": \"scatter\", \"x\": [6.235395591589856], \"xaxis\": \"x2\", \"y\": [-4.546977246197517], \"yaxis\": \"y2\"}, {\"line\": {\"color\": \"#bcbd22\"}, \"marker\": {\"opacity\": 0.5, \"size\": 17}, \"mode\": \"markers+text\", \"name\": \"sulfur\", \"showlegend\": false, \"text\": [\"C\", \"M\"], \"type\": \"scatter\", \"x\": [-8.285645318689228, 9.046782224024751], \"xaxis\": \"x2\", \"y\": [3.4511335920622175, -5.644412386400072], \"yaxis\": \"y2\"}],\n",
       "                        {\"annotations\": [{\"font\": {\"size\": 16}, \"showarrow\": false, \"text\": \"BLOSUM62\", \"x\": 0.225, \"xanchor\": \"center\", \"xref\": \"paper\", \"y\": 1.0, \"yanchor\": \"bottom\", \"yref\": \"paper\"}, {\"font\": {\"size\": 16}, \"showarrow\": false, \"text\": \"HomoSapiens, TRB, GILGFVFTL, 14\", \"x\": 0.775, \"xanchor\": \"center\", \"xref\": \"paper\", \"y\": 1.0, \"yanchor\": \"bottom\", \"yref\": \"paper\"}], \"plot_bgcolor\": \"rgb(248,248,248)\", \"template\": {\"data\": {\"bar\": [{\"error_x\": {\"color\": \"#2a3f5f\"}, \"error_y\": {\"color\": \"#2a3f5f\"}, \"marker\": {\"line\": {\"color\": \"#E5ECF6\", \"width\": 0.5}}, \"type\": \"bar\"}], \"barpolar\": [{\"marker\": {\"line\": {\"color\": \"#E5ECF6\", \"width\": 0.5}}, \"type\": \"barpolar\"}], \"carpet\": [{\"aaxis\": {\"endlinecolor\": \"#2a3f5f\", \"gridcolor\": \"white\", \"linecolor\": \"white\", \"minorgridcolor\": \"white\", \"startlinecolor\": \"#2a3f5f\"}, \"baxis\": {\"endlinecolor\": \"#2a3f5f\", \"gridcolor\": \"white\", \"linecolor\": \"white\", \"minorgridcolor\": \"white\", \"startlinecolor\": \"#2a3f5f\"}, \"type\": \"carpet\"}], \"choropleth\": [{\"colorbar\": {\"outlinewidth\": 0, \"ticks\": \"\"}, \"type\": \"choropleth\"}], \"contour\": [{\"colorbar\": {\"outlinewidth\": 0, \"ticks\": \"\"}, \"colorscale\": [[0.0, \"#0d0887\"], [0.1111111111111111, \"#46039f\"], [0.2222222222222222, \"#7201a8\"], [0.3333333333333333, \"#9c179e\"], [0.4444444444444444, \"#bd3786\"], [0.5555555555555556, \"#d8576b\"], [0.6666666666666666, \"#ed7953\"], [0.7777777777777778, \"#fb9f3a\"], [0.8888888888888888, \"#fdca26\"], [1.0, \"#f0f921\"]], \"type\": \"contour\"}], \"contourcarpet\": [{\"colorbar\": {\"outlinewidth\": 0, \"ticks\": \"\"}, \"type\": \"contourcarpet\"}], \"heatmap\": [{\"colorbar\": {\"outlinewidth\": 0, \"ticks\": \"\"}, \"colorscale\": [[0.0, \"#0d0887\"], [0.1111111111111111, \"#46039f\"], [0.2222222222222222, \"#7201a8\"], [0.3333333333333333, \"#9c179e\"], [0.4444444444444444, \"#bd3786\"], [0.5555555555555556, \"#d8576b\"], [0.6666666666666666, \"#ed7953\"], [0.7777777777777778, \"#fb9f3a\"], [0.8888888888888888, \"#fdca26\"], [1.0, \"#f0f921\"]], \"type\": \"heatmap\"}], \"heatmapgl\": [{\"colorbar\": {\"outlinewidth\": 0, \"ticks\": \"\"}, \"colorscale\": [[0.0, \"#0d0887\"], [0.1111111111111111, \"#46039f\"], [0.2222222222222222, \"#7201a8\"], [0.3333333333333333, \"#9c179e\"], [0.4444444444444444, \"#bd3786\"], [0.5555555555555556, \"#d8576b\"], [0.6666666666666666, \"#ed7953\"], [0.7777777777777778, \"#fb9f3a\"], [0.8888888888888888, \"#fdca26\"], [1.0, \"#f0f921\"]], \"type\": \"heatmapgl\"}], \"histogram\": [{\"marker\": {\"colorbar\": {\"outlinewidth\": 0, \"ticks\": \"\"}}, \"type\": \"histogram\"}], \"histogram2d\": [{\"colorbar\": {\"outlinewidth\": 0, \"ticks\": \"\"}, \"colorscale\": [[0.0, \"#0d0887\"], [0.1111111111111111, \"#46039f\"], [0.2222222222222222, \"#7201a8\"], [0.3333333333333333, \"#9c179e\"], [0.4444444444444444, \"#bd3786\"], [0.5555555555555556, \"#d8576b\"], [0.6666666666666666, \"#ed7953\"], [0.7777777777777778, \"#fb9f3a\"], [0.8888888888888888, \"#fdca26\"], [1.0, \"#f0f921\"]], \"type\": \"histogram2d\"}], \"histogram2dcontour\": [{\"colorbar\": {\"outlinewidth\": 0, \"ticks\": \"\"}, \"colorscale\": [[0.0, \"#0d0887\"], [0.1111111111111111, \"#46039f\"], [0.2222222222222222, \"#7201a8\"], [0.3333333333333333, \"#9c179e\"], [0.4444444444444444, \"#bd3786\"], [0.5555555555555556, \"#d8576b\"], [0.6666666666666666, \"#ed7953\"], [0.7777777777777778, \"#fb9f3a\"], [0.8888888888888888, \"#fdca26\"], [1.0, \"#f0f921\"]], \"type\": \"histogram2dcontour\"}], \"mesh3d\": [{\"colorbar\": {\"outlinewidth\": 0, \"ticks\": \"\"}, \"type\": \"mesh3d\"}], \"parcoords\": [{\"line\": {\"colorbar\": {\"outlinewidth\": 0, \"ticks\": \"\"}}, \"type\": \"parcoords\"}], \"scatter\": [{\"marker\": {\"colorbar\": {\"outlinewidth\": 0, \"ticks\": \"\"}}, \"type\": \"scatter\"}], \"scatter3d\": [{\"line\": {\"colorbar\": {\"outlinewidth\": 0, \"ticks\": \"\"}}, \"marker\": {\"colorbar\": {\"outlinewidth\": 0, \"ticks\": \"\"}}, \"type\": \"scatter3d\"}], \"scattercarpet\": [{\"marker\": {\"colorbar\": {\"outlinewidth\": 0, \"ticks\": \"\"}}, \"type\": \"scattercarpet\"}], \"scattergeo\": [{\"marker\": {\"colorbar\": {\"outlinewidth\": 0, \"ticks\": \"\"}}, \"type\": \"scattergeo\"}], \"scattergl\": [{\"marker\": {\"colorbar\": {\"outlinewidth\": 0, \"ticks\": \"\"}}, \"type\": \"scattergl\"}], \"scattermapbox\": [{\"marker\": {\"colorbar\": {\"outlinewidth\": 0, \"ticks\": \"\"}}, \"type\": \"scattermapbox\"}], \"scatterpolar\": [{\"marker\": {\"colorbar\": {\"outlinewidth\": 0, \"ticks\": \"\"}}, \"type\": \"scatterpolar\"}], \"scatterpolargl\": [{\"marker\": {\"colorbar\": {\"outlinewidth\": 0, \"ticks\": \"\"}}, \"type\": \"scatterpolargl\"}], \"scatterternary\": [{\"marker\": {\"colorbar\": {\"outlinewidth\": 0, \"ticks\": \"\"}}, \"type\": \"scatterternary\"}], \"surface\": [{\"colorbar\": {\"outlinewidth\": 0, \"ticks\": \"\"}, \"colorscale\": [[0.0, \"#0d0887\"], [0.1111111111111111, \"#46039f\"], [0.2222222222222222, \"#7201a8\"], [0.3333333333333333, \"#9c179e\"], [0.4444444444444444, \"#bd3786\"], [0.5555555555555556, \"#d8576b\"], [0.6666666666666666, \"#ed7953\"], [0.7777777777777778, \"#fb9f3a\"], [0.8888888888888888, \"#fdca26\"], [1.0, \"#f0f921\"]], \"type\": \"surface\"}], \"table\": [{\"cells\": {\"fill\": {\"color\": \"#EBF0F8\"}, \"line\": {\"color\": \"white\"}}, \"header\": {\"fill\": {\"color\": \"#C8D4E3\"}, \"line\": {\"color\": \"white\"}}, \"type\": \"table\"}]}, \"layout\": {\"annotationdefaults\": {\"arrowcolor\": \"#2a3f5f\", \"arrowhead\": 0, \"arrowwidth\": 1}, \"colorscale\": {\"diverging\": [[0, \"#8e0152\"], [0.1, \"#c51b7d\"], [0.2, \"#de77ae\"], [0.3, \"#f1b6da\"], [0.4, \"#fde0ef\"], [0.5, \"#f7f7f7\"], [0.6, \"#e6f5d0\"], [0.7, \"#b8e186\"], [0.8, \"#7fbc41\"], [0.9, \"#4d9221\"], [1, \"#276419\"]], \"sequential\": [[0.0, \"#0d0887\"], [0.1111111111111111, \"#46039f\"], [0.2222222222222222, \"#7201a8\"], [0.3333333333333333, \"#9c179e\"], [0.4444444444444444, \"#bd3786\"], [0.5555555555555556, \"#d8576b\"], [0.6666666666666666, \"#ed7953\"], [0.7777777777777778, \"#fb9f3a\"], [0.8888888888888888, \"#fdca26\"], [1.0, \"#f0f921\"]], \"sequentialminus\": [[0.0, \"#0d0887\"], [0.1111111111111111, \"#46039f\"], [0.2222222222222222, \"#7201a8\"], [0.3333333333333333, \"#9c179e\"], [0.4444444444444444, \"#bd3786\"], [0.5555555555555556, \"#d8576b\"], [0.6666666666666666, \"#ed7953\"], [0.7777777777777778, \"#fb9f3a\"], [0.8888888888888888, \"#fdca26\"], [1.0, \"#f0f921\"]]}, \"colorway\": [\"#636efa\", \"#EF553B\", \"#00cc96\", \"#ab63fa\", \"#FFA15A\", \"#19d3f3\", \"#FF6692\", \"#B6E880\", \"#FF97FF\", \"#FECB52\"], \"font\": {\"color\": \"#2a3f5f\"}, \"geo\": {\"bgcolor\": \"white\", \"lakecolor\": \"white\", \"landcolor\": \"#E5ECF6\", \"showlakes\": true, \"showland\": true, \"subunitcolor\": \"white\"}, \"hoverlabel\": {\"align\": \"left\"}, \"hovermode\": \"closest\", \"mapbox\": {\"style\": \"light\"}, \"paper_bgcolor\": \"white\", \"plot_bgcolor\": \"#E5ECF6\", \"polar\": {\"angularaxis\": {\"gridcolor\": \"white\", \"linecolor\": \"white\", \"ticks\": \"\"}, \"bgcolor\": \"#E5ECF6\", \"radialaxis\": {\"gridcolor\": \"white\", \"linecolor\": \"white\", \"ticks\": \"\"}}, \"scene\": {\"xaxis\": {\"backgroundcolor\": \"#E5ECF6\", \"gridcolor\": \"white\", \"gridwidth\": 2, \"linecolor\": \"white\", \"showbackground\": true, \"ticks\": \"\", \"zerolinecolor\": \"white\"}, \"yaxis\": {\"backgroundcolor\": \"#E5ECF6\", \"gridcolor\": \"white\", \"gridwidth\": 2, \"linecolor\": \"white\", \"showbackground\": true, \"ticks\": \"\", \"zerolinecolor\": \"white\"}, \"zaxis\": {\"backgroundcolor\": \"#E5ECF6\", \"gridcolor\": \"white\", \"gridwidth\": 2, \"linecolor\": \"white\", \"showbackground\": true, \"ticks\": \"\", \"zerolinecolor\": \"white\"}}, \"shapedefaults\": {\"line\": {\"color\": \"#2a3f5f\"}}, \"ternary\": {\"aaxis\": {\"gridcolor\": \"white\", \"linecolor\": \"white\", \"ticks\": \"\"}, \"baxis\": {\"gridcolor\": \"white\", \"linecolor\": \"white\", \"ticks\": \"\"}, \"bgcolor\": \"#E5ECF6\", \"caxis\": {\"gridcolor\": \"white\", \"linecolor\": \"white\", \"ticks\": \"\"}}, \"title\": {\"x\": 0.05}, \"xaxis\": {\"automargin\": true, \"gridcolor\": \"white\", \"linecolor\": \"white\", \"ticks\": \"\", \"zerolinecolor\": \"white\", \"zerolinewidth\": 2}, \"yaxis\": {\"automargin\": true, \"gridcolor\": \"white\", \"linecolor\": \"white\", \"ticks\": \"\", \"zerolinecolor\": \"white\", \"zerolinewidth\": 2}}}, \"xaxis\": {\"anchor\": \"y\", \"domain\": [0.0, 0.45], \"title\": {\"text\": \"mds_x\"}}, \"xaxis2\": {\"anchor\": \"y2\", \"domain\": [0.55, 1.0], \"title\": {\"text\": \"mds_x\"}}, \"yaxis\": {\"anchor\": \"x\", \"domain\": [0.0, 1.0], \"title\": {\"text\": \"mds_y\"}}, \"yaxis2\": {\"anchor\": \"x2\", \"domain\": [0.0, 1.0], \"title\": {\"text\": \"mds_y\"}}},\n",
       "                        {\"responsive\": true}\n",
       "                    ).then(function(){\n",
       "                            \n",
       "var gd = document.getElementById('eb566247-f408-487c-8384-329a0b1b8991');\n",
       "var x = new MutationObserver(function (mutations, observer) {{\n",
       "        var display = window.getComputedStyle(gd).display;\n",
       "        if (!display || display === 'none') {{\n",
       "            console.log([gd, 'removed!']);\n",
       "            Plotly.purge(gd);\n",
       "            observer.disconnect();\n",
       "        }}\n",
       "}});\n",
       "\n",
       "// Listen for the removal of the full notebook cells\n",
       "var notebookContainer = gd.closest('#notebook-container');\n",
       "if (notebookContainer) {{\n",
       "    x.observe(notebookContainer, {childList: true});\n",
       "}}\n",
       "\n",
       "// Listen for the clearing of the current output cell\n",
       "var outputEl = gd.closest('.output');\n",
       "if (outputEl) {{\n",
       "    x.observe(outputEl, {childList: true});\n",
       "}}\n",
       "\n",
       "                        })\n",
       "                };\n",
       "                });\n",
       "            </script>\n",
       "        </div>"
      ]
     },
     "metadata": {},
     "output_type": "display_data"
    }
   ],
   "source": [
    "plot_mds_IMGT([(blosum62, 1, 1), (M1, 1, 2)], rows=1, cols=2,\n",
    "              titles=['BLOSUM62', 'HomoSapiens, TRB, GILGFVFTL, 14'])"
   ]
  },
  {
   "cell_type": "markdown",
   "metadata": {},
   "source": [
    "## Compare HomoSapiens TRA/TRB matrices"
   ]
  },
  {
   "cell_type": "code",
   "execution_count": 498,
   "metadata": {},
   "outputs": [],
   "source": [
    "tra_matrices = []\n",
    "tra_matrices_samples_n = []\n",
    "tra_epitopes = good_epitopes[(good_epitopes.species == 'HomoSapiens') & (good_epitopes.gene == 'TRA')].values\n",
    "for species, chain, epitope, e_len, n_samples in tra_epitopes:\n",
    "    tra_matrices.append(matrices[(species, chain, epitope, e_len)])\n",
    "    tra_matrices_samples_n.append(n_samples)\n",
    "\n",
    "trb_matrices = []\n",
    "trb_matrices_samples_n = []\n",
    "trb_epitopes = good_epitopes[(good_epitopes.species == 'HomoSapiens') & (good_epitopes.gene == 'TRB')].values\n",
    "for species, chain, epitope, e_len, n_samples in trb_epitopes:\n",
    "    trb_matrices.append(matrices[(species, chain, epitope, e_len)])\n",
    "    trb_matrices_samples_n.append(n_samples)"
   ]
  },
  {
   "cell_type": "markdown",
   "metadata": {},
   "source": [
    "Average matrices values"
   ]
  },
  {
   "cell_type": "code",
   "execution_count": 499,
   "metadata": {},
   "outputs": [],
   "source": [
    "avg_tra_matrix = pd.DataFrame(index=AMINO_ACIDS, columns=AMINO_ACIDS).fillna(0)\n",
    "for matrix in tra_matrices:\n",
    "    avg_tra_matrix += matrix\n",
    "avg_tra_matrix = (avg_tra_matrix / len(tra_matrices)).round()\n",
    "\n",
    "avg_trb_matrix = pd.DataFrame(index=AMINO_ACIDS, columns=AMINO_ACIDS).fillna(0)\n",
    "for matrix in trb_matrices:\n",
    "    avg_trb_matrix += matrix\n",
    "avg_trb_matrix = (avg_trb_matrix / len(trb_matrices)).round()"
   ]
  },
  {
   "cell_type": "code",
   "execution_count": 500,
   "metadata": {},
   "outputs": [
    {
     "name": "stdout",
     "output_type": "stream",
     "text": [
      "Spearman correlation\n",
      "TRA vs TRB: SpearmanrResult(correlation=0.3630255512952816, pvalue=6.62953549816995e-14)\n",
      "TRA vs BLOSUM62: SpearmanrResult(correlation=0.24432353743606133, pvalue=7.562225818168715e-07)\n",
      "TRB vs BLOSUM62: SpearmanrResult(correlation=0.221479715218314, pvalue=7.771525599360681e-06)\n",
      "\n",
      "Pearson correlation\n",
      "TRA vs TRB: (0.4601860769226917, 2.336927394892734e-22)\n",
      "TRA vs BLOSUM62: (0.43572905891297864, 5.773886013234608e-20)\n",
      "TRB vs BLOSUM62: (0.5018257708367269, 6.670613164762445e-27)\n"
     ]
    }
   ],
   "source": [
    "print(\"Spearman correlation\")\n",
    "print(f\"TRA vs TRB: {spearman_corr(avg_tra_matrix, avg_trb_matrix)}\")\n",
    "print(f\"TRA vs BLOSUM62: {spearman_corr(avg_tra_matrix, blosum62)}\")\n",
    "print(f\"TRB vs BLOSUM62: {spearman_corr(avg_trb_matrix, blosum62)}\")\n",
    "print()\n",
    "print(\"Pearson correlation\")\n",
    "print(f\"TRA vs TRB: {pearson_corr(avg_tra_matrix, avg_trb_matrix)}\")\n",
    "print(f\"TRA vs BLOSUM62: {pearson_corr(avg_tra_matrix, blosum62)}\")\n",
    "print(f\"TRB vs BLOSUM62: {pearson_corr(avg_trb_matrix, blosum62)}\")"
   ]
  },
  {
   "cell_type": "code",
   "execution_count": 535,
   "metadata": {},
   "outputs": [
    {
     "name": "stderr",
     "output_type": "stream",
     "text": [
      "/Users/nediolus/anaconda3/lib/python3.7/site-packages/sklearn/manifold/mds.py:421: UserWarning:\n",
      "\n",
      "The MDS API has changed. ``fit`` now constructs an dissimilarity matrix from data. To use a custom dissimilarity matrix, set ``dissimilarity='precomputed'``.\n",
      "\n",
      "/Users/nediolus/anaconda3/lib/python3.7/site-packages/sklearn/manifold/mds.py:421: UserWarning:\n",
      "\n",
      "The MDS API has changed. ``fit`` now constructs an dissimilarity matrix from data. To use a custom dissimilarity matrix, set ``dissimilarity='precomputed'``.\n",
      "\n",
      "/Users/nediolus/anaconda3/lib/python3.7/site-packages/sklearn/manifold/mds.py:421: UserWarning:\n",
      "\n",
      "The MDS API has changed. ``fit`` now constructs an dissimilarity matrix from data. To use a custom dissimilarity matrix, set ``dissimilarity='precomputed'``.\n",
      "\n"
     ]
    },
    {
     "data": {
      "application/vnd.plotly.v1+json": {
       "config": {
        "plotlyServerURL": "https://plot.ly"
       },
       "data": [
        {
         "line": {
          "color": "#1f77b4"
         },
         "marker": {
          "opacity": 0.5,
          "size": 17
         },
         "mode": "markers+text",
         "name": "acidic",
         "showlegend": true,
         "text": [
          "D",
          "E"
         ],
         "type": "scatter",
         "x": [
          -0.9544313325250663,
          -3.157081683753546
         ],
         "xaxis": "x",
         "y": [
          -11.397712274049448,
          -8.503724022419318
         ],
         "yaxis": "y"
        },
        {
         "line": {
          "color": "#ff7f0e"
         },
         "marker": {
          "opacity": 0.5,
          "size": 17
         },
         "mode": "markers+text",
         "name": "aliphatic",
         "showlegend": true,
         "text": [
          "A",
          "I",
          "L",
          "V"
         ],
         "type": "scatter",
         "x": [
          5.62050276645888,
          6.070671898169151,
          3.9898670899560607,
          6.187570166003933
         ],
         "xaxis": "x",
         "y": [
          -0.9989854407971042,
          8.492058714935197,
          8.3492439210749,
          6.121017302583352
         ],
         "yaxis": "y"
        },
        {
         "line": {
          "color": "#2ca02c"
         },
         "marker": {
          "opacity": 0.5,
          "size": 17
         },
         "mode": "markers+text",
         "name": "amide",
         "showlegend": true,
         "text": [
          "N",
          "Q"
         ],
         "type": "scatter",
         "x": [
          0.9781243025216787,
          -3.579313304457152
         ],
         "xaxis": "x",
         "y": [
          -9.629467212632214,
          -5.174011727622996
         ],
         "yaxis": "y"
        },
        {
         "line": {
          "color": "#d62728"
         },
         "marker": {
          "opacity": 0.5,
          "size": 17
         },
         "mode": "markers+text",
         "name": "aromatic",
         "showlegend": true,
         "text": [
          "F",
          "W",
          "Y"
         ],
         "type": "scatter",
         "x": [
          -2.4372094957088724,
          -10.203534862043274,
          -6.5532092193068765
         ],
         "xaxis": "x",
         "y": [
          10.682777939771137,
          12.205539664934,
          7.982465802519883
         ],
         "yaxis": "y"
        },
        {
         "line": {
          "color": "#9467bd"
         },
         "marker": {
          "opacity": 0.5,
          "size": 17
         },
         "mode": "markers+text",
         "name": "basic",
         "showlegend": true,
         "text": [
          "H",
          "K",
          "R"
         ],
         "type": "scatter",
         "x": [
          -10.238487827834678,
          -1.520941606980539,
          -4.259712015139712
         ],
         "xaxis": "x",
         "y": [
          -0.4467309077410093,
          -5.0593439170482135,
          -2.849430102169342
         ],
         "yaxis": "y"
        },
        {
         "line": {
          "color": "#8c564b"
         },
         "marker": {
          "opacity": 0.5,
          "size": 17
         },
         "mode": "markers+text",
         "name": "G",
         "showlegend": true,
         "text": [
          "G"
         ],
         "type": "scatter",
         "x": [
          -8.846632452565217
         ],
         "xaxis": "x",
         "y": [
          -6.302794204842285
         ],
         "yaxis": "y"
        },
        {
         "line": {
          "color": "#e377c2"
         },
         "marker": {
          "opacity": 0.5,
          "size": 17
         },
         "mode": "markers+text",
         "name": "hydroxyl",
         "showlegend": true,
         "text": [
          "S",
          "T"
         ],
         "type": "scatter",
         "x": [
          2.670481964334976,
          3.4657119696242575
         ],
         "xaxis": "x",
         "y": [
          -4.713248867949182,
          -0.9639402284479062
         ],
         "yaxis": "y"
        },
        {
         "line": {
          "color": "#7f7f7f"
         },
         "marker": {
          "opacity": 0.5,
          "size": 17
         },
         "mode": "markers+text",
         "name": "P",
         "showlegend": true,
         "text": [
          "P"
         ],
         "type": "scatter",
         "x": [
          8.046031681124376
         ],
         "xaxis": "x",
         "y": [
          -7.595876436855711
         ],
         "yaxis": "y"
        },
        {
         "line": {
          "color": "#bcbd22"
         },
         "marker": {
          "opacity": 0.5,
          "size": 17
         },
         "mode": "markers+text",
         "name": "sulfur",
         "showlegend": true,
         "text": [
          "C",
          "M"
         ],
         "type": "scatter",
         "x": [
          12.652618087929596,
          2.0689738741920207
         ],
         "xaxis": "x",
         "y": [
          3.8871333720443086,
          5.915028624711955
         ],
         "yaxis": "y"
        },
        {
         "line": {
          "color": "#1f77b4"
         },
         "marker": {
          "opacity": 0.5,
          "size": 17
         },
         "mode": "markers+text",
         "name": "acidic",
         "showlegend": false,
         "text": [
          "D",
          "E"
         ],
         "type": "scatter",
         "x": [
          0.9092459634969844,
          -1.4221047332806855
         ],
         "xaxis": "x2",
         "y": [
          -0.7624989394028914,
          0.39469683550423135
         ],
         "yaxis": "y2"
        },
        {
         "line": {
          "color": "#ff7f0e"
         },
         "marker": {
          "opacity": 0.5,
          "size": 17
         },
         "mode": "markers+text",
         "name": "aliphatic",
         "showlegend": false,
         "text": [
          "A",
          "I",
          "L",
          "V"
         ],
         "type": "scatter",
         "x": [
          3.28032009365348,
          -3.072322110272431,
          -4.906566593245429,
          -2.4594978235011435
         ],
         "xaxis": "x2",
         "y": [
          -0.5501322000427192,
          -1.784027838256892,
          2.0962907846150336,
          1.5010531276464494
         ],
         "yaxis": "y2"
        },
        {
         "line": {
          "color": "#2ca02c"
         },
         "marker": {
          "opacity": 0.5,
          "size": 17
         },
         "mode": "markers+text",
         "name": "amide",
         "showlegend": false,
         "text": [
          "N",
          "Q"
         ],
         "type": "scatter",
         "x": [
          5.105664188605895,
          2.6061554274423746
         ],
         "xaxis": "x2",
         "y": [
          -0.05207700043241677,
          -3.359196563790629
         ],
         "yaxis": "y2"
        },
        {
         "line": {
          "color": "#d62728"
         },
         "marker": {
          "opacity": 0.5,
          "size": 17
         },
         "mode": "markers+text",
         "name": "aromatic",
         "showlegend": false,
         "text": [
          "F",
          "W",
          "Y"
         ],
         "type": "scatter",
         "x": [
          0.6748495199773568,
          -0.5321451855860455,
          4.045642310840091
         ],
         "xaxis": "x2",
         "y": [
          3.7257259935169276,
          2.0526050844779093,
          2.247692505702527
         ],
         "yaxis": "y2"
        },
        {
         "line": {
          "color": "#9467bd"
         },
         "marker": {
          "opacity": 0.5,
          "size": 17
         },
         "mode": "markers+text",
         "name": "basic",
         "showlegend": false,
         "text": [
          "H",
          "K",
          "R"
         ],
         "type": "scatter",
         "x": [
          -1.9492275375009396,
          -1.370550120565711,
          -0.95401531018662
         ],
         "xaxis": "x2",
         "y": [
          3.044122954622902,
          -5.958227841226602,
          -1.8836655509169877
         ],
         "yaxis": "y2"
        },
        {
         "line": {
          "color": "#8c564b"
         },
         "marker": {
          "opacity": 0.5,
          "size": 17
         },
         "mode": "markers+text",
         "name": "G",
         "showlegend": false,
         "text": [
          "G"
         ],
         "type": "scatter",
         "x": [
          4.196488953363968
         ],
         "xaxis": "x2",
         "y": [
          1.2213802824514712
         ],
         "yaxis": "y2"
        },
        {
         "line": {
          "color": "#e377c2"
         },
         "marker": {
          "opacity": 0.5,
          "size": 17
         },
         "mode": "markers+text",
         "name": "hydroxyl",
         "showlegend": false,
         "text": [
          "S",
          "T"
         ],
         "type": "scatter",
         "x": [
          1.767833570626898,
          2.5087087712811194
         ],
         "xaxis": "x2",
         "y": [
          1.59705854931903,
          0.08429660751314176
         ],
         "yaxis": "y2"
        },
        {
         "line": {
          "color": "#7f7f7f"
         },
         "marker": {
          "opacity": 0.5,
          "size": 17
         },
         "mode": "markers+text",
         "name": "P",
         "showlegend": false,
         "text": [
          "P"
         ],
         "type": "scatter",
         "x": [
          -4.054485885800047
         ],
         "xaxis": "x2",
         "y": [
          -0.4203141743727356
         ],
         "yaxis": "y2"
        },
        {
         "line": {
          "color": "#bcbd22"
         },
         "marker": {
          "opacity": 0.5,
          "size": 17
         },
         "mode": "markers+text",
         "name": "sulfur",
         "showlegend": false,
         "text": [
          "C",
          "M"
         ],
         "type": "scatter",
         "x": [
          0.10282893010663233,
          -4.47682242945575
         ],
         "xaxis": "x2",
         "y": [
          0.04191338183525617,
          -3.236695998763005
         ],
         "yaxis": "y2"
        },
        {
         "line": {
          "color": "#1f77b4"
         },
         "marker": {
          "opacity": 0.5,
          "size": 17
         },
         "mode": "markers+text",
         "name": "acidic",
         "showlegend": false,
         "text": [
          "D",
          "E"
         ],
         "type": "scatter",
         "x": [
          1.0710071623978572,
          -0.19290905632610353
         ],
         "xaxis": "x3",
         "y": [
          0.6745845629182581,
          3.2056422629201986
         ],
         "yaxis": "y3"
        },
        {
         "line": {
          "color": "#ff7f0e"
         },
         "marker": {
          "opacity": 0.5,
          "size": 17
         },
         "mode": "markers+text",
         "name": "aliphatic",
         "showlegend": false,
         "text": [
          "A",
          "I",
          "L",
          "V"
         ],
         "type": "scatter",
         "x": [
          -2.4867042628741793,
          1.121820971803487,
          0.9660851700362729,
          -0.16997004625392387
         ],
         "xaxis": "x3",
         "y": [
          0.9460195967880485,
          -0.3075121773021257,
          -3.0114856144984596,
          0.8938535574320492
         ],
         "yaxis": "y3"
        },
        {
         "line": {
          "color": "#2ca02c"
         },
         "marker": {
          "opacity": 0.5,
          "size": 17
         },
         "mode": "markers+text",
         "name": "amide",
         "showlegend": false,
         "text": [
          "N",
          "Q"
         ],
         "type": "scatter",
         "x": [
          3.2472545070625665,
          -1.8800382562591655
         ],
         "xaxis": "x3",
         "y": [
          2.2474649223019436,
          -1.6220934100335065
         ],
         "yaxis": "y3"
        },
        {
         "line": {
          "color": "#d62728"
         },
         "marker": {
          "opacity": 0.5,
          "size": 17
         },
         "mode": "markers+text",
         "name": "aromatic",
         "showlegend": false,
         "text": [
          "F",
          "W",
          "Y"
         ],
         "type": "scatter",
         "x": [
          1.9960294641501015,
          0.12837485890667552,
          3.0178380325494767
         ],
         "xaxis": "x3",
         "y": [
          -2.474427341398997,
          -1.4826049060158215,
          0.12483179821633356
         ],
         "yaxis": "y3"
        },
        {
         "line": {
          "color": "#9467bd"
         },
         "marker": {
          "opacity": 0.5,
          "size": 17
         },
         "mode": "markers+text",
         "name": "basic",
         "showlegend": false,
         "text": [
          "H",
          "K",
          "R"
         ],
         "type": "scatter",
         "x": [
          1.5560361945240726,
          -0.8875652206076025,
          -2.3485468897253674
         ],
         "xaxis": "x3",
         "y": [
          2.1896317430610703,
          -0.3665073033363423,
          -0.5840965659566892
         ],
         "yaxis": "y3"
        },
        {
         "line": {
          "color": "#8c564b"
         },
         "marker": {
          "opacity": 0.5,
          "size": 17
         },
         "mode": "markers+text",
         "name": "G",
         "showlegend": false,
         "text": [
          "G"
         ],
         "type": "scatter",
         "x": [
          -2.627123690018822
         ],
         "xaxis": "x3",
         "y": [
          2.4678708269254184
         ],
         "yaxis": "y3"
        },
        {
         "line": {
          "color": "#e377c2"
         },
         "marker": {
          "opacity": 0.5,
          "size": 17
         },
         "mode": "markers+text",
         "name": "hydroxyl",
         "showlegend": false,
         "text": [
          "S",
          "T"
         ],
         "type": "scatter",
         "x": [
          -1.197307794483681,
          -1.1348559507054188
         ],
         "xaxis": "x3",
         "y": [
          0.3255676729545949,
          1.9514133027663068
         ],
         "yaxis": "y3"
        },
        {
         "line": {
          "color": "#7f7f7f"
         },
         "marker": {
          "opacity": 0.5,
          "size": 17
         },
         "mode": "markers+text",
         "name": "P",
         "showlegend": false,
         "text": [
          "P"
         ],
         "type": "scatter",
         "x": [
          1.0610262478053392
         ],
         "xaxis": "x3",
         "y": [
          -2.0387357514024673
         ],
         "yaxis": "y3"
        },
        {
         "line": {
          "color": "#bcbd22"
         },
         "marker": {
          "opacity": 0.5,
          "size": 17
         },
         "mode": "markers+text",
         "name": "sulfur",
         "showlegend": false,
         "text": [
          "C",
          "M"
         ],
         "type": "scatter",
         "x": [
          -0.1845658921416388,
          -1.0558855498399466
         ],
         "xaxis": "x3",
         "y": [
          0.23767096743682964,
          -3.3770881437766422
         ],
         "yaxis": "y3"
        }
       ],
       "layout": {
        "annotations": [
         {
          "font": {
           "size": 16
          },
          "showarrow": false,
          "text": "BLOSUM62",
          "x": 0.14444444444444446,
          "xanchor": "center",
          "xref": "paper",
          "y": 1,
          "yanchor": "bottom",
          "yref": "paper"
         },
         {
          "font": {
           "size": 16
          },
          "showarrow": false,
          "text": "HomoSapiens, TRA",
          "x": 0.5,
          "xanchor": "center",
          "xref": "paper",
          "y": 1,
          "yanchor": "bottom",
          "yref": "paper"
         },
         {
          "font": {
           "size": 16
          },
          "showarrow": false,
          "text": "HomoSapiens, TRB",
          "x": 0.8555555555555556,
          "xanchor": "center",
          "xref": "paper",
          "y": 1,
          "yanchor": "bottom",
          "yref": "paper"
         }
        ],
        "plot_bgcolor": "rgb(248,248,248)",
        "template": {
         "data": {
          "bar": [
           {
            "error_x": {
             "color": "#2a3f5f"
            },
            "error_y": {
             "color": "#2a3f5f"
            },
            "marker": {
             "line": {
              "color": "#E5ECF6",
              "width": 0.5
             }
            },
            "type": "bar"
           }
          ],
          "barpolar": [
           {
            "marker": {
             "line": {
              "color": "#E5ECF6",
              "width": 0.5
             }
            },
            "type": "barpolar"
           }
          ],
          "carpet": [
           {
            "aaxis": {
             "endlinecolor": "#2a3f5f",
             "gridcolor": "white",
             "linecolor": "white",
             "minorgridcolor": "white",
             "startlinecolor": "#2a3f5f"
            },
            "baxis": {
             "endlinecolor": "#2a3f5f",
             "gridcolor": "white",
             "linecolor": "white",
             "minorgridcolor": "white",
             "startlinecolor": "#2a3f5f"
            },
            "type": "carpet"
           }
          ],
          "choropleth": [
           {
            "colorbar": {
             "outlinewidth": 0,
             "ticks": ""
            },
            "type": "choropleth"
           }
          ],
          "contour": [
           {
            "colorbar": {
             "outlinewidth": 0,
             "ticks": ""
            },
            "colorscale": [
             [
              0,
              "#0d0887"
             ],
             [
              0.1111111111111111,
              "#46039f"
             ],
             [
              0.2222222222222222,
              "#7201a8"
             ],
             [
              0.3333333333333333,
              "#9c179e"
             ],
             [
              0.4444444444444444,
              "#bd3786"
             ],
             [
              0.5555555555555556,
              "#d8576b"
             ],
             [
              0.6666666666666666,
              "#ed7953"
             ],
             [
              0.7777777777777778,
              "#fb9f3a"
             ],
             [
              0.8888888888888888,
              "#fdca26"
             ],
             [
              1,
              "#f0f921"
             ]
            ],
            "type": "contour"
           }
          ],
          "contourcarpet": [
           {
            "colorbar": {
             "outlinewidth": 0,
             "ticks": ""
            },
            "type": "contourcarpet"
           }
          ],
          "heatmap": [
           {
            "colorbar": {
             "outlinewidth": 0,
             "ticks": ""
            },
            "colorscale": [
             [
              0,
              "#0d0887"
             ],
             [
              0.1111111111111111,
              "#46039f"
             ],
             [
              0.2222222222222222,
              "#7201a8"
             ],
             [
              0.3333333333333333,
              "#9c179e"
             ],
             [
              0.4444444444444444,
              "#bd3786"
             ],
             [
              0.5555555555555556,
              "#d8576b"
             ],
             [
              0.6666666666666666,
              "#ed7953"
             ],
             [
              0.7777777777777778,
              "#fb9f3a"
             ],
             [
              0.8888888888888888,
              "#fdca26"
             ],
             [
              1,
              "#f0f921"
             ]
            ],
            "type": "heatmap"
           }
          ],
          "heatmapgl": [
           {
            "colorbar": {
             "outlinewidth": 0,
             "ticks": ""
            },
            "colorscale": [
             [
              0,
              "#0d0887"
             ],
             [
              0.1111111111111111,
              "#46039f"
             ],
             [
              0.2222222222222222,
              "#7201a8"
             ],
             [
              0.3333333333333333,
              "#9c179e"
             ],
             [
              0.4444444444444444,
              "#bd3786"
             ],
             [
              0.5555555555555556,
              "#d8576b"
             ],
             [
              0.6666666666666666,
              "#ed7953"
             ],
             [
              0.7777777777777778,
              "#fb9f3a"
             ],
             [
              0.8888888888888888,
              "#fdca26"
             ],
             [
              1,
              "#f0f921"
             ]
            ],
            "type": "heatmapgl"
           }
          ],
          "histogram": [
           {
            "marker": {
             "colorbar": {
              "outlinewidth": 0,
              "ticks": ""
             }
            },
            "type": "histogram"
           }
          ],
          "histogram2d": [
           {
            "colorbar": {
             "outlinewidth": 0,
             "ticks": ""
            },
            "colorscale": [
             [
              0,
              "#0d0887"
             ],
             [
              0.1111111111111111,
              "#46039f"
             ],
             [
              0.2222222222222222,
              "#7201a8"
             ],
             [
              0.3333333333333333,
              "#9c179e"
             ],
             [
              0.4444444444444444,
              "#bd3786"
             ],
             [
              0.5555555555555556,
              "#d8576b"
             ],
             [
              0.6666666666666666,
              "#ed7953"
             ],
             [
              0.7777777777777778,
              "#fb9f3a"
             ],
             [
              0.8888888888888888,
              "#fdca26"
             ],
             [
              1,
              "#f0f921"
             ]
            ],
            "type": "histogram2d"
           }
          ],
          "histogram2dcontour": [
           {
            "colorbar": {
             "outlinewidth": 0,
             "ticks": ""
            },
            "colorscale": [
             [
              0,
              "#0d0887"
             ],
             [
              0.1111111111111111,
              "#46039f"
             ],
             [
              0.2222222222222222,
              "#7201a8"
             ],
             [
              0.3333333333333333,
              "#9c179e"
             ],
             [
              0.4444444444444444,
              "#bd3786"
             ],
             [
              0.5555555555555556,
              "#d8576b"
             ],
             [
              0.6666666666666666,
              "#ed7953"
             ],
             [
              0.7777777777777778,
              "#fb9f3a"
             ],
             [
              0.8888888888888888,
              "#fdca26"
             ],
             [
              1,
              "#f0f921"
             ]
            ],
            "type": "histogram2dcontour"
           }
          ],
          "mesh3d": [
           {
            "colorbar": {
             "outlinewidth": 0,
             "ticks": ""
            },
            "type": "mesh3d"
           }
          ],
          "parcoords": [
           {
            "line": {
             "colorbar": {
              "outlinewidth": 0,
              "ticks": ""
             }
            },
            "type": "parcoords"
           }
          ],
          "scatter": [
           {
            "marker": {
             "colorbar": {
              "outlinewidth": 0,
              "ticks": ""
             }
            },
            "type": "scatter"
           }
          ],
          "scatter3d": [
           {
            "line": {
             "colorbar": {
              "outlinewidth": 0,
              "ticks": ""
             }
            },
            "marker": {
             "colorbar": {
              "outlinewidth": 0,
              "ticks": ""
             }
            },
            "type": "scatter3d"
           }
          ],
          "scattercarpet": [
           {
            "marker": {
             "colorbar": {
              "outlinewidth": 0,
              "ticks": ""
             }
            },
            "type": "scattercarpet"
           }
          ],
          "scattergeo": [
           {
            "marker": {
             "colorbar": {
              "outlinewidth": 0,
              "ticks": ""
             }
            },
            "type": "scattergeo"
           }
          ],
          "scattergl": [
           {
            "marker": {
             "colorbar": {
              "outlinewidth": 0,
              "ticks": ""
             }
            },
            "type": "scattergl"
           }
          ],
          "scattermapbox": [
           {
            "marker": {
             "colorbar": {
              "outlinewidth": 0,
              "ticks": ""
             }
            },
            "type": "scattermapbox"
           }
          ],
          "scatterpolar": [
           {
            "marker": {
             "colorbar": {
              "outlinewidth": 0,
              "ticks": ""
             }
            },
            "type": "scatterpolar"
           }
          ],
          "scatterpolargl": [
           {
            "marker": {
             "colorbar": {
              "outlinewidth": 0,
              "ticks": ""
             }
            },
            "type": "scatterpolargl"
           }
          ],
          "scatterternary": [
           {
            "marker": {
             "colorbar": {
              "outlinewidth": 0,
              "ticks": ""
             }
            },
            "type": "scatterternary"
           }
          ],
          "surface": [
           {
            "colorbar": {
             "outlinewidth": 0,
             "ticks": ""
            },
            "colorscale": [
             [
              0,
              "#0d0887"
             ],
             [
              0.1111111111111111,
              "#46039f"
             ],
             [
              0.2222222222222222,
              "#7201a8"
             ],
             [
              0.3333333333333333,
              "#9c179e"
             ],
             [
              0.4444444444444444,
              "#bd3786"
             ],
             [
              0.5555555555555556,
              "#d8576b"
             ],
             [
              0.6666666666666666,
              "#ed7953"
             ],
             [
              0.7777777777777778,
              "#fb9f3a"
             ],
             [
              0.8888888888888888,
              "#fdca26"
             ],
             [
              1,
              "#f0f921"
             ]
            ],
            "type": "surface"
           }
          ],
          "table": [
           {
            "cells": {
             "fill": {
              "color": "#EBF0F8"
             },
             "line": {
              "color": "white"
             }
            },
            "header": {
             "fill": {
              "color": "#C8D4E3"
             },
             "line": {
              "color": "white"
             }
            },
            "type": "table"
           }
          ]
         },
         "layout": {
          "annotationdefaults": {
           "arrowcolor": "#2a3f5f",
           "arrowhead": 0,
           "arrowwidth": 1
          },
          "colorscale": {
           "diverging": [
            [
             0,
             "#8e0152"
            ],
            [
             0.1,
             "#c51b7d"
            ],
            [
             0.2,
             "#de77ae"
            ],
            [
             0.3,
             "#f1b6da"
            ],
            [
             0.4,
             "#fde0ef"
            ],
            [
             0.5,
             "#f7f7f7"
            ],
            [
             0.6,
             "#e6f5d0"
            ],
            [
             0.7,
             "#b8e186"
            ],
            [
             0.8,
             "#7fbc41"
            ],
            [
             0.9,
             "#4d9221"
            ],
            [
             1,
             "#276419"
            ]
           ],
           "sequential": [
            [
             0,
             "#0d0887"
            ],
            [
             0.1111111111111111,
             "#46039f"
            ],
            [
             0.2222222222222222,
             "#7201a8"
            ],
            [
             0.3333333333333333,
             "#9c179e"
            ],
            [
             0.4444444444444444,
             "#bd3786"
            ],
            [
             0.5555555555555556,
             "#d8576b"
            ],
            [
             0.6666666666666666,
             "#ed7953"
            ],
            [
             0.7777777777777778,
             "#fb9f3a"
            ],
            [
             0.8888888888888888,
             "#fdca26"
            ],
            [
             1,
             "#f0f921"
            ]
           ],
           "sequentialminus": [
            [
             0,
             "#0d0887"
            ],
            [
             0.1111111111111111,
             "#46039f"
            ],
            [
             0.2222222222222222,
             "#7201a8"
            ],
            [
             0.3333333333333333,
             "#9c179e"
            ],
            [
             0.4444444444444444,
             "#bd3786"
            ],
            [
             0.5555555555555556,
             "#d8576b"
            ],
            [
             0.6666666666666666,
             "#ed7953"
            ],
            [
             0.7777777777777778,
             "#fb9f3a"
            ],
            [
             0.8888888888888888,
             "#fdca26"
            ],
            [
             1,
             "#f0f921"
            ]
           ]
          },
          "colorway": [
           "#636efa",
           "#EF553B",
           "#00cc96",
           "#ab63fa",
           "#FFA15A",
           "#19d3f3",
           "#FF6692",
           "#B6E880",
           "#FF97FF",
           "#FECB52"
          ],
          "font": {
           "color": "#2a3f5f"
          },
          "geo": {
           "bgcolor": "white",
           "lakecolor": "white",
           "landcolor": "#E5ECF6",
           "showlakes": true,
           "showland": true,
           "subunitcolor": "white"
          },
          "hoverlabel": {
           "align": "left"
          },
          "hovermode": "closest",
          "mapbox": {
           "style": "light"
          },
          "paper_bgcolor": "white",
          "plot_bgcolor": "#E5ECF6",
          "polar": {
           "angularaxis": {
            "gridcolor": "white",
            "linecolor": "white",
            "ticks": ""
           },
           "bgcolor": "#E5ECF6",
           "radialaxis": {
            "gridcolor": "white",
            "linecolor": "white",
            "ticks": ""
           }
          },
          "scene": {
           "xaxis": {
            "backgroundcolor": "#E5ECF6",
            "gridcolor": "white",
            "gridwidth": 2,
            "linecolor": "white",
            "showbackground": true,
            "ticks": "",
            "zerolinecolor": "white"
           },
           "yaxis": {
            "backgroundcolor": "#E5ECF6",
            "gridcolor": "white",
            "gridwidth": 2,
            "linecolor": "white",
            "showbackground": true,
            "ticks": "",
            "zerolinecolor": "white"
           },
           "zaxis": {
            "backgroundcolor": "#E5ECF6",
            "gridcolor": "white",
            "gridwidth": 2,
            "linecolor": "white",
            "showbackground": true,
            "ticks": "",
            "zerolinecolor": "white"
           }
          },
          "shapedefaults": {
           "line": {
            "color": "#2a3f5f"
           }
          },
          "ternary": {
           "aaxis": {
            "gridcolor": "white",
            "linecolor": "white",
            "ticks": ""
           },
           "baxis": {
            "gridcolor": "white",
            "linecolor": "white",
            "ticks": ""
           },
           "bgcolor": "#E5ECF6",
           "caxis": {
            "gridcolor": "white",
            "linecolor": "white",
            "ticks": ""
           }
          },
          "title": {
           "x": 0.05
          },
          "xaxis": {
           "automargin": true,
           "gridcolor": "white",
           "linecolor": "white",
           "ticks": "",
           "zerolinecolor": "white",
           "zerolinewidth": 2
          },
          "yaxis": {
           "automargin": true,
           "gridcolor": "white",
           "linecolor": "white",
           "ticks": "",
           "zerolinecolor": "white",
           "zerolinewidth": 2
          }
         }
        },
        "xaxis": {
         "anchor": "y",
         "domain": [
          0,
          0.2888888888888889
         ],
         "title": {
          "text": "mds_x"
         }
        },
        "xaxis2": {
         "anchor": "y2",
         "domain": [
          0.35555555555555557,
          0.6444444444444445
         ],
         "title": {
          "text": "mds_x"
         }
        },
        "xaxis3": {
         "anchor": "y3",
         "domain": [
          0.7111111111111111,
          1
         ],
         "title": {
          "text": "mds_x"
         }
        },
        "yaxis": {
         "anchor": "x",
         "domain": [
          0,
          1
         ],
         "title": {
          "text": "mds_y"
         }
        },
        "yaxis2": {
         "anchor": "x2",
         "domain": [
          0,
          1
         ],
         "title": {
          "text": "mds_y"
         }
        },
        "yaxis3": {
         "anchor": "x3",
         "domain": [
          0,
          1
         ],
         "title": {
          "text": "mds_y"
         }
        }
       }
      },
      "text/html": [
       "<div>\n",
       "        \n",
       "        \n",
       "            <div id=\"ad688cdd-0902-479f-8533-1e5652ea525c\" class=\"plotly-graph-div\" style=\"height:525px; width:100%;\"></div>\n",
       "            <script type=\"text/javascript\">\n",
       "                require([\"plotly\"], function(Plotly) {\n",
       "                    window.PLOTLYENV=window.PLOTLYENV || {};\n",
       "                    \n",
       "                if (document.getElementById(\"ad688cdd-0902-479f-8533-1e5652ea525c\")) {\n",
       "                    Plotly.newPlot(\n",
       "                        'ad688cdd-0902-479f-8533-1e5652ea525c',\n",
       "                        [{\"line\": {\"color\": \"#1f77b4\"}, \"marker\": {\"opacity\": 0.5, \"size\": 17}, \"mode\": \"markers+text\", \"name\": \"acidic\", \"showlegend\": true, \"text\": [\"D\", \"E\"], \"type\": \"scatter\", \"x\": [-0.9544313325250663, -3.157081683753546], \"xaxis\": \"x\", \"y\": [-11.397712274049448, -8.503724022419318], \"yaxis\": \"y\"}, {\"line\": {\"color\": \"#ff7f0e\"}, \"marker\": {\"opacity\": 0.5, \"size\": 17}, \"mode\": \"markers+text\", \"name\": \"aliphatic\", \"showlegend\": true, \"text\": [\"A\", \"I\", \"L\", \"V\"], \"type\": \"scatter\", \"x\": [5.62050276645888, 6.070671898169151, 3.9898670899560607, 6.187570166003933], \"xaxis\": \"x\", \"y\": [-0.9989854407971042, 8.492058714935197, 8.3492439210749, 6.121017302583352], \"yaxis\": \"y\"}, {\"line\": {\"color\": \"#2ca02c\"}, \"marker\": {\"opacity\": 0.5, \"size\": 17}, \"mode\": \"markers+text\", \"name\": \"amide\", \"showlegend\": true, \"text\": [\"N\", \"Q\"], \"type\": \"scatter\", \"x\": [0.9781243025216787, -3.579313304457152], \"xaxis\": \"x\", \"y\": [-9.629467212632214, -5.174011727622996], \"yaxis\": \"y\"}, {\"line\": {\"color\": \"#d62728\"}, \"marker\": {\"opacity\": 0.5, \"size\": 17}, \"mode\": \"markers+text\", \"name\": \"aromatic\", \"showlegend\": true, \"text\": [\"F\", \"W\", \"Y\"], \"type\": \"scatter\", \"x\": [-2.4372094957088724, -10.203534862043274, -6.5532092193068765], \"xaxis\": \"x\", \"y\": [10.682777939771137, 12.205539664934, 7.982465802519883], \"yaxis\": \"y\"}, {\"line\": {\"color\": \"#9467bd\"}, \"marker\": {\"opacity\": 0.5, \"size\": 17}, \"mode\": \"markers+text\", \"name\": \"basic\", \"showlegend\": true, \"text\": [\"H\", \"K\", \"R\"], \"type\": \"scatter\", \"x\": [-10.238487827834678, -1.520941606980539, -4.259712015139712], \"xaxis\": \"x\", \"y\": [-0.4467309077410093, -5.0593439170482135, -2.849430102169342], \"yaxis\": \"y\"}, {\"line\": {\"color\": \"#8c564b\"}, \"marker\": {\"opacity\": 0.5, \"size\": 17}, \"mode\": \"markers+text\", \"name\": \"G\", \"showlegend\": true, \"text\": [\"G\"], \"type\": \"scatter\", \"x\": [-8.846632452565217], \"xaxis\": \"x\", \"y\": [-6.302794204842285], \"yaxis\": \"y\"}, {\"line\": {\"color\": \"#e377c2\"}, \"marker\": {\"opacity\": 0.5, \"size\": 17}, \"mode\": \"markers+text\", \"name\": \"hydroxyl\", \"showlegend\": true, \"text\": [\"S\", \"T\"], \"type\": \"scatter\", \"x\": [2.670481964334976, 3.4657119696242575], \"xaxis\": \"x\", \"y\": [-4.713248867949182, -0.9639402284479062], \"yaxis\": \"y\"}, {\"line\": {\"color\": \"#7f7f7f\"}, \"marker\": {\"opacity\": 0.5, \"size\": 17}, \"mode\": \"markers+text\", \"name\": \"P\", \"showlegend\": true, \"text\": [\"P\"], \"type\": \"scatter\", \"x\": [8.046031681124376], \"xaxis\": \"x\", \"y\": [-7.595876436855711], \"yaxis\": \"y\"}, {\"line\": {\"color\": \"#bcbd22\"}, \"marker\": {\"opacity\": 0.5, \"size\": 17}, \"mode\": \"markers+text\", \"name\": \"sulfur\", \"showlegend\": true, \"text\": [\"C\", \"M\"], \"type\": \"scatter\", \"x\": [12.652618087929596, 2.0689738741920207], \"xaxis\": \"x\", \"y\": [3.8871333720443086, 5.915028624711955], \"yaxis\": \"y\"}, {\"line\": {\"color\": \"#1f77b4\"}, \"marker\": {\"opacity\": 0.5, \"size\": 17}, \"mode\": \"markers+text\", \"name\": \"acidic\", \"showlegend\": false, \"text\": [\"D\", \"E\"], \"type\": \"scatter\", \"x\": [0.9092459634969844, -1.4221047332806855], \"xaxis\": \"x2\", \"y\": [-0.7624989394028914, 0.39469683550423135], \"yaxis\": \"y2\"}, {\"line\": {\"color\": \"#ff7f0e\"}, \"marker\": {\"opacity\": 0.5, \"size\": 17}, \"mode\": \"markers+text\", \"name\": \"aliphatic\", \"showlegend\": false, \"text\": [\"A\", \"I\", \"L\", \"V\"], \"type\": \"scatter\", \"x\": [3.28032009365348, -3.072322110272431, -4.906566593245429, -2.4594978235011435], \"xaxis\": \"x2\", \"y\": [-0.5501322000427192, -1.784027838256892, 2.0962907846150336, 1.5010531276464494], \"yaxis\": \"y2\"}, {\"line\": {\"color\": \"#2ca02c\"}, \"marker\": {\"opacity\": 0.5, \"size\": 17}, \"mode\": \"markers+text\", \"name\": \"amide\", \"showlegend\": false, \"text\": [\"N\", \"Q\"], \"type\": \"scatter\", \"x\": [5.105664188605895, 2.6061554274423746], \"xaxis\": \"x2\", \"y\": [-0.05207700043241677, -3.359196563790629], \"yaxis\": \"y2\"}, {\"line\": {\"color\": \"#d62728\"}, \"marker\": {\"opacity\": 0.5, \"size\": 17}, \"mode\": \"markers+text\", \"name\": \"aromatic\", \"showlegend\": false, \"text\": [\"F\", \"W\", \"Y\"], \"type\": \"scatter\", \"x\": [0.6748495199773568, -0.5321451855860455, 4.045642310840091], \"xaxis\": \"x2\", \"y\": [3.7257259935169276, 2.0526050844779093, 2.247692505702527], \"yaxis\": \"y2\"}, {\"line\": {\"color\": \"#9467bd\"}, \"marker\": {\"opacity\": 0.5, \"size\": 17}, \"mode\": \"markers+text\", \"name\": \"basic\", \"showlegend\": false, \"text\": [\"H\", \"K\", \"R\"], \"type\": \"scatter\", \"x\": [-1.9492275375009396, -1.370550120565711, -0.95401531018662], \"xaxis\": \"x2\", \"y\": [3.044122954622902, -5.958227841226602, -1.8836655509169877], \"yaxis\": \"y2\"}, {\"line\": {\"color\": \"#8c564b\"}, \"marker\": {\"opacity\": 0.5, \"size\": 17}, \"mode\": \"markers+text\", \"name\": \"G\", \"showlegend\": false, \"text\": [\"G\"], \"type\": \"scatter\", \"x\": [4.196488953363968], \"xaxis\": \"x2\", \"y\": [1.2213802824514712], \"yaxis\": \"y2\"}, {\"line\": {\"color\": \"#e377c2\"}, \"marker\": {\"opacity\": 0.5, \"size\": 17}, \"mode\": \"markers+text\", \"name\": \"hydroxyl\", \"showlegend\": false, \"text\": [\"S\", \"T\"], \"type\": \"scatter\", \"x\": [1.767833570626898, 2.5087087712811194], \"xaxis\": \"x2\", \"y\": [1.59705854931903, 0.08429660751314176], \"yaxis\": \"y2\"}, {\"line\": {\"color\": \"#7f7f7f\"}, \"marker\": {\"opacity\": 0.5, \"size\": 17}, \"mode\": \"markers+text\", \"name\": \"P\", \"showlegend\": false, \"text\": [\"P\"], \"type\": \"scatter\", \"x\": [-4.054485885800047], \"xaxis\": \"x2\", \"y\": [-0.4203141743727356], \"yaxis\": \"y2\"}, {\"line\": {\"color\": \"#bcbd22\"}, \"marker\": {\"opacity\": 0.5, \"size\": 17}, \"mode\": \"markers+text\", \"name\": \"sulfur\", \"showlegend\": false, \"text\": [\"C\", \"M\"], \"type\": \"scatter\", \"x\": [0.10282893010663233, -4.47682242945575], \"xaxis\": \"x2\", \"y\": [0.04191338183525617, -3.236695998763005], \"yaxis\": \"y2\"}, {\"line\": {\"color\": \"#1f77b4\"}, \"marker\": {\"opacity\": 0.5, \"size\": 17}, \"mode\": \"markers+text\", \"name\": \"acidic\", \"showlegend\": false, \"text\": [\"D\", \"E\"], \"type\": \"scatter\", \"x\": [1.0710071623978572, -0.19290905632610353], \"xaxis\": \"x3\", \"y\": [0.6745845629182581, 3.2056422629201986], \"yaxis\": \"y3\"}, {\"line\": {\"color\": \"#ff7f0e\"}, \"marker\": {\"opacity\": 0.5, \"size\": 17}, \"mode\": \"markers+text\", \"name\": \"aliphatic\", \"showlegend\": false, \"text\": [\"A\", \"I\", \"L\", \"V\"], \"type\": \"scatter\", \"x\": [-2.4867042628741793, 1.121820971803487, 0.9660851700362729, -0.16997004625392387], \"xaxis\": \"x3\", \"y\": [0.9460195967880485, -0.3075121773021257, -3.0114856144984596, 0.8938535574320492], \"yaxis\": \"y3\"}, {\"line\": {\"color\": \"#2ca02c\"}, \"marker\": {\"opacity\": 0.5, \"size\": 17}, \"mode\": \"markers+text\", \"name\": \"amide\", \"showlegend\": false, \"text\": [\"N\", \"Q\"], \"type\": \"scatter\", \"x\": [3.2472545070625665, -1.8800382562591655], \"xaxis\": \"x3\", \"y\": [2.2474649223019436, -1.6220934100335065], \"yaxis\": \"y3\"}, {\"line\": {\"color\": \"#d62728\"}, \"marker\": {\"opacity\": 0.5, \"size\": 17}, \"mode\": \"markers+text\", \"name\": \"aromatic\", \"showlegend\": false, \"text\": [\"F\", \"W\", \"Y\"], \"type\": \"scatter\", \"x\": [1.9960294641501015, 0.12837485890667552, 3.0178380325494767], \"xaxis\": \"x3\", \"y\": [-2.474427341398997, -1.4826049060158215, 0.12483179821633356], \"yaxis\": \"y3\"}, {\"line\": {\"color\": \"#9467bd\"}, \"marker\": {\"opacity\": 0.5, \"size\": 17}, \"mode\": \"markers+text\", \"name\": \"basic\", \"showlegend\": false, \"text\": [\"H\", \"K\", \"R\"], \"type\": \"scatter\", \"x\": [1.5560361945240726, -0.8875652206076025, -2.3485468897253674], \"xaxis\": \"x3\", \"y\": [2.1896317430610703, -0.3665073033363423, -0.5840965659566892], \"yaxis\": \"y3\"}, {\"line\": {\"color\": \"#8c564b\"}, \"marker\": {\"opacity\": 0.5, \"size\": 17}, \"mode\": \"markers+text\", \"name\": \"G\", \"showlegend\": false, \"text\": [\"G\"], \"type\": \"scatter\", \"x\": [-2.627123690018822], \"xaxis\": \"x3\", \"y\": [2.4678708269254184], \"yaxis\": \"y3\"}, {\"line\": {\"color\": \"#e377c2\"}, \"marker\": {\"opacity\": 0.5, \"size\": 17}, \"mode\": \"markers+text\", \"name\": \"hydroxyl\", \"showlegend\": false, \"text\": [\"S\", \"T\"], \"type\": \"scatter\", \"x\": [-1.197307794483681, -1.1348559507054188], \"xaxis\": \"x3\", \"y\": [0.3255676729545949, 1.9514133027663068], \"yaxis\": \"y3\"}, {\"line\": {\"color\": \"#7f7f7f\"}, \"marker\": {\"opacity\": 0.5, \"size\": 17}, \"mode\": \"markers+text\", \"name\": \"P\", \"showlegend\": false, \"text\": [\"P\"], \"type\": \"scatter\", \"x\": [1.0610262478053392], \"xaxis\": \"x3\", \"y\": [-2.0387357514024673], \"yaxis\": \"y3\"}, {\"line\": {\"color\": \"#bcbd22\"}, \"marker\": {\"opacity\": 0.5, \"size\": 17}, \"mode\": \"markers+text\", \"name\": \"sulfur\", \"showlegend\": false, \"text\": [\"C\", \"M\"], \"type\": \"scatter\", \"x\": [-0.1845658921416388, -1.0558855498399466], \"xaxis\": \"x3\", \"y\": [0.23767096743682964, -3.3770881437766422], \"yaxis\": \"y3\"}],\n",
       "                        {\"annotations\": [{\"font\": {\"size\": 16}, \"showarrow\": false, \"text\": \"BLOSUM62\", \"x\": 0.14444444444444446, \"xanchor\": \"center\", \"xref\": \"paper\", \"y\": 1.0, \"yanchor\": \"bottom\", \"yref\": \"paper\"}, {\"font\": {\"size\": 16}, \"showarrow\": false, \"text\": \"HomoSapiens, TRA\", \"x\": 0.5, \"xanchor\": \"center\", \"xref\": \"paper\", \"y\": 1.0, \"yanchor\": \"bottom\", \"yref\": \"paper\"}, {\"font\": {\"size\": 16}, \"showarrow\": false, \"text\": \"HomoSapiens, TRB\", \"x\": 0.8555555555555556, \"xanchor\": \"center\", \"xref\": \"paper\", \"y\": 1.0, \"yanchor\": \"bottom\", \"yref\": \"paper\"}], \"plot_bgcolor\": \"rgb(248,248,248)\", \"template\": {\"data\": {\"bar\": [{\"error_x\": {\"color\": \"#2a3f5f\"}, \"error_y\": {\"color\": \"#2a3f5f\"}, \"marker\": {\"line\": {\"color\": \"#E5ECF6\", \"width\": 0.5}}, \"type\": \"bar\"}], \"barpolar\": [{\"marker\": {\"line\": {\"color\": \"#E5ECF6\", \"width\": 0.5}}, \"type\": \"barpolar\"}], \"carpet\": [{\"aaxis\": {\"endlinecolor\": \"#2a3f5f\", \"gridcolor\": \"white\", \"linecolor\": \"white\", \"minorgridcolor\": \"white\", \"startlinecolor\": \"#2a3f5f\"}, \"baxis\": {\"endlinecolor\": \"#2a3f5f\", \"gridcolor\": \"white\", \"linecolor\": \"white\", \"minorgridcolor\": \"white\", \"startlinecolor\": \"#2a3f5f\"}, \"type\": \"carpet\"}], \"choropleth\": [{\"colorbar\": {\"outlinewidth\": 0, \"ticks\": \"\"}, \"type\": \"choropleth\"}], \"contour\": [{\"colorbar\": {\"outlinewidth\": 0, \"ticks\": \"\"}, \"colorscale\": [[0.0, \"#0d0887\"], [0.1111111111111111, \"#46039f\"], [0.2222222222222222, \"#7201a8\"], [0.3333333333333333, \"#9c179e\"], [0.4444444444444444, \"#bd3786\"], [0.5555555555555556, \"#d8576b\"], [0.6666666666666666, \"#ed7953\"], [0.7777777777777778, \"#fb9f3a\"], [0.8888888888888888, \"#fdca26\"], [1.0, \"#f0f921\"]], \"type\": \"contour\"}], \"contourcarpet\": [{\"colorbar\": {\"outlinewidth\": 0, \"ticks\": \"\"}, \"type\": \"contourcarpet\"}], \"heatmap\": [{\"colorbar\": {\"outlinewidth\": 0, \"ticks\": \"\"}, \"colorscale\": [[0.0, \"#0d0887\"], [0.1111111111111111, \"#46039f\"], [0.2222222222222222, \"#7201a8\"], [0.3333333333333333, \"#9c179e\"], [0.4444444444444444, \"#bd3786\"], [0.5555555555555556, \"#d8576b\"], [0.6666666666666666, \"#ed7953\"], [0.7777777777777778, \"#fb9f3a\"], [0.8888888888888888, \"#fdca26\"], [1.0, \"#f0f921\"]], \"type\": \"heatmap\"}], \"heatmapgl\": [{\"colorbar\": {\"outlinewidth\": 0, \"ticks\": \"\"}, \"colorscale\": [[0.0, \"#0d0887\"], [0.1111111111111111, \"#46039f\"], [0.2222222222222222, \"#7201a8\"], [0.3333333333333333, \"#9c179e\"], [0.4444444444444444, \"#bd3786\"], [0.5555555555555556, \"#d8576b\"], [0.6666666666666666, \"#ed7953\"], [0.7777777777777778, \"#fb9f3a\"], [0.8888888888888888, \"#fdca26\"], [1.0, \"#f0f921\"]], \"type\": \"heatmapgl\"}], \"histogram\": [{\"marker\": {\"colorbar\": {\"outlinewidth\": 0, \"ticks\": \"\"}}, \"type\": \"histogram\"}], \"histogram2d\": [{\"colorbar\": {\"outlinewidth\": 0, \"ticks\": \"\"}, \"colorscale\": [[0.0, \"#0d0887\"], [0.1111111111111111, \"#46039f\"], [0.2222222222222222, \"#7201a8\"], [0.3333333333333333, \"#9c179e\"], [0.4444444444444444, \"#bd3786\"], [0.5555555555555556, \"#d8576b\"], [0.6666666666666666, \"#ed7953\"], [0.7777777777777778, \"#fb9f3a\"], [0.8888888888888888, \"#fdca26\"], [1.0, \"#f0f921\"]], \"type\": \"histogram2d\"}], \"histogram2dcontour\": [{\"colorbar\": {\"outlinewidth\": 0, \"ticks\": \"\"}, \"colorscale\": [[0.0, \"#0d0887\"], [0.1111111111111111, \"#46039f\"], [0.2222222222222222, \"#7201a8\"], [0.3333333333333333, \"#9c179e\"], [0.4444444444444444, \"#bd3786\"], [0.5555555555555556, \"#d8576b\"], [0.6666666666666666, \"#ed7953\"], [0.7777777777777778, \"#fb9f3a\"], [0.8888888888888888, \"#fdca26\"], [1.0, \"#f0f921\"]], \"type\": \"histogram2dcontour\"}], \"mesh3d\": [{\"colorbar\": {\"outlinewidth\": 0, \"ticks\": \"\"}, \"type\": \"mesh3d\"}], \"parcoords\": [{\"line\": {\"colorbar\": {\"outlinewidth\": 0, \"ticks\": \"\"}}, \"type\": \"parcoords\"}], \"scatter\": [{\"marker\": {\"colorbar\": {\"outlinewidth\": 0, \"ticks\": \"\"}}, \"type\": \"scatter\"}], \"scatter3d\": [{\"line\": {\"colorbar\": {\"outlinewidth\": 0, \"ticks\": \"\"}}, \"marker\": {\"colorbar\": {\"outlinewidth\": 0, \"ticks\": \"\"}}, \"type\": \"scatter3d\"}], \"scattercarpet\": [{\"marker\": {\"colorbar\": {\"outlinewidth\": 0, \"ticks\": \"\"}}, \"type\": \"scattercarpet\"}], \"scattergeo\": [{\"marker\": {\"colorbar\": {\"outlinewidth\": 0, \"ticks\": \"\"}}, \"type\": \"scattergeo\"}], \"scattergl\": [{\"marker\": {\"colorbar\": {\"outlinewidth\": 0, \"ticks\": \"\"}}, \"type\": \"scattergl\"}], \"scattermapbox\": [{\"marker\": {\"colorbar\": {\"outlinewidth\": 0, \"ticks\": \"\"}}, \"type\": \"scattermapbox\"}], \"scatterpolar\": [{\"marker\": {\"colorbar\": {\"outlinewidth\": 0, \"ticks\": \"\"}}, \"type\": \"scatterpolar\"}], \"scatterpolargl\": [{\"marker\": {\"colorbar\": {\"outlinewidth\": 0, \"ticks\": \"\"}}, \"type\": \"scatterpolargl\"}], \"scatterternary\": [{\"marker\": {\"colorbar\": {\"outlinewidth\": 0, \"ticks\": \"\"}}, \"type\": \"scatterternary\"}], \"surface\": [{\"colorbar\": {\"outlinewidth\": 0, \"ticks\": \"\"}, \"colorscale\": [[0.0, \"#0d0887\"], [0.1111111111111111, \"#46039f\"], [0.2222222222222222, \"#7201a8\"], [0.3333333333333333, \"#9c179e\"], [0.4444444444444444, \"#bd3786\"], [0.5555555555555556, \"#d8576b\"], [0.6666666666666666, \"#ed7953\"], [0.7777777777777778, \"#fb9f3a\"], [0.8888888888888888, \"#fdca26\"], [1.0, \"#f0f921\"]], \"type\": \"surface\"}], \"table\": [{\"cells\": {\"fill\": {\"color\": \"#EBF0F8\"}, \"line\": {\"color\": \"white\"}}, \"header\": {\"fill\": {\"color\": \"#C8D4E3\"}, \"line\": {\"color\": \"white\"}}, \"type\": \"table\"}]}, \"layout\": {\"annotationdefaults\": {\"arrowcolor\": \"#2a3f5f\", \"arrowhead\": 0, \"arrowwidth\": 1}, \"colorscale\": {\"diverging\": [[0, \"#8e0152\"], [0.1, \"#c51b7d\"], [0.2, \"#de77ae\"], [0.3, \"#f1b6da\"], [0.4, \"#fde0ef\"], [0.5, \"#f7f7f7\"], [0.6, \"#e6f5d0\"], [0.7, \"#b8e186\"], [0.8, \"#7fbc41\"], [0.9, \"#4d9221\"], [1, \"#276419\"]], \"sequential\": [[0.0, \"#0d0887\"], [0.1111111111111111, \"#46039f\"], [0.2222222222222222, \"#7201a8\"], [0.3333333333333333, \"#9c179e\"], [0.4444444444444444, \"#bd3786\"], [0.5555555555555556, \"#d8576b\"], [0.6666666666666666, \"#ed7953\"], [0.7777777777777778, \"#fb9f3a\"], [0.8888888888888888, \"#fdca26\"], [1.0, \"#f0f921\"]], \"sequentialminus\": [[0.0, \"#0d0887\"], [0.1111111111111111, \"#46039f\"], [0.2222222222222222, \"#7201a8\"], [0.3333333333333333, \"#9c179e\"], [0.4444444444444444, \"#bd3786\"], [0.5555555555555556, \"#d8576b\"], [0.6666666666666666, \"#ed7953\"], [0.7777777777777778, \"#fb9f3a\"], [0.8888888888888888, \"#fdca26\"], [1.0, \"#f0f921\"]]}, \"colorway\": [\"#636efa\", \"#EF553B\", \"#00cc96\", \"#ab63fa\", \"#FFA15A\", \"#19d3f3\", \"#FF6692\", \"#B6E880\", \"#FF97FF\", \"#FECB52\"], \"font\": {\"color\": \"#2a3f5f\"}, \"geo\": {\"bgcolor\": \"white\", \"lakecolor\": \"white\", \"landcolor\": \"#E5ECF6\", \"showlakes\": true, \"showland\": true, \"subunitcolor\": \"white\"}, \"hoverlabel\": {\"align\": \"left\"}, \"hovermode\": \"closest\", \"mapbox\": {\"style\": \"light\"}, \"paper_bgcolor\": \"white\", \"plot_bgcolor\": \"#E5ECF6\", \"polar\": {\"angularaxis\": {\"gridcolor\": \"white\", \"linecolor\": \"white\", \"ticks\": \"\"}, \"bgcolor\": \"#E5ECF6\", \"radialaxis\": {\"gridcolor\": \"white\", \"linecolor\": \"white\", \"ticks\": \"\"}}, \"scene\": {\"xaxis\": {\"backgroundcolor\": \"#E5ECF6\", \"gridcolor\": \"white\", \"gridwidth\": 2, \"linecolor\": \"white\", \"showbackground\": true, \"ticks\": \"\", \"zerolinecolor\": \"white\"}, \"yaxis\": {\"backgroundcolor\": \"#E5ECF6\", \"gridcolor\": \"white\", \"gridwidth\": 2, \"linecolor\": \"white\", \"showbackground\": true, \"ticks\": \"\", \"zerolinecolor\": \"white\"}, \"zaxis\": {\"backgroundcolor\": \"#E5ECF6\", \"gridcolor\": \"white\", \"gridwidth\": 2, \"linecolor\": \"white\", \"showbackground\": true, \"ticks\": \"\", \"zerolinecolor\": \"white\"}}, \"shapedefaults\": {\"line\": {\"color\": \"#2a3f5f\"}}, \"ternary\": {\"aaxis\": {\"gridcolor\": \"white\", \"linecolor\": \"white\", \"ticks\": \"\"}, \"baxis\": {\"gridcolor\": \"white\", \"linecolor\": \"white\", \"ticks\": \"\"}, \"bgcolor\": \"#E5ECF6\", \"caxis\": {\"gridcolor\": \"white\", \"linecolor\": \"white\", \"ticks\": \"\"}}, \"title\": {\"x\": 0.05}, \"xaxis\": {\"automargin\": true, \"gridcolor\": \"white\", \"linecolor\": \"white\", \"ticks\": \"\", \"zerolinecolor\": \"white\", \"zerolinewidth\": 2}, \"yaxis\": {\"automargin\": true, \"gridcolor\": \"white\", \"linecolor\": \"white\", \"ticks\": \"\", \"zerolinecolor\": \"white\", \"zerolinewidth\": 2}}}, \"xaxis\": {\"anchor\": \"y\", \"domain\": [0.0, 0.2888888888888889], \"title\": {\"text\": \"mds_x\"}}, \"xaxis2\": {\"anchor\": \"y2\", \"domain\": [0.35555555555555557, 0.6444444444444445], \"title\": {\"text\": \"mds_x\"}}, \"xaxis3\": {\"anchor\": \"y3\", \"domain\": [0.7111111111111111, 1.0], \"title\": {\"text\": \"mds_x\"}}, \"yaxis\": {\"anchor\": \"x\", \"domain\": [0.0, 1.0], \"title\": {\"text\": \"mds_y\"}}, \"yaxis2\": {\"anchor\": \"x2\", \"domain\": [0.0, 1.0], \"title\": {\"text\": \"mds_y\"}}, \"yaxis3\": {\"anchor\": \"x3\", \"domain\": [0.0, 1.0], \"title\": {\"text\": \"mds_y\"}}},\n",
       "                        {\"responsive\": true}\n",
       "                    ).then(function(){\n",
       "                            \n",
       "var gd = document.getElementById('ad688cdd-0902-479f-8533-1e5652ea525c');\n",
       "var x = new MutationObserver(function (mutations, observer) {{\n",
       "        var display = window.getComputedStyle(gd).display;\n",
       "        if (!display || display === 'none') {{\n",
       "            console.log([gd, 'removed!']);\n",
       "            Plotly.purge(gd);\n",
       "            observer.disconnect();\n",
       "        }}\n",
       "}});\n",
       "\n",
       "// Listen for the removal of the full notebook cells\n",
       "var notebookContainer = gd.closest('#notebook-container');\n",
       "if (notebookContainer) {{\n",
       "    x.observe(notebookContainer, {childList: true});\n",
       "}}\n",
       "\n",
       "// Listen for the clearing of the current output cell\n",
       "var outputEl = gd.closest('.output');\n",
       "if (outputEl) {{\n",
       "    x.observe(outputEl, {childList: true});\n",
       "}}\n",
       "\n",
       "                        })\n",
       "                };\n",
       "                });\n",
       "            </script>\n",
       "        </div>"
      ]
     },
     "metadata": {},
     "output_type": "display_data"
    }
   ],
   "source": [
    "plot_mds_IMGT([(blosum62, 1, 1), (avg_tra_matrix, 1, 2), (avg_trb_matrix,1 , 3)],\n",
    "              rows=1, cols=3,\n",
    "              titles=['BLOSUM62', 'HomoSapiens, TRA', 'HomoSapiens, TRB'])"
   ]
  },
  {
   "cell_type": "markdown",
   "metadata": {},
   "source": [
    "#### Simple example, Homo Sapiens, GIL antigen, TRB, Len14, GILGFVFTL"
   ]
  },
  {
   "cell_type": "code",
   "execution_count": 267,
   "metadata": {},
   "outputs": [
    {
     "data": {
      "text/html": [
       "<div>\n",
       "<style scoped>\n",
       "    .dataframe tbody tr th:only-of-type {\n",
       "        vertical-align: middle;\n",
       "    }\n",
       "\n",
       "    .dataframe tbody tr th {\n",
       "        vertical-align: top;\n",
       "    }\n",
       "\n",
       "    .dataframe thead th {\n",
       "        text-align: right;\n",
       "    }\n",
       "</style>\n",
       "<table border=\"1\" class=\"dataframe\">\n",
       "  <thead>\n",
       "    <tr style=\"text-align: right;\">\n",
       "      <th></th>\n",
       "      <th>A</th>\n",
       "      <th>R</th>\n",
       "      <th>N</th>\n",
       "      <th>D</th>\n",
       "      <th>C</th>\n",
       "      <th>Q</th>\n",
       "      <th>E</th>\n",
       "      <th>G</th>\n",
       "      <th>H</th>\n",
       "      <th>I</th>\n",
       "      <th>L</th>\n",
       "      <th>K</th>\n",
       "      <th>M</th>\n",
       "      <th>F</th>\n",
       "      <th>P</th>\n",
       "      <th>S</th>\n",
       "      <th>T</th>\n",
       "      <th>W</th>\n",
       "      <th>Y</th>\n",
       "      <th>V</th>\n",
       "    </tr>\n",
       "  </thead>\n",
       "  <tbody>\n",
       "    <tr>\n",
       "      <th>A</th>\n",
       "      <td>0.0</td>\n",
       "      <td>0.0</td>\n",
       "      <td>1.0</td>\n",
       "      <td>0.0</td>\n",
       "      <td>0.0</td>\n",
       "      <td>-0.0</td>\n",
       "      <td>0.0</td>\n",
       "      <td>-0.0</td>\n",
       "      <td>0.0</td>\n",
       "      <td>-1.0</td>\n",
       "      <td>-0.0</td>\n",
       "      <td>-0.0</td>\n",
       "      <td>-1.0</td>\n",
       "      <td>-0.0</td>\n",
       "      <td>-0.0</td>\n",
       "      <td>0.0</td>\n",
       "      <td>0.0</td>\n",
       "      <td>0.0</td>\n",
       "      <td>0.0</td>\n",
       "      <td>0.0</td>\n",
       "    </tr>\n",
       "    <tr>\n",
       "      <th>R</th>\n",
       "      <td>0.0</td>\n",
       "      <td>1.0</td>\n",
       "      <td>-1.0</td>\n",
       "      <td>0.0</td>\n",
       "      <td>0.0</td>\n",
       "      <td>-0.0</td>\n",
       "      <td>0.0</td>\n",
       "      <td>0.0</td>\n",
       "      <td>-0.0</td>\n",
       "      <td>-0.0</td>\n",
       "      <td>-0.0</td>\n",
       "      <td>-0.0</td>\n",
       "      <td>-0.0</td>\n",
       "      <td>1.0</td>\n",
       "      <td>-0.0</td>\n",
       "      <td>-0.0</td>\n",
       "      <td>0.0</td>\n",
       "      <td>0.0</td>\n",
       "      <td>-0.0</td>\n",
       "      <td>0.0</td>\n",
       "    </tr>\n",
       "    <tr>\n",
       "      <th>N</th>\n",
       "      <td>1.0</td>\n",
       "      <td>-1.0</td>\n",
       "      <td>2.0</td>\n",
       "      <td>-0.0</td>\n",
       "      <td>0.0</td>\n",
       "      <td>-1.0</td>\n",
       "      <td>0.0</td>\n",
       "      <td>-1.0</td>\n",
       "      <td>1.0</td>\n",
       "      <td>-2.0</td>\n",
       "      <td>-1.0</td>\n",
       "      <td>-1.0</td>\n",
       "      <td>-1.0</td>\n",
       "      <td>-1.0</td>\n",
       "      <td>-1.0</td>\n",
       "      <td>0.0</td>\n",
       "      <td>1.0</td>\n",
       "      <td>0.0</td>\n",
       "      <td>2.0</td>\n",
       "      <td>0.0</td>\n",
       "    </tr>\n",
       "    <tr>\n",
       "      <th>D</th>\n",
       "      <td>0.0</td>\n",
       "      <td>0.0</td>\n",
       "      <td>-0.0</td>\n",
       "      <td>0.0</td>\n",
       "      <td>0.0</td>\n",
       "      <td>0.0</td>\n",
       "      <td>0.0</td>\n",
       "      <td>0.0</td>\n",
       "      <td>-0.0</td>\n",
       "      <td>-1.0</td>\n",
       "      <td>-0.0</td>\n",
       "      <td>-0.0</td>\n",
       "      <td>-0.0</td>\n",
       "      <td>-0.0</td>\n",
       "      <td>-0.0</td>\n",
       "      <td>0.0</td>\n",
       "      <td>0.0</td>\n",
       "      <td>-0.0</td>\n",
       "      <td>-1.0</td>\n",
       "      <td>-0.0</td>\n",
       "    </tr>\n",
       "    <tr>\n",
       "      <th>C</th>\n",
       "      <td>0.0</td>\n",
       "      <td>0.0</td>\n",
       "      <td>0.0</td>\n",
       "      <td>0.0</td>\n",
       "      <td>0.0</td>\n",
       "      <td>0.0</td>\n",
       "      <td>0.0</td>\n",
       "      <td>0.0</td>\n",
       "      <td>0.0</td>\n",
       "      <td>0.0</td>\n",
       "      <td>0.0</td>\n",
       "      <td>0.0</td>\n",
       "      <td>0.0</td>\n",
       "      <td>0.0</td>\n",
       "      <td>0.0</td>\n",
       "      <td>0.0</td>\n",
       "      <td>0.0</td>\n",
       "      <td>0.0</td>\n",
       "      <td>0.0</td>\n",
       "      <td>0.0</td>\n",
       "    </tr>\n",
       "    <tr>\n",
       "      <th>Q</th>\n",
       "      <td>-0.0</td>\n",
       "      <td>-0.0</td>\n",
       "      <td>-1.0</td>\n",
       "      <td>0.0</td>\n",
       "      <td>0.0</td>\n",
       "      <td>1.0</td>\n",
       "      <td>-0.0</td>\n",
       "      <td>-0.0</td>\n",
       "      <td>-0.0</td>\n",
       "      <td>1.0</td>\n",
       "      <td>1.0</td>\n",
       "      <td>0.0</td>\n",
       "      <td>1.0</td>\n",
       "      <td>0.0</td>\n",
       "      <td>1.0</td>\n",
       "      <td>-0.0</td>\n",
       "      <td>-0.0</td>\n",
       "      <td>0.0</td>\n",
       "      <td>-0.0</td>\n",
       "      <td>-0.0</td>\n",
       "    </tr>\n",
       "    <tr>\n",
       "      <th>E</th>\n",
       "      <td>0.0</td>\n",
       "      <td>0.0</td>\n",
       "      <td>0.0</td>\n",
       "      <td>0.0</td>\n",
       "      <td>0.0</td>\n",
       "      <td>-0.0</td>\n",
       "      <td>-0.0</td>\n",
       "      <td>0.0</td>\n",
       "      <td>0.0</td>\n",
       "      <td>-0.0</td>\n",
       "      <td>-0.0</td>\n",
       "      <td>-0.0</td>\n",
       "      <td>-0.0</td>\n",
       "      <td>-0.0</td>\n",
       "      <td>-0.0</td>\n",
       "      <td>0.0</td>\n",
       "      <td>0.0</td>\n",
       "      <td>0.0</td>\n",
       "      <td>0.0</td>\n",
       "      <td>0.0</td>\n",
       "    </tr>\n",
       "    <tr>\n",
       "      <th>G</th>\n",
       "      <td>-0.0</td>\n",
       "      <td>0.0</td>\n",
       "      <td>-1.0</td>\n",
       "      <td>0.0</td>\n",
       "      <td>0.0</td>\n",
       "      <td>-0.0</td>\n",
       "      <td>0.0</td>\n",
       "      <td>1.0</td>\n",
       "      <td>-0.0</td>\n",
       "      <td>-2.0</td>\n",
       "      <td>-1.0</td>\n",
       "      <td>-0.0</td>\n",
       "      <td>-1.0</td>\n",
       "      <td>-1.0</td>\n",
       "      <td>-1.0</td>\n",
       "      <td>0.0</td>\n",
       "      <td>-0.0</td>\n",
       "      <td>-0.0</td>\n",
       "      <td>-1.0</td>\n",
       "      <td>-0.0</td>\n",
       "    </tr>\n",
       "    <tr>\n",
       "      <th>H</th>\n",
       "      <td>0.0</td>\n",
       "      <td>-0.0</td>\n",
       "      <td>1.0</td>\n",
       "      <td>-0.0</td>\n",
       "      <td>0.0</td>\n",
       "      <td>-0.0</td>\n",
       "      <td>0.0</td>\n",
       "      <td>-0.0</td>\n",
       "      <td>-0.0</td>\n",
       "      <td>-0.0</td>\n",
       "      <td>-0.0</td>\n",
       "      <td>-0.0</td>\n",
       "      <td>-0.0</td>\n",
       "      <td>-0.0</td>\n",
       "      <td>-0.0</td>\n",
       "      <td>0.0</td>\n",
       "      <td>0.0</td>\n",
       "      <td>-0.0</td>\n",
       "      <td>1.0</td>\n",
       "      <td>-0.0</td>\n",
       "    </tr>\n",
       "    <tr>\n",
       "      <th>I</th>\n",
       "      <td>-1.0</td>\n",
       "      <td>-0.0</td>\n",
       "      <td>-2.0</td>\n",
       "      <td>-1.0</td>\n",
       "      <td>0.0</td>\n",
       "      <td>1.0</td>\n",
       "      <td>-0.0</td>\n",
       "      <td>-2.0</td>\n",
       "      <td>-0.0</td>\n",
       "      <td>2.0</td>\n",
       "      <td>2.0</td>\n",
       "      <td>1.0</td>\n",
       "      <td>2.0</td>\n",
       "      <td>1.0</td>\n",
       "      <td>2.0</td>\n",
       "      <td>-1.0</td>\n",
       "      <td>-1.0</td>\n",
       "      <td>1.0</td>\n",
       "      <td>0.0</td>\n",
       "      <td>0.0</td>\n",
       "    </tr>\n",
       "    <tr>\n",
       "      <th>L</th>\n",
       "      <td>-0.0</td>\n",
       "      <td>-0.0</td>\n",
       "      <td>-1.0</td>\n",
       "      <td>-0.0</td>\n",
       "      <td>0.0</td>\n",
       "      <td>1.0</td>\n",
       "      <td>-0.0</td>\n",
       "      <td>-1.0</td>\n",
       "      <td>-0.0</td>\n",
       "      <td>2.0</td>\n",
       "      <td>1.0</td>\n",
       "      <td>1.0</td>\n",
       "      <td>1.0</td>\n",
       "      <td>1.0</td>\n",
       "      <td>1.0</td>\n",
       "      <td>-1.0</td>\n",
       "      <td>-0.0</td>\n",
       "      <td>0.0</td>\n",
       "      <td>-0.0</td>\n",
       "      <td>0.0</td>\n",
       "    </tr>\n",
       "    <tr>\n",
       "      <th>K</th>\n",
       "      <td>-0.0</td>\n",
       "      <td>-0.0</td>\n",
       "      <td>-1.0</td>\n",
       "      <td>-0.0</td>\n",
       "      <td>0.0</td>\n",
       "      <td>0.0</td>\n",
       "      <td>-0.0</td>\n",
       "      <td>-0.0</td>\n",
       "      <td>-0.0</td>\n",
       "      <td>1.0</td>\n",
       "      <td>1.0</td>\n",
       "      <td>-1.0</td>\n",
       "      <td>1.0</td>\n",
       "      <td>0.0</td>\n",
       "      <td>1.0</td>\n",
       "      <td>-0.0</td>\n",
       "      <td>-0.0</td>\n",
       "      <td>0.0</td>\n",
       "      <td>-0.0</td>\n",
       "      <td>-0.0</td>\n",
       "    </tr>\n",
       "    <tr>\n",
       "      <th>M</th>\n",
       "      <td>-1.0</td>\n",
       "      <td>-0.0</td>\n",
       "      <td>-1.0</td>\n",
       "      <td>-0.0</td>\n",
       "      <td>0.0</td>\n",
       "      <td>1.0</td>\n",
       "      <td>-0.0</td>\n",
       "      <td>-1.0</td>\n",
       "      <td>-0.0</td>\n",
       "      <td>2.0</td>\n",
       "      <td>1.0</td>\n",
       "      <td>1.0</td>\n",
       "      <td>1.0</td>\n",
       "      <td>1.0</td>\n",
       "      <td>1.0</td>\n",
       "      <td>-1.0</td>\n",
       "      <td>-0.0</td>\n",
       "      <td>0.0</td>\n",
       "      <td>0.0</td>\n",
       "      <td>0.0</td>\n",
       "    </tr>\n",
       "    <tr>\n",
       "      <th>F</th>\n",
       "      <td>-0.0</td>\n",
       "      <td>1.0</td>\n",
       "      <td>-1.0</td>\n",
       "      <td>-0.0</td>\n",
       "      <td>0.0</td>\n",
       "      <td>0.0</td>\n",
       "      <td>-0.0</td>\n",
       "      <td>-1.0</td>\n",
       "      <td>-0.0</td>\n",
       "      <td>1.0</td>\n",
       "      <td>1.0</td>\n",
       "      <td>0.0</td>\n",
       "      <td>1.0</td>\n",
       "      <td>1.0</td>\n",
       "      <td>1.0</td>\n",
       "      <td>-1.0</td>\n",
       "      <td>-0.0</td>\n",
       "      <td>0.0</td>\n",
       "      <td>0.0</td>\n",
       "      <td>0.0</td>\n",
       "    </tr>\n",
       "    <tr>\n",
       "      <th>P</th>\n",
       "      <td>-0.0</td>\n",
       "      <td>-0.0</td>\n",
       "      <td>-1.0</td>\n",
       "      <td>-0.0</td>\n",
       "      <td>0.0</td>\n",
       "      <td>1.0</td>\n",
       "      <td>-0.0</td>\n",
       "      <td>-1.0</td>\n",
       "      <td>-0.0</td>\n",
       "      <td>2.0</td>\n",
       "      <td>1.0</td>\n",
       "      <td>1.0</td>\n",
       "      <td>1.0</td>\n",
       "      <td>1.0</td>\n",
       "      <td>1.0</td>\n",
       "      <td>-1.0</td>\n",
       "      <td>-0.0</td>\n",
       "      <td>0.0</td>\n",
       "      <td>0.0</td>\n",
       "      <td>-0.0</td>\n",
       "    </tr>\n",
       "    <tr>\n",
       "      <th>S</th>\n",
       "      <td>0.0</td>\n",
       "      <td>-0.0</td>\n",
       "      <td>0.0</td>\n",
       "      <td>0.0</td>\n",
       "      <td>0.0</td>\n",
       "      <td>-0.0</td>\n",
       "      <td>0.0</td>\n",
       "      <td>0.0</td>\n",
       "      <td>0.0</td>\n",
       "      <td>-1.0</td>\n",
       "      <td>-1.0</td>\n",
       "      <td>-0.0</td>\n",
       "      <td>-1.0</td>\n",
       "      <td>-1.0</td>\n",
       "      <td>-1.0</td>\n",
       "      <td>0.0</td>\n",
       "      <td>0.0</td>\n",
       "      <td>-0.0</td>\n",
       "      <td>-0.0</td>\n",
       "      <td>-0.0</td>\n",
       "    </tr>\n",
       "    <tr>\n",
       "      <th>T</th>\n",
       "      <td>0.0</td>\n",
       "      <td>0.0</td>\n",
       "      <td>1.0</td>\n",
       "      <td>0.0</td>\n",
       "      <td>0.0</td>\n",
       "      <td>-0.0</td>\n",
       "      <td>0.0</td>\n",
       "      <td>-0.0</td>\n",
       "      <td>0.0</td>\n",
       "      <td>-1.0</td>\n",
       "      <td>-0.0</td>\n",
       "      <td>-0.0</td>\n",
       "      <td>-0.0</td>\n",
       "      <td>-0.0</td>\n",
       "      <td>-0.0</td>\n",
       "      <td>0.0</td>\n",
       "      <td>0.0</td>\n",
       "      <td>0.0</td>\n",
       "      <td>0.0</td>\n",
       "      <td>0.0</td>\n",
       "    </tr>\n",
       "    <tr>\n",
       "      <th>W</th>\n",
       "      <td>0.0</td>\n",
       "      <td>0.0</td>\n",
       "      <td>0.0</td>\n",
       "      <td>-0.0</td>\n",
       "      <td>0.0</td>\n",
       "      <td>0.0</td>\n",
       "      <td>0.0</td>\n",
       "      <td>-0.0</td>\n",
       "      <td>-0.0</td>\n",
       "      <td>1.0</td>\n",
       "      <td>0.0</td>\n",
       "      <td>0.0</td>\n",
       "      <td>0.0</td>\n",
       "      <td>0.0</td>\n",
       "      <td>0.0</td>\n",
       "      <td>-0.0</td>\n",
       "      <td>0.0</td>\n",
       "      <td>-0.0</td>\n",
       "      <td>0.0</td>\n",
       "      <td>0.0</td>\n",
       "    </tr>\n",
       "    <tr>\n",
       "      <th>Y</th>\n",
       "      <td>0.0</td>\n",
       "      <td>-0.0</td>\n",
       "      <td>2.0</td>\n",
       "      <td>-1.0</td>\n",
       "      <td>0.0</td>\n",
       "      <td>-0.0</td>\n",
       "      <td>0.0</td>\n",
       "      <td>-1.0</td>\n",
       "      <td>1.0</td>\n",
       "      <td>0.0</td>\n",
       "      <td>-0.0</td>\n",
       "      <td>-0.0</td>\n",
       "      <td>0.0</td>\n",
       "      <td>0.0</td>\n",
       "      <td>0.0</td>\n",
       "      <td>-0.0</td>\n",
       "      <td>0.0</td>\n",
       "      <td>0.0</td>\n",
       "      <td>1.0</td>\n",
       "      <td>0.0</td>\n",
       "    </tr>\n",
       "    <tr>\n",
       "      <th>V</th>\n",
       "      <td>0.0</td>\n",
       "      <td>0.0</td>\n",
       "      <td>0.0</td>\n",
       "      <td>-0.0</td>\n",
       "      <td>0.0</td>\n",
       "      <td>-0.0</td>\n",
       "      <td>0.0</td>\n",
       "      <td>-0.0</td>\n",
       "      <td>-0.0</td>\n",
       "      <td>0.0</td>\n",
       "      <td>0.0</td>\n",
       "      <td>-0.0</td>\n",
       "      <td>0.0</td>\n",
       "      <td>0.0</td>\n",
       "      <td>-0.0</td>\n",
       "      <td>-0.0</td>\n",
       "      <td>0.0</td>\n",
       "      <td>0.0</td>\n",
       "      <td>0.0</td>\n",
       "      <td>0.0</td>\n",
       "    </tr>\n",
       "  </tbody>\n",
       "</table>\n",
       "</div>"
      ],
      "text/plain": [
       "     A    R    N    D    C    Q    E    G    H    I    L    K    M    F    P  \\\n",
       "A  0.0  0.0  1.0  0.0  0.0 -0.0  0.0 -0.0  0.0 -1.0 -0.0 -0.0 -1.0 -0.0 -0.0   \n",
       "R  0.0  1.0 -1.0  0.0  0.0 -0.0  0.0  0.0 -0.0 -0.0 -0.0 -0.0 -0.0  1.0 -0.0   \n",
       "N  1.0 -1.0  2.0 -0.0  0.0 -1.0  0.0 -1.0  1.0 -2.0 -1.0 -1.0 -1.0 -1.0 -1.0   \n",
       "D  0.0  0.0 -0.0  0.0  0.0  0.0  0.0  0.0 -0.0 -1.0 -0.0 -0.0 -0.0 -0.0 -0.0   \n",
       "C  0.0  0.0  0.0  0.0  0.0  0.0  0.0  0.0  0.0  0.0  0.0  0.0  0.0  0.0  0.0   \n",
       "Q -0.0 -0.0 -1.0  0.0  0.0  1.0 -0.0 -0.0 -0.0  1.0  1.0  0.0  1.0  0.0  1.0   \n",
       "E  0.0  0.0  0.0  0.0  0.0 -0.0 -0.0  0.0  0.0 -0.0 -0.0 -0.0 -0.0 -0.0 -0.0   \n",
       "G -0.0  0.0 -1.0  0.0  0.0 -0.0  0.0  1.0 -0.0 -2.0 -1.0 -0.0 -1.0 -1.0 -1.0   \n",
       "H  0.0 -0.0  1.0 -0.0  0.0 -0.0  0.0 -0.0 -0.0 -0.0 -0.0 -0.0 -0.0 -0.0 -0.0   \n",
       "I -1.0 -0.0 -2.0 -1.0  0.0  1.0 -0.0 -2.0 -0.0  2.0  2.0  1.0  2.0  1.0  2.0   \n",
       "L -0.0 -0.0 -1.0 -0.0  0.0  1.0 -0.0 -1.0 -0.0  2.0  1.0  1.0  1.0  1.0  1.0   \n",
       "K -0.0 -0.0 -1.0 -0.0  0.0  0.0 -0.0 -0.0 -0.0  1.0  1.0 -1.0  1.0  0.0  1.0   \n",
       "M -1.0 -0.0 -1.0 -0.0  0.0  1.0 -0.0 -1.0 -0.0  2.0  1.0  1.0  1.0  1.0  1.0   \n",
       "F -0.0  1.0 -1.0 -0.0  0.0  0.0 -0.0 -1.0 -0.0  1.0  1.0  0.0  1.0  1.0  1.0   \n",
       "P -0.0 -0.0 -1.0 -0.0  0.0  1.0 -0.0 -1.0 -0.0  2.0  1.0  1.0  1.0  1.0  1.0   \n",
       "S  0.0 -0.0  0.0  0.0  0.0 -0.0  0.0  0.0  0.0 -1.0 -1.0 -0.0 -1.0 -1.0 -1.0   \n",
       "T  0.0  0.0  1.0  0.0  0.0 -0.0  0.0 -0.0  0.0 -1.0 -0.0 -0.0 -0.0 -0.0 -0.0   \n",
       "W  0.0  0.0  0.0 -0.0  0.0  0.0  0.0 -0.0 -0.0  1.0  0.0  0.0  0.0  0.0  0.0   \n",
       "Y  0.0 -0.0  2.0 -1.0  0.0 -0.0  0.0 -1.0  1.0  0.0 -0.0 -0.0  0.0  0.0  0.0   \n",
       "V  0.0  0.0  0.0 -0.0  0.0 -0.0  0.0 -0.0 -0.0  0.0  0.0 -0.0  0.0  0.0 -0.0   \n",
       "\n",
       "     S    T    W    Y    V  \n",
       "A  0.0  0.0  0.0  0.0  0.0  \n",
       "R -0.0  0.0  0.0 -0.0  0.0  \n",
       "N  0.0  1.0  0.0  2.0  0.0  \n",
       "D  0.0  0.0 -0.0 -1.0 -0.0  \n",
       "C  0.0  0.0  0.0  0.0  0.0  \n",
       "Q -0.0 -0.0  0.0 -0.0 -0.0  \n",
       "E  0.0  0.0  0.0  0.0  0.0  \n",
       "G  0.0 -0.0 -0.0 -1.0 -0.0  \n",
       "H  0.0  0.0 -0.0  1.0 -0.0  \n",
       "I -1.0 -1.0  1.0  0.0  0.0  \n",
       "L -1.0 -0.0  0.0 -0.0  0.0  \n",
       "K -0.0 -0.0  0.0 -0.0 -0.0  \n",
       "M -1.0 -0.0  0.0  0.0  0.0  \n",
       "F -1.0 -0.0  0.0  0.0  0.0  \n",
       "P -1.0 -0.0  0.0  0.0 -0.0  \n",
       "S  0.0  0.0 -0.0 -0.0 -0.0  \n",
       "T  0.0  0.0  0.0  0.0  0.0  \n",
       "W -0.0  0.0 -0.0  0.0  0.0  \n",
       "Y -0.0  0.0  0.0  1.0  0.0  \n",
       "V -0.0  0.0  0.0  0.0  0.0  "
      ]
     },
     "execution_count": 267,
     "metadata": {},
     "output_type": "execute_result"
    }
   ],
   "source": [
    "species, chain, epitope, cdr3_len = 'HomoSapiens', 'TRB', 'GILGFVFTL', 14\n",
    "df = filter_df(vdjdb_slim_df, [species], [epitope], [chain], cdr3_len)\n",
    "start_pos, end_pos = get_concervative_pos(df, 80)\n",
    "L = get_blosum_matrix(df, cdr3_start_pos, cdr3_end_pos)\n",
    "result = pd.DataFrame(L, index=AMINO_ACIDS, columns=AMINO_ACIDS)\n",
    "result"
   ]
  },
  {
   "cell_type": "code",
   "execution_count": 268,
   "metadata": {},
   "outputs": [
    {
     "name": "stdout",
     "output_type": "stream",
     "text": [
      "N(D)N start position: 5, end position: 7\n"
     ]
    }
   ],
   "source": [
    "print(f'N(D)N start position: {start_pos}, end position: {end_pos}')"
   ]
  },
  {
   "cell_type": "code",
   "execution_count": 270,
   "metadata": {},
   "outputs": [],
   "source": [
    "df['v_len_arr'] = df['v.end']\n",
    "df['cdr3_len_arr'] = df['j.start'] - df['v.end']\n",
    "df['j_len_arr'] = CDR3_LEN - df['j.start']"
   ]
  },
  {
   "cell_type": "code",
   "execution_count": 274,
   "metadata": {},
   "outputs": [
    {
     "data": {
      "application/vnd.plotly.v1+json": {
       "config": {
        "plotlyServerURL": "https://plot.ly"
       },
       "data": [
        {
         "name": "V",
         "orientation": "h",
         "type": "bar",
         "x": [
          5,
          5,
          5,
          5,
          4,
          4,
          4,
          4,
          5,
          5,
          5,
          3,
          3,
          3,
          4,
          4,
          4,
          4,
          4,
          4,
          4,
          4,
          4,
          4,
          4,
          4,
          4,
          4,
          4,
          5,
          5,
          5,
          5,
          5,
          5,
          5,
          5,
          5,
          5,
          5,
          5,
          5,
          5,
          5,
          5,
          5,
          5,
          5,
          3,
          3,
          3,
          3,
          4,
          4,
          4,
          4,
          4,
          4,
          4,
          4,
          4,
          4,
          4,
          4,
          4,
          4,
          4,
          4,
          4,
          4,
          4,
          5,
          5,
          5,
          5,
          5,
          5,
          5,
          5,
          2,
          2,
          3,
          3,
          3,
          3,
          3,
          3,
          4,
          4,
          4,
          4,
          4,
          4,
          4,
          4,
          4,
          4,
          4,
          3,
          3
         ]
        },
        {
         "name": "N(D)N",
         "orientation": "h",
         "type": "bar",
         "x": [
          1,
          2,
          2,
          2,
          3,
          3,
          3,
          3,
          3,
          3,
          3,
          4,
          4,
          4,
          4,
          4,
          4,
          4,
          4,
          4,
          4,
          4,
          4,
          4,
          4,
          4,
          4,
          4,
          4,
          4,
          4,
          4,
          4,
          4,
          4,
          4,
          4,
          4,
          4,
          4,
          4,
          4,
          4,
          4,
          4,
          4,
          4,
          4,
          5,
          5,
          5,
          5,
          5,
          5,
          5,
          5,
          5,
          5,
          5,
          5,
          5,
          5,
          5,
          5,
          5,
          5,
          5,
          5,
          5,
          5,
          5,
          5,
          5,
          5,
          5,
          5,
          5,
          5,
          5,
          6,
          6,
          6,
          6,
          6,
          6,
          6,
          6,
          6,
          6,
          6,
          6,
          6,
          6,
          6,
          6,
          6,
          6,
          6,
          7,
          7
         ]
        },
        {
         "name": "J",
         "orientation": "h",
         "type": "bar",
         "x": [
          8,
          7,
          7,
          7,
          7,
          7,
          7,
          7,
          6,
          6,
          6,
          7,
          7,
          7,
          6,
          6,
          6,
          6,
          6,
          6,
          6,
          6,
          6,
          6,
          6,
          6,
          6,
          6,
          6,
          5,
          5,
          5,
          5,
          5,
          5,
          5,
          5,
          5,
          5,
          5,
          5,
          5,
          5,
          5,
          5,
          5,
          5,
          5,
          6,
          6,
          6,
          6,
          5,
          5,
          5,
          5,
          5,
          5,
          5,
          5,
          5,
          5,
          5,
          5,
          5,
          5,
          5,
          5,
          5,
          5,
          5,
          4,
          4,
          4,
          4,
          4,
          4,
          4,
          4,
          6,
          6,
          5,
          5,
          5,
          5,
          5,
          5,
          4,
          4,
          4,
          4,
          4,
          4,
          4,
          4,
          4,
          4,
          4,
          4,
          4
         ]
        },
        {
         "line": {
          "color": "black"
         },
         "name": "N(D)N start, 80%",
         "type": "scatter",
         "x": [
          5,
          5
         ],
         "y": [
          0,
          100
         ]
        },
        {
         "line": {
          "color": "black"
         },
         "name": "N(D)N end, 80%",
         "type": "scatter",
         "x": [
          8,
          8
         ],
         "y": [
          0,
          100
         ]
        }
       ],
       "layout": {
        "barmode": "stack",
        "template": {
         "data": {
          "bar": [
           {
            "error_x": {
             "color": "#2a3f5f"
            },
            "error_y": {
             "color": "#2a3f5f"
            },
            "marker": {
             "line": {
              "color": "#E5ECF6",
              "width": 0.5
             }
            },
            "type": "bar"
           }
          ],
          "barpolar": [
           {
            "marker": {
             "line": {
              "color": "#E5ECF6",
              "width": 0.5
             }
            },
            "type": "barpolar"
           }
          ],
          "carpet": [
           {
            "aaxis": {
             "endlinecolor": "#2a3f5f",
             "gridcolor": "white",
             "linecolor": "white",
             "minorgridcolor": "white",
             "startlinecolor": "#2a3f5f"
            },
            "baxis": {
             "endlinecolor": "#2a3f5f",
             "gridcolor": "white",
             "linecolor": "white",
             "minorgridcolor": "white",
             "startlinecolor": "#2a3f5f"
            },
            "type": "carpet"
           }
          ],
          "choropleth": [
           {
            "colorbar": {
             "outlinewidth": 0,
             "ticks": ""
            },
            "type": "choropleth"
           }
          ],
          "contour": [
           {
            "colorbar": {
             "outlinewidth": 0,
             "ticks": ""
            },
            "colorscale": [
             [
              0,
              "#0d0887"
             ],
             [
              0.1111111111111111,
              "#46039f"
             ],
             [
              0.2222222222222222,
              "#7201a8"
             ],
             [
              0.3333333333333333,
              "#9c179e"
             ],
             [
              0.4444444444444444,
              "#bd3786"
             ],
             [
              0.5555555555555556,
              "#d8576b"
             ],
             [
              0.6666666666666666,
              "#ed7953"
             ],
             [
              0.7777777777777778,
              "#fb9f3a"
             ],
             [
              0.8888888888888888,
              "#fdca26"
             ],
             [
              1,
              "#f0f921"
             ]
            ],
            "type": "contour"
           }
          ],
          "contourcarpet": [
           {
            "colorbar": {
             "outlinewidth": 0,
             "ticks": ""
            },
            "type": "contourcarpet"
           }
          ],
          "heatmap": [
           {
            "colorbar": {
             "outlinewidth": 0,
             "ticks": ""
            },
            "colorscale": [
             [
              0,
              "#0d0887"
             ],
             [
              0.1111111111111111,
              "#46039f"
             ],
             [
              0.2222222222222222,
              "#7201a8"
             ],
             [
              0.3333333333333333,
              "#9c179e"
             ],
             [
              0.4444444444444444,
              "#bd3786"
             ],
             [
              0.5555555555555556,
              "#d8576b"
             ],
             [
              0.6666666666666666,
              "#ed7953"
             ],
             [
              0.7777777777777778,
              "#fb9f3a"
             ],
             [
              0.8888888888888888,
              "#fdca26"
             ],
             [
              1,
              "#f0f921"
             ]
            ],
            "type": "heatmap"
           }
          ],
          "heatmapgl": [
           {
            "colorbar": {
             "outlinewidth": 0,
             "ticks": ""
            },
            "colorscale": [
             [
              0,
              "#0d0887"
             ],
             [
              0.1111111111111111,
              "#46039f"
             ],
             [
              0.2222222222222222,
              "#7201a8"
             ],
             [
              0.3333333333333333,
              "#9c179e"
             ],
             [
              0.4444444444444444,
              "#bd3786"
             ],
             [
              0.5555555555555556,
              "#d8576b"
             ],
             [
              0.6666666666666666,
              "#ed7953"
             ],
             [
              0.7777777777777778,
              "#fb9f3a"
             ],
             [
              0.8888888888888888,
              "#fdca26"
             ],
             [
              1,
              "#f0f921"
             ]
            ],
            "type": "heatmapgl"
           }
          ],
          "histogram": [
           {
            "marker": {
             "colorbar": {
              "outlinewidth": 0,
              "ticks": ""
             }
            },
            "type": "histogram"
           }
          ],
          "histogram2d": [
           {
            "colorbar": {
             "outlinewidth": 0,
             "ticks": ""
            },
            "colorscale": [
             [
              0,
              "#0d0887"
             ],
             [
              0.1111111111111111,
              "#46039f"
             ],
             [
              0.2222222222222222,
              "#7201a8"
             ],
             [
              0.3333333333333333,
              "#9c179e"
             ],
             [
              0.4444444444444444,
              "#bd3786"
             ],
             [
              0.5555555555555556,
              "#d8576b"
             ],
             [
              0.6666666666666666,
              "#ed7953"
             ],
             [
              0.7777777777777778,
              "#fb9f3a"
             ],
             [
              0.8888888888888888,
              "#fdca26"
             ],
             [
              1,
              "#f0f921"
             ]
            ],
            "type": "histogram2d"
           }
          ],
          "histogram2dcontour": [
           {
            "colorbar": {
             "outlinewidth": 0,
             "ticks": ""
            },
            "colorscale": [
             [
              0,
              "#0d0887"
             ],
             [
              0.1111111111111111,
              "#46039f"
             ],
             [
              0.2222222222222222,
              "#7201a8"
             ],
             [
              0.3333333333333333,
              "#9c179e"
             ],
             [
              0.4444444444444444,
              "#bd3786"
             ],
             [
              0.5555555555555556,
              "#d8576b"
             ],
             [
              0.6666666666666666,
              "#ed7953"
             ],
             [
              0.7777777777777778,
              "#fb9f3a"
             ],
             [
              0.8888888888888888,
              "#fdca26"
             ],
             [
              1,
              "#f0f921"
             ]
            ],
            "type": "histogram2dcontour"
           }
          ],
          "mesh3d": [
           {
            "colorbar": {
             "outlinewidth": 0,
             "ticks": ""
            },
            "type": "mesh3d"
           }
          ],
          "parcoords": [
           {
            "line": {
             "colorbar": {
              "outlinewidth": 0,
              "ticks": ""
             }
            },
            "type": "parcoords"
           }
          ],
          "scatter": [
           {
            "marker": {
             "colorbar": {
              "outlinewidth": 0,
              "ticks": ""
             }
            },
            "type": "scatter"
           }
          ],
          "scatter3d": [
           {
            "line": {
             "colorbar": {
              "outlinewidth": 0,
              "ticks": ""
             }
            },
            "marker": {
             "colorbar": {
              "outlinewidth": 0,
              "ticks": ""
             }
            },
            "type": "scatter3d"
           }
          ],
          "scattercarpet": [
           {
            "marker": {
             "colorbar": {
              "outlinewidth": 0,
              "ticks": ""
             }
            },
            "type": "scattercarpet"
           }
          ],
          "scattergeo": [
           {
            "marker": {
             "colorbar": {
              "outlinewidth": 0,
              "ticks": ""
             }
            },
            "type": "scattergeo"
           }
          ],
          "scattergl": [
           {
            "marker": {
             "colorbar": {
              "outlinewidth": 0,
              "ticks": ""
             }
            },
            "type": "scattergl"
           }
          ],
          "scattermapbox": [
           {
            "marker": {
             "colorbar": {
              "outlinewidth": 0,
              "ticks": ""
             }
            },
            "type": "scattermapbox"
           }
          ],
          "scatterpolar": [
           {
            "marker": {
             "colorbar": {
              "outlinewidth": 0,
              "ticks": ""
             }
            },
            "type": "scatterpolar"
           }
          ],
          "scatterpolargl": [
           {
            "marker": {
             "colorbar": {
              "outlinewidth": 0,
              "ticks": ""
             }
            },
            "type": "scatterpolargl"
           }
          ],
          "scatterternary": [
           {
            "marker": {
             "colorbar": {
              "outlinewidth": 0,
              "ticks": ""
             }
            },
            "type": "scatterternary"
           }
          ],
          "surface": [
           {
            "colorbar": {
             "outlinewidth": 0,
             "ticks": ""
            },
            "colorscale": [
             [
              0,
              "#0d0887"
             ],
             [
              0.1111111111111111,
              "#46039f"
             ],
             [
              0.2222222222222222,
              "#7201a8"
             ],
             [
              0.3333333333333333,
              "#9c179e"
             ],
             [
              0.4444444444444444,
              "#bd3786"
             ],
             [
              0.5555555555555556,
              "#d8576b"
             ],
             [
              0.6666666666666666,
              "#ed7953"
             ],
             [
              0.7777777777777778,
              "#fb9f3a"
             ],
             [
              0.8888888888888888,
              "#fdca26"
             ],
             [
              1,
              "#f0f921"
             ]
            ],
            "type": "surface"
           }
          ],
          "table": [
           {
            "cells": {
             "fill": {
              "color": "#EBF0F8"
             },
             "line": {
              "color": "white"
             }
            },
            "header": {
             "fill": {
              "color": "#C8D4E3"
             },
             "line": {
              "color": "white"
             }
            },
            "type": "table"
           }
          ]
         },
         "layout": {
          "annotationdefaults": {
           "arrowcolor": "#2a3f5f",
           "arrowhead": 0,
           "arrowwidth": 1
          },
          "colorscale": {
           "diverging": [
            [
             0,
             "#8e0152"
            ],
            [
             0.1,
             "#c51b7d"
            ],
            [
             0.2,
             "#de77ae"
            ],
            [
             0.3,
             "#f1b6da"
            ],
            [
             0.4,
             "#fde0ef"
            ],
            [
             0.5,
             "#f7f7f7"
            ],
            [
             0.6,
             "#e6f5d0"
            ],
            [
             0.7,
             "#b8e186"
            ],
            [
             0.8,
             "#7fbc41"
            ],
            [
             0.9,
             "#4d9221"
            ],
            [
             1,
             "#276419"
            ]
           ],
           "sequential": [
            [
             0,
             "#0d0887"
            ],
            [
             0.1111111111111111,
             "#46039f"
            ],
            [
             0.2222222222222222,
             "#7201a8"
            ],
            [
             0.3333333333333333,
             "#9c179e"
            ],
            [
             0.4444444444444444,
             "#bd3786"
            ],
            [
             0.5555555555555556,
             "#d8576b"
            ],
            [
             0.6666666666666666,
             "#ed7953"
            ],
            [
             0.7777777777777778,
             "#fb9f3a"
            ],
            [
             0.8888888888888888,
             "#fdca26"
            ],
            [
             1,
             "#f0f921"
            ]
           ],
           "sequentialminus": [
            [
             0,
             "#0d0887"
            ],
            [
             0.1111111111111111,
             "#46039f"
            ],
            [
             0.2222222222222222,
             "#7201a8"
            ],
            [
             0.3333333333333333,
             "#9c179e"
            ],
            [
             0.4444444444444444,
             "#bd3786"
            ],
            [
             0.5555555555555556,
             "#d8576b"
            ],
            [
             0.6666666666666666,
             "#ed7953"
            ],
            [
             0.7777777777777778,
             "#fb9f3a"
            ],
            [
             0.8888888888888888,
             "#fdca26"
            ],
            [
             1,
             "#f0f921"
            ]
           ]
          },
          "colorway": [
           "#636efa",
           "#EF553B",
           "#00cc96",
           "#ab63fa",
           "#FFA15A",
           "#19d3f3",
           "#FF6692",
           "#B6E880",
           "#FF97FF",
           "#FECB52"
          ],
          "font": {
           "color": "#2a3f5f"
          },
          "geo": {
           "bgcolor": "white",
           "lakecolor": "white",
           "landcolor": "#E5ECF6",
           "showlakes": true,
           "showland": true,
           "subunitcolor": "white"
          },
          "hoverlabel": {
           "align": "left"
          },
          "hovermode": "closest",
          "mapbox": {
           "style": "light"
          },
          "paper_bgcolor": "white",
          "plot_bgcolor": "#E5ECF6",
          "polar": {
           "angularaxis": {
            "gridcolor": "white",
            "linecolor": "white",
            "ticks": ""
           },
           "bgcolor": "#E5ECF6",
           "radialaxis": {
            "gridcolor": "white",
            "linecolor": "white",
            "ticks": ""
           }
          },
          "scene": {
           "xaxis": {
            "backgroundcolor": "#E5ECF6",
            "gridcolor": "white",
            "gridwidth": 2,
            "linecolor": "white",
            "showbackground": true,
            "ticks": "",
            "zerolinecolor": "white"
           },
           "yaxis": {
            "backgroundcolor": "#E5ECF6",
            "gridcolor": "white",
            "gridwidth": 2,
            "linecolor": "white",
            "showbackground": true,
            "ticks": "",
            "zerolinecolor": "white"
           },
           "zaxis": {
            "backgroundcolor": "#E5ECF6",
            "gridcolor": "white",
            "gridwidth": 2,
            "linecolor": "white",
            "showbackground": true,
            "ticks": "",
            "zerolinecolor": "white"
           }
          },
          "shapedefaults": {
           "line": {
            "color": "#2a3f5f"
           }
          },
          "ternary": {
           "aaxis": {
            "gridcolor": "white",
            "linecolor": "white",
            "ticks": ""
           },
           "baxis": {
            "gridcolor": "white",
            "linecolor": "white",
            "ticks": ""
           },
           "bgcolor": "#E5ECF6",
           "caxis": {
            "gridcolor": "white",
            "linecolor": "white",
            "ticks": ""
           }
          },
          "title": {
           "x": 0.05
          },
          "xaxis": {
           "automargin": true,
           "gridcolor": "white",
           "linecolor": "white",
           "ticks": "",
           "zerolinecolor": "white",
           "zerolinewidth": 2
          },
          "yaxis": {
           "automargin": true,
           "gridcolor": "white",
           "linecolor": "white",
           "ticks": "",
           "zerolinecolor": "white",
           "zerolinewidth": 2
          }
         }
        },
        "title": {
         "text": "HomoSapiens, GIL, TRB, Len: 14"
        }
       }
      },
      "text/html": [
       "<div>\n",
       "        \n",
       "        \n",
       "            <div id=\"c17c634c-df03-4b67-8d29-3fa41b893def\" class=\"plotly-graph-div\" style=\"height:525px; width:100%;\"></div>\n",
       "            <script type=\"text/javascript\">\n",
       "                require([\"plotly\"], function(Plotly) {\n",
       "                    window.PLOTLYENV=window.PLOTLYENV || {};\n",
       "                    \n",
       "                if (document.getElementById(\"c17c634c-df03-4b67-8d29-3fa41b893def\")) {\n",
       "                    Plotly.newPlot(\n",
       "                        'c17c634c-df03-4b67-8d29-3fa41b893def',\n",
       "                        [{\"name\": \"V\", \"orientation\": \"h\", \"type\": \"bar\", \"x\": [5, 5, 5, 5, 4, 4, 4, 4, 5, 5, 5, 3, 3, 3, 4, 4, 4, 4, 4, 4, 4, 4, 4, 4, 4, 4, 4, 4, 4, 5, 5, 5, 5, 5, 5, 5, 5, 5, 5, 5, 5, 5, 5, 5, 5, 5, 5, 5, 3, 3, 3, 3, 4, 4, 4, 4, 4, 4, 4, 4, 4, 4, 4, 4, 4, 4, 4, 4, 4, 4, 4, 5, 5, 5, 5, 5, 5, 5, 5, 2, 2, 3, 3, 3, 3, 3, 3, 4, 4, 4, 4, 4, 4, 4, 4, 4, 4, 4, 3, 3]}, {\"name\": \"N(D)N\", \"orientation\": \"h\", \"type\": \"bar\", \"x\": [1, 2, 2, 2, 3, 3, 3, 3, 3, 3, 3, 4, 4, 4, 4, 4, 4, 4, 4, 4, 4, 4, 4, 4, 4, 4, 4, 4, 4, 4, 4, 4, 4, 4, 4, 4, 4, 4, 4, 4, 4, 4, 4, 4, 4, 4, 4, 4, 5, 5, 5, 5, 5, 5, 5, 5, 5, 5, 5, 5, 5, 5, 5, 5, 5, 5, 5, 5, 5, 5, 5, 5, 5, 5, 5, 5, 5, 5, 5, 6, 6, 6, 6, 6, 6, 6, 6, 6, 6, 6, 6, 6, 6, 6, 6, 6, 6, 6, 7, 7]}, {\"name\": \"J\", \"orientation\": \"h\", \"type\": \"bar\", \"x\": [8, 7, 7, 7, 7, 7, 7, 7, 6, 6, 6, 7, 7, 7, 6, 6, 6, 6, 6, 6, 6, 6, 6, 6, 6, 6, 6, 6, 6, 5, 5, 5, 5, 5, 5, 5, 5, 5, 5, 5, 5, 5, 5, 5, 5, 5, 5, 5, 6, 6, 6, 6, 5, 5, 5, 5, 5, 5, 5, 5, 5, 5, 5, 5, 5, 5, 5, 5, 5, 5, 5, 4, 4, 4, 4, 4, 4, 4, 4, 6, 6, 5, 5, 5, 5, 5, 5, 4, 4, 4, 4, 4, 4, 4, 4, 4, 4, 4, 4, 4]}, {\"line\": {\"color\": \"black\"}, \"name\": \"N(D)N start, 80%\", \"type\": \"scatter\", \"x\": [5, 5], \"y\": [0, 100]}, {\"line\": {\"color\": \"black\"}, \"name\": \"N(D)N end, 80%\", \"type\": \"scatter\", \"x\": [8, 8], \"y\": [0, 100]}],\n",
       "                        {\"barmode\": \"stack\", \"template\": {\"data\": {\"bar\": [{\"error_x\": {\"color\": \"#2a3f5f\"}, \"error_y\": {\"color\": \"#2a3f5f\"}, \"marker\": {\"line\": {\"color\": \"#E5ECF6\", \"width\": 0.5}}, \"type\": \"bar\"}], \"barpolar\": [{\"marker\": {\"line\": {\"color\": \"#E5ECF6\", \"width\": 0.5}}, \"type\": \"barpolar\"}], \"carpet\": [{\"aaxis\": {\"endlinecolor\": \"#2a3f5f\", \"gridcolor\": \"white\", \"linecolor\": \"white\", \"minorgridcolor\": \"white\", \"startlinecolor\": \"#2a3f5f\"}, \"baxis\": {\"endlinecolor\": \"#2a3f5f\", \"gridcolor\": \"white\", \"linecolor\": \"white\", \"minorgridcolor\": \"white\", \"startlinecolor\": \"#2a3f5f\"}, \"type\": \"carpet\"}], \"choropleth\": [{\"colorbar\": {\"outlinewidth\": 0, \"ticks\": \"\"}, \"type\": \"choropleth\"}], \"contour\": [{\"colorbar\": {\"outlinewidth\": 0, \"ticks\": \"\"}, \"colorscale\": [[0.0, \"#0d0887\"], [0.1111111111111111, \"#46039f\"], [0.2222222222222222, \"#7201a8\"], [0.3333333333333333, \"#9c179e\"], [0.4444444444444444, \"#bd3786\"], [0.5555555555555556, \"#d8576b\"], [0.6666666666666666, \"#ed7953\"], [0.7777777777777778, \"#fb9f3a\"], [0.8888888888888888, \"#fdca26\"], [1.0, \"#f0f921\"]], \"type\": \"contour\"}], \"contourcarpet\": [{\"colorbar\": {\"outlinewidth\": 0, \"ticks\": \"\"}, \"type\": \"contourcarpet\"}], \"heatmap\": [{\"colorbar\": {\"outlinewidth\": 0, \"ticks\": \"\"}, \"colorscale\": [[0.0, \"#0d0887\"], [0.1111111111111111, \"#46039f\"], [0.2222222222222222, \"#7201a8\"], [0.3333333333333333, \"#9c179e\"], [0.4444444444444444, \"#bd3786\"], [0.5555555555555556, \"#d8576b\"], [0.6666666666666666, \"#ed7953\"], [0.7777777777777778, \"#fb9f3a\"], [0.8888888888888888, \"#fdca26\"], [1.0, \"#f0f921\"]], \"type\": \"heatmap\"}], \"heatmapgl\": [{\"colorbar\": {\"outlinewidth\": 0, \"ticks\": \"\"}, \"colorscale\": [[0.0, \"#0d0887\"], [0.1111111111111111, \"#46039f\"], [0.2222222222222222, \"#7201a8\"], [0.3333333333333333, \"#9c179e\"], [0.4444444444444444, \"#bd3786\"], [0.5555555555555556, \"#d8576b\"], [0.6666666666666666, \"#ed7953\"], [0.7777777777777778, \"#fb9f3a\"], [0.8888888888888888, \"#fdca26\"], [1.0, \"#f0f921\"]], \"type\": \"heatmapgl\"}], \"histogram\": [{\"marker\": {\"colorbar\": {\"outlinewidth\": 0, \"ticks\": \"\"}}, \"type\": \"histogram\"}], \"histogram2d\": [{\"colorbar\": {\"outlinewidth\": 0, \"ticks\": \"\"}, \"colorscale\": [[0.0, \"#0d0887\"], [0.1111111111111111, \"#46039f\"], [0.2222222222222222, \"#7201a8\"], [0.3333333333333333, \"#9c179e\"], [0.4444444444444444, \"#bd3786\"], [0.5555555555555556, \"#d8576b\"], [0.6666666666666666, \"#ed7953\"], [0.7777777777777778, \"#fb9f3a\"], [0.8888888888888888, \"#fdca26\"], [1.0, \"#f0f921\"]], \"type\": \"histogram2d\"}], \"histogram2dcontour\": [{\"colorbar\": {\"outlinewidth\": 0, \"ticks\": \"\"}, \"colorscale\": [[0.0, \"#0d0887\"], [0.1111111111111111, \"#46039f\"], [0.2222222222222222, \"#7201a8\"], [0.3333333333333333, \"#9c179e\"], [0.4444444444444444, \"#bd3786\"], [0.5555555555555556, \"#d8576b\"], [0.6666666666666666, \"#ed7953\"], [0.7777777777777778, \"#fb9f3a\"], [0.8888888888888888, \"#fdca26\"], [1.0, \"#f0f921\"]], \"type\": \"histogram2dcontour\"}], \"mesh3d\": [{\"colorbar\": {\"outlinewidth\": 0, \"ticks\": \"\"}, \"type\": \"mesh3d\"}], \"parcoords\": [{\"line\": {\"colorbar\": {\"outlinewidth\": 0, \"ticks\": \"\"}}, \"type\": \"parcoords\"}], \"scatter\": [{\"marker\": {\"colorbar\": {\"outlinewidth\": 0, \"ticks\": \"\"}}, \"type\": \"scatter\"}], \"scatter3d\": [{\"line\": {\"colorbar\": {\"outlinewidth\": 0, \"ticks\": \"\"}}, \"marker\": {\"colorbar\": {\"outlinewidth\": 0, \"ticks\": \"\"}}, \"type\": \"scatter3d\"}], \"scattercarpet\": [{\"marker\": {\"colorbar\": {\"outlinewidth\": 0, \"ticks\": \"\"}}, \"type\": \"scattercarpet\"}], \"scattergeo\": [{\"marker\": {\"colorbar\": {\"outlinewidth\": 0, \"ticks\": \"\"}}, \"type\": \"scattergeo\"}], \"scattergl\": [{\"marker\": {\"colorbar\": {\"outlinewidth\": 0, \"ticks\": \"\"}}, \"type\": \"scattergl\"}], \"scattermapbox\": [{\"marker\": {\"colorbar\": {\"outlinewidth\": 0, \"ticks\": \"\"}}, \"type\": \"scattermapbox\"}], \"scatterpolar\": [{\"marker\": {\"colorbar\": {\"outlinewidth\": 0, \"ticks\": \"\"}}, \"type\": \"scatterpolar\"}], \"scatterpolargl\": [{\"marker\": {\"colorbar\": {\"outlinewidth\": 0, \"ticks\": \"\"}}, \"type\": \"scatterpolargl\"}], \"scatterternary\": [{\"marker\": {\"colorbar\": {\"outlinewidth\": 0, \"ticks\": \"\"}}, \"type\": \"scatterternary\"}], \"surface\": [{\"colorbar\": {\"outlinewidth\": 0, \"ticks\": \"\"}, \"colorscale\": [[0.0, \"#0d0887\"], [0.1111111111111111, \"#46039f\"], [0.2222222222222222, \"#7201a8\"], [0.3333333333333333, \"#9c179e\"], [0.4444444444444444, \"#bd3786\"], [0.5555555555555556, \"#d8576b\"], [0.6666666666666666, \"#ed7953\"], [0.7777777777777778, \"#fb9f3a\"], [0.8888888888888888, \"#fdca26\"], [1.0, \"#f0f921\"]], \"type\": \"surface\"}], \"table\": [{\"cells\": {\"fill\": {\"color\": \"#EBF0F8\"}, \"line\": {\"color\": \"white\"}}, \"header\": {\"fill\": {\"color\": \"#C8D4E3\"}, \"line\": {\"color\": \"white\"}}, \"type\": \"table\"}]}, \"layout\": {\"annotationdefaults\": {\"arrowcolor\": \"#2a3f5f\", \"arrowhead\": 0, \"arrowwidth\": 1}, \"colorscale\": {\"diverging\": [[0, \"#8e0152\"], [0.1, \"#c51b7d\"], [0.2, \"#de77ae\"], [0.3, \"#f1b6da\"], [0.4, \"#fde0ef\"], [0.5, \"#f7f7f7\"], [0.6, \"#e6f5d0\"], [0.7, \"#b8e186\"], [0.8, \"#7fbc41\"], [0.9, \"#4d9221\"], [1, \"#276419\"]], \"sequential\": [[0.0, \"#0d0887\"], [0.1111111111111111, \"#46039f\"], [0.2222222222222222, \"#7201a8\"], [0.3333333333333333, \"#9c179e\"], [0.4444444444444444, \"#bd3786\"], [0.5555555555555556, \"#d8576b\"], [0.6666666666666666, \"#ed7953\"], [0.7777777777777778, \"#fb9f3a\"], [0.8888888888888888, \"#fdca26\"], [1.0, \"#f0f921\"]], \"sequentialminus\": [[0.0, \"#0d0887\"], [0.1111111111111111, \"#46039f\"], [0.2222222222222222, \"#7201a8\"], [0.3333333333333333, \"#9c179e\"], [0.4444444444444444, \"#bd3786\"], [0.5555555555555556, \"#d8576b\"], [0.6666666666666666, \"#ed7953\"], [0.7777777777777778, \"#fb9f3a\"], [0.8888888888888888, \"#fdca26\"], [1.0, \"#f0f921\"]]}, \"colorway\": [\"#636efa\", \"#EF553B\", \"#00cc96\", \"#ab63fa\", \"#FFA15A\", \"#19d3f3\", \"#FF6692\", \"#B6E880\", \"#FF97FF\", \"#FECB52\"], \"font\": {\"color\": \"#2a3f5f\"}, \"geo\": {\"bgcolor\": \"white\", \"lakecolor\": \"white\", \"landcolor\": \"#E5ECF6\", \"showlakes\": true, \"showland\": true, \"subunitcolor\": \"white\"}, \"hoverlabel\": {\"align\": \"left\"}, \"hovermode\": \"closest\", \"mapbox\": {\"style\": \"light\"}, \"paper_bgcolor\": \"white\", \"plot_bgcolor\": \"#E5ECF6\", \"polar\": {\"angularaxis\": {\"gridcolor\": \"white\", \"linecolor\": \"white\", \"ticks\": \"\"}, \"bgcolor\": \"#E5ECF6\", \"radialaxis\": {\"gridcolor\": \"white\", \"linecolor\": \"white\", \"ticks\": \"\"}}, \"scene\": {\"xaxis\": {\"backgroundcolor\": \"#E5ECF6\", \"gridcolor\": \"white\", \"gridwidth\": 2, \"linecolor\": \"white\", \"showbackground\": true, \"ticks\": \"\", \"zerolinecolor\": \"white\"}, \"yaxis\": {\"backgroundcolor\": \"#E5ECF6\", \"gridcolor\": \"white\", \"gridwidth\": 2, \"linecolor\": \"white\", \"showbackground\": true, \"ticks\": \"\", \"zerolinecolor\": \"white\"}, \"zaxis\": {\"backgroundcolor\": \"#E5ECF6\", \"gridcolor\": \"white\", \"gridwidth\": 2, \"linecolor\": \"white\", \"showbackground\": true, \"ticks\": \"\", \"zerolinecolor\": \"white\"}}, \"shapedefaults\": {\"line\": {\"color\": \"#2a3f5f\"}}, \"ternary\": {\"aaxis\": {\"gridcolor\": \"white\", \"linecolor\": \"white\", \"ticks\": \"\"}, \"baxis\": {\"gridcolor\": \"white\", \"linecolor\": \"white\", \"ticks\": \"\"}, \"bgcolor\": \"#E5ECF6\", \"caxis\": {\"gridcolor\": \"white\", \"linecolor\": \"white\", \"ticks\": \"\"}}, \"title\": {\"x\": 0.05}, \"xaxis\": {\"automargin\": true, \"gridcolor\": \"white\", \"linecolor\": \"white\", \"ticks\": \"\", \"zerolinecolor\": \"white\", \"zerolinewidth\": 2}, \"yaxis\": {\"automargin\": true, \"gridcolor\": \"white\", \"linecolor\": \"white\", \"ticks\": \"\", \"zerolinecolor\": \"white\", \"zerolinewidth\": 2}}}, \"title\": {\"text\": \"HomoSapiens, GIL, TRB, Len: 14\"}},\n",
       "                        {\"responsive\": true}\n",
       "                    ).then(function(){\n",
       "                            \n",
       "var gd = document.getElementById('c17c634c-df03-4b67-8d29-3fa41b893def');\n",
       "var x = new MutationObserver(function (mutations, observer) {{\n",
       "        var display = window.getComputedStyle(gd).display;\n",
       "        if (!display || display === 'none') {{\n",
       "            console.log([gd, 'removed!']);\n",
       "            Plotly.purge(gd);\n",
       "            observer.disconnect();\n",
       "        }}\n",
       "}});\n",
       "\n",
       "// Listen for the removal of the full notebook cells\n",
       "var notebookContainer = gd.closest('#notebook-container');\n",
       "if (notebookContainer) {{\n",
       "    x.observe(notebookContainer, {childList: true});\n",
       "}}\n",
       "\n",
       "// Listen for the clearing of the current output cell\n",
       "var outputEl = gd.closest('.output');\n",
       "if (outputEl) {{\n",
       "    x.observe(outputEl, {childList: true});\n",
       "}}\n",
       "\n",
       "                        })\n",
       "                };\n",
       "                });\n",
       "            </script>\n",
       "        </div>"
      ]
     },
     "metadata": {},
     "output_type": "display_data"
    }
   ],
   "source": [
    "plot_sample_n = 100\n",
    "plot_df = df.sample(plot_sample_n, random_state=42).sort_values(['cdr3_len_arr', 'v_len_arr'])\n",
    "traces = []\n",
    "traces.append(go.Bar(x=plot_df.v_len_arr, orientation='h', name='V'))\n",
    "traces.append(go.Bar(x=plot_df.cdr3_len_arr, orientation='h', name='N(D)N'))\n",
    "traces.append(go.Bar(x=plot_df.j_len_arr, orientation='h', name='J'))\n",
    "traces.append(go.Scatter(x=[start_pos, start_pos], y=[0, plot_sample_n],\n",
    "                         name='N(D)N start, 80%', line={'color': 'black'}))\n",
    "traces.append(go.Scatter(x=[end_pos+1, end_pos+1], y=[0, plot_sample_n],\n",
    "                         name='N(D)N end, 80%', line={'color': 'black'}))\n",
    "fig = go.Figure(data=traces)\n",
    "fig.update_layout(barmode='stack', title='HomoSapiens, GIL, TRB, Len: 14')\n",
    "fig.show()"
   ]
  }
 ],
 "metadata": {
  "kernelspec": {
   "display_name": "Python 3",
   "language": "python",
   "name": "python3"
  },
  "language_info": {
   "codemirror_mode": {
    "name": "ipython",
    "version": 3
   },
   "file_extension": ".py",
   "mimetype": "text/x-python",
   "name": "python",
   "nbconvert_exporter": "python",
   "pygments_lexer": "ipython3",
   "version": "3.7.1"
  }
 },
 "nbformat": 4,
 "nbformat_minor": 2
}
