{
 "cells": [
  {
   "cell_type": "code",
   "execution_count": 246,
   "metadata": {},
   "outputs": [],
   "source": [
    "import numpy as np\n",
    "import pandas as pd\n",
    "from collections import Counter\n",
    "import plotly.graph_objects as go\n",
    "from plotly.subplots import make_subplots\n",
    "import matplotlib.pyplot as plt\n",
    "import seaborn as sns; sns.set()"
   ]
  },
  {
   "cell_type": "code",
   "execution_count": 152,
   "metadata": {},
   "outputs": [],
   "source": [
    "def filter_df(df, species, epitopes, chains, cdr3_len):\n",
    "    return df[(df['species'].isin(species)) &\n",
    "              (df['antigen.epitope'].isin(epitopes)) &\n",
    "              (df['gene'].isin(chains)) &\n",
    "              (df['cdr3_len'] == cdr3_len)].copy()"
   ]
  },
  {
   "cell_type": "code",
   "execution_count": 10,
   "metadata": {},
   "outputs": [],
   "source": [
    "def get_concervative_pos(df, q):\n",
    "    start_pos = np.percentile(df['v.end'], q=q, interpolation='nearest')\n",
    "    end_pos = np.percentile(df['j.start'], q=(100-q), interpolation='nearest') - 1\n",
    "    return start_pos, end_pos"
   ]
  },
  {
   "cell_type": "code",
   "execution_count": 208,
   "metadata": {},
   "outputs": [],
   "source": [
    "AMINO_ACIDS = ['A', 'R', 'N', 'D', 'C', 'Q', 'E', 'G', 'H', 'I', 'L', 'K', 'M', 'F', 'P', 'S', 'T', 'W', 'Y', 'V']\n",
    "AA_2_POS = {'A': 0, 'R': 1, 'N': 2, 'D': 3, 'C': 4,\n",
    "            'Q': 5, 'E': 6, 'G': 7, 'H': 8, 'I': 9,\n",
    "            'L': 10, 'K': 11, 'M': 12, 'F': 13, 'P': 14,\n",
    "            'S': 15, 'T': 16, 'W': 17, 'Y': 18, 'V': 19}\n",
    "AA_N = 20\n",
    "\n",
    "def get_blosum_matrix(df, start_pos, end_pos):\n",
    "    cdr3_full = df.cdr3.apply(lambda x: pd.Series(list(x))).values\n",
    "    cdr3 = cdr3_full[:, start_pos:(end_pos+1)]\n",
    "\n",
    "    # Frequency table\n",
    "    F_ij = np.zeros([AA_N, AA_N])\n",
    "    for j in range(0, cdr3.shape[1]):\n",
    "        column_acids = cdr3[:, j]\n",
    "        cnt = Counter(column_acids)\n",
    "        for i_acid, i in AA_2_POS.items():\n",
    "            for j_acid, j in AA_2_POS.items():\n",
    "                if (i_acid == j_acid) and cnt[i_acid] > 1:\n",
    "                    F_ij[i, j] += ((cnt[i_acid] * (cnt[i_acid] - 1)) / 2)\n",
    "                else:\n",
    "                    F_ij[i, j] += cnt[i_acid] * cnt[j_acid]\n",
    "    \n",
    "    # Observed probability\n",
    "    lower_Tr = np.tril(np.ones([AA_N, AA_N]))\n",
    "    np.fill_diagonal(lower_Tr, 1)\n",
    "    total_pairs = np.sum(lower_Tr * F_ij)\n",
    "    Q_ij = F_ij / total_pairs\n",
    "\n",
    "    # Expected probability\n",
    "    P_i = np.zeros(AA_N)\n",
    "    for i_acid, i in AA_2_POS.items():\n",
    "        P_i[i] = Q_ij[i, i] + (np.sum(Q_ij[i, :]) - Q_ij[i, i])/2\n",
    "    E_ij = np.zeros([AA_N, AA_N])\n",
    "    for i in np.arange(0, AA_N):\n",
    "        for j in np.arange(0, AA_N):\n",
    "            if i == j:\n",
    "                E_ij[i, j] = P_i[i] * P_i[i]\n",
    "            else:\n",
    "                E_ij[i, j] = 2 * P_i[i] * P_i[j]\n",
    "    \n",
    "    # The log-odds ration\n",
    "    L = np.zeros([AA_N, AA_N])\n",
    "    for i in np.arange(0, AA_N):\n",
    "        for j in np.arange(0, AA_N):\n",
    "            if (Q_ij[i, j] == 0) or (E_ij[i, j] == 0):\n",
    "                L[i, j] = 1\n",
    "            else:\n",
    "                L[i, j] = Q_ij[i, j] / E_ij[i, j]\n",
    "    L = np.round(np.log2(L) * 2)\n",
    "    return L"
   ]
  },
  {
   "cell_type": "markdown",
   "metadata": {},
   "source": [
    "#### Database preparing"
   ]
  },
  {
   "cell_type": "code",
   "execution_count": 202,
   "metadata": {},
   "outputs": [],
   "source": [
    "vdjdb_slim_df = pd.read_csv('../vdjdb-dump/vdjdb.slim.txt', sep='\\t')\n",
    "\n",
    "# Filter referencies from 10xgenomics.com\n",
    "vdjdb_slim_df = vdjdb_slim_df[~vdjdb_slim_df['reference.id'].str.startswith('https://www.10xgenomics.com')]\n",
    "\n",
    "# Filter bad positions of j.start and v.end\n",
    "vdjdb_slim_df = vdjdb_slim_df[(vdjdb_slim_df['v.end'] < vdjdb_slim_df['j.start']) & (vdjdb_slim_df['v.end'] > 0)]\n",
    "\n",
    "# add CDR3 len\n",
    "vdjdb_slim_df['cdr3_len'] = vdjdb_slim_df.cdr3.str.len()"
   ]
  },
  {
   "cell_type": "code",
   "execution_count": 203,
   "metadata": {},
   "outputs": [],
   "source": [
    "# Percentiles of samples number per species and gene. \n",
    "ept_df = vdjdb_slim_df.groupby(['species', 'gene', 'antigen.epitope', 'cdr3_len'])['cdr3'].count().reset_index()\n",
    "ept_df.columns = ['species', 'gene', 'antigen.epitope', 'cdr3_len', 'samples_cnt']"
   ]
  },
  {
   "cell_type": "code",
   "execution_count": 204,
   "metadata": {},
   "outputs": [],
   "source": [
    "# Leave just epitopes with >= 30 CDR3 samples\n",
    "good_epitopes = ept_df[ept_df.samples_cnt >= 30][['species', 'gene', 'antigen.epitope', 'cdr3_len', 'samples_cnt']]\n",
    "vdjdb_slim_df = vdjdb_slim_df.merge(good_epitopes, how='inner', suffixes=['', '_r'],\n",
    "                                    left_on=['species', 'gene', 'antigen.epitope', 'cdr3_len'],\n",
    "                                    right_on=['species', 'gene', 'antigen.epitope', 'cdr3_len'])\n"
   ]
  },
  {
   "cell_type": "markdown",
   "metadata": {},
   "source": [
    "#### Build matrices for all good epitopes "
   ]
  },
  {
   "cell_type": "code",
   "execution_count": 205,
   "metadata": {},
   "outputs": [
    {
     "name": "stdout",
     "output_type": "stream",
     "text": [
      "HomoSapiens good epitopes (TRA): 27\n",
      "HomoSapiens good epitopes (TRB): 77\n",
      "MusMusculus good epitopes (TRA): 15\n",
      "MusMusculus good epitopes (TRB): 18\n"
     ]
    }
   ],
   "source": [
    "hs_tra_samples = good_epitopes[(good_epitopes.species == 'HomoSapiens') & (good_epitopes.gene == 'TRA')].shape[0]\n",
    "hs_trb_samples = good_epitopes[(good_epitopes.species == 'HomoSapiens') & (good_epitopes.gene == 'TRB')].shape[0]\n",
    "mm_tra_samples = good_epitopes[(good_epitopes.species == 'MusMusculus') & (good_epitopes.gene == 'TRA')].shape[0]\n",
    "mm_trb_samples = good_epitopes[(good_epitopes.species == 'MusMusculus') & (good_epitopes.gene == 'TRB')].shape[0]\n",
    "print(f\"HomoSapiens good epitopes (TRA): {hs_tra_samples}\")\n",
    "print(f\"HomoSapiens good epitopes (TRB): {hs_trb_samples}\")\n",
    "print(f\"MusMusculus good epitopes (TRA): {mm_tra_samples}\")\n",
    "print(f\"MusMusculus good epitopes (TRB): {mm_trb_samples}\")"
   ]
  },
  {
   "cell_type": "code",
   "execution_count": 209,
   "metadata": {
    "scrolled": true
   },
   "outputs": [
    {
     "name": "stdout",
     "output_type": "stream",
     "text": [
      "HomoSapiens, TRA, FRDYVDRFYKTLRAEQASQE, 12 processed!\n",
      "HomoSapiens, TRA, GILGFVFTL, 10 processed!\n",
      "HomoSapiens, TRA, GILGFVFTL, 11 processed!\n",
      "HomoSapiens, TRA, GILGFVFTL, 12 processed!\n",
      "HomoSapiens, TRA, GILGFVFTL, 13 processed!\n",
      "HomoSapiens, TRA, GILGFVFTL, 14 processed!\n",
      "HomoSapiens, TRA, GILGFVFTL, 15 processed!\n",
      "HomoSapiens, TRA, GILGFVFTL, 16 processed!\n",
      "HomoSapiens, TRA, GILGFVFTL, 17 processed!\n",
      "HomoSapiens, TRA, GILGFVFTL, 18 processed!\n",
      "HomoSapiens, TRA, GILGFVFTL, 19 processed!\n",
      "HomoSapiens, TRA, GLIYNRMGAVTTEV, 14 processed!\n",
      "HomoSapiens, TRA, LLLGIGILV, 11 processed!\n",
      "HomoSapiens, TRA, LLLGIGILV, 12 processed!\n",
      "HomoSapiens, TRA, LLLGIGILV, 13 processed!\n",
      "HomoSapiens, TRA, LLLGIGILV, 14 processed!\n",
      "HomoSapiens, TRA, LLLGIGILV, 15 processed!\n",
      "HomoSapiens, TRA, LLWNGPMAV, 10 processed!\n",
      "HomoSapiens, TRA, NLVPMVATV, 10 processed!\n",
      "HomoSapiens, TRA, NLVPMVATV, 11 processed!\n",
      "HomoSapiens, TRA, NLVPMVATV, 12 processed!\n",
      "HomoSapiens, TRA, NLVPMVATV, 13 processed!\n",
      "HomoSapiens, TRA, NLVPMVATV, 14 processed!\n",
      "HomoSapiens, TRA, NLVPMVATV, 15 processed!\n",
      "HomoSapiens, TRA, NLVPMVATV, 16 processed!\n",
      "HomoSapiens, TRA, NLVPMVATV, 17 processed!\n",
      "HomoSapiens, TRA, PKYVKQNTLKLAT, 13 processed!\n",
      "HomoSapiens, TRB, ATDALMTGY, 14 processed!\n",
      "HomoSapiens, TRB, ATDALMTGY, 15 processed!\n",
      "HomoSapiens, TRB, DPFRLLQNSQVFS, 15 processed!\n",
      "HomoSapiens, TRB, EIYKRWII, 15 processed!\n",
      "HomoSapiens, TRB, ELAGIGILTV, 11 processed!\n",
      "HomoSapiens, TRB, ELAGIGILTV, 12 processed!\n",
      "HomoSapiens, TRB, ELAGIGILTV, 13 processed!\n",
      "HomoSapiens, TRB, ELAGIGILTV, 14 processed!\n",
      "HomoSapiens, TRB, ELAGIGILTV, 15 processed!\n",
      "HomoSapiens, TRB, ELAGIGILTV, 16 processed!\n",
      "HomoSapiens, TRB, ELAGIGILTV, 17 processed!\n",
      "HomoSapiens, TRB, FLKEKGGL, 15 processed!\n",
      "HomoSapiens, TRB, FPRPWLHGL, 15 processed!\n",
      "HomoSapiens, TRB, FRDYVDRFYKTLRAEQASQE, 14 processed!\n",
      "HomoSapiens, TRB, FRDYVDRFYKTLRAEQASQE, 15 processed!\n",
      "HomoSapiens, TRB, FRDYVDRFYKTLRAEQASQE, 16 processed!\n",
      "HomoSapiens, TRB, GILGFVFTL, 11 processed!\n",
      "HomoSapiens, TRB, GILGFVFTL, 12 processed!\n",
      "HomoSapiens, TRB, GILGFVFTL, 13 processed!\n",
      "HomoSapiens, TRB, GILGFVFTL, 14 processed!\n",
      "HomoSapiens, TRB, GILGFVFTL, 15 processed!\n",
      "HomoSapiens, TRB, GILGFVFTL, 16 processed!\n",
      "HomoSapiens, TRB, GILGFVFTL, 17 processed!\n",
      "HomoSapiens, TRB, GILGFVFTL, 18 processed!\n",
      "HomoSapiens, TRB, GILGFVFTL, 19 processed!\n",
      "HomoSapiens, TRB, GLCTLVAML, 12 processed!\n",
      "HomoSapiens, TRB, GLCTLVAML, 13 processed!\n",
      "HomoSapiens, TRB, GLCTLVAML, 14 processed!\n",
      "HomoSapiens, TRB, GLCTLVAML, 15 processed!\n",
      "HomoSapiens, TRB, GLCTLVAML, 16 processed!\n",
      "HomoSapiens, TRB, GLCTLVAML, 17 processed!\n",
      "HomoSapiens, TRB, GTSGSPIINR, 13 processed!\n",
      "HomoSapiens, TRB, GTSGSPIINR, 14 processed!\n",
      "HomoSapiens, TRB, GTSGSPIINR, 15 processed!\n",
      "HomoSapiens, TRB, GTSGSPIVNR, 12 processed!\n",
      "HomoSapiens, TRB, GTSGSPIVNR, 14 processed!\n",
      "HomoSapiens, TRB, GTSGSPIVNR, 15 processed!\n",
      "HomoSapiens, TRB, IPSINVHHY, 15 processed!\n",
      "HomoSapiens, TRB, KAFSPEVIPMF, 12 processed!\n",
      "HomoSapiens, TRB, KAFSPEVIPMF, 14 processed!\n",
      "HomoSapiens, TRB, KRWIILGLNK, 12 processed!\n",
      "HomoSapiens, TRB, KRWIILGLNK, 13 processed!\n",
      "HomoSapiens, TRB, KRWIILGLNK, 14 processed!\n",
      "HomoSapiens, TRB, KRWIILGLNK, 15 processed!\n",
      "HomoSapiens, TRB, KRWIIMGLNK, 14 processed!\n",
      "HomoSapiens, TRB, LLLGIGILV, 13 processed!\n",
      "HomoSapiens, TRB, LLLGIGILV, 14 processed!\n",
      "HomoSapiens, TRB, LLLGIGILV, 15 processed!\n",
      "HomoSapiens, TRB, LLWNGPMAV, 13 processed!\n",
      "HomoSapiens, TRB, LLWNGPMAV, 14 processed!\n",
      "HomoSapiens, TRB, LLWNGPMAV, 15 processed!\n",
      "HomoSapiens, TRB, LLWNGPMAV, 16 processed!\n",
      "HomoSapiens, TRB, LPRRSGAAGA, 14 processed!\n",
      "HomoSapiens, TRB, LPRRSGAAGA, 15 processed!\n",
      "HomoSapiens, TRB, NLVPMVATV, 11 processed!\n",
      "HomoSapiens, TRB, NLVPMVATV, 12 processed!\n",
      "HomoSapiens, TRB, NLVPMVATV, 13 processed!\n",
      "HomoSapiens, TRB, NLVPMVATV, 14 processed!\n",
      "HomoSapiens, TRB, NLVPMVATV, 15 processed!\n",
      "HomoSapiens, TRB, NLVPMVATV, 16 processed!\n",
      "HomoSapiens, TRB, NLVPMVATV, 17 processed!\n",
      "HomoSapiens, TRB, NLVPMVATV, 18 processed!\n",
      "HomoSapiens, TRB, NLVPMVATV, 19 processed!\n",
      "HomoSapiens, TRB, PKYVKQNTLKLAT, 12 processed!\n",
      "HomoSapiens, TRB, PKYVKQNTLKLAT, 13 processed!\n",
      "HomoSapiens, TRB, PKYVKQNTLKLAT, 14 processed!\n",
      "HomoSapiens, TRB, PKYVKQNTLKLAT, 15 processed!\n",
      "HomoSapiens, TRB, PKYVKQNTLKLAT, 16 processed!\n",
      "HomoSapiens, TRB, RAKFKQLL, 15 processed!\n",
      "HomoSapiens, TRB, RAKFKQLL, 16 processed!\n",
      "HomoSapiens, TRB, SFHSLHLLF, 13 processed!\n",
      "HomoSapiens, TRB, TPRVTGGGAM, 14 processed!\n",
      "HomoSapiens, TRB, TPRVTGGGAM, 15 processed!\n",
      "HomoSapiens, TRB, TPRVTGGGAM, 16 processed!\n",
      "HomoSapiens, TRB, VTEHDTLLY, 13 processed!\n",
      "HomoSapiens, TRB, VTEHDTLLY, 14 processed!\n",
      "HomoSapiens, TRB, VTEHDTLLY, 15 processed!\n",
      "MacacaMulatta, TRB, CTPYDINQM, 14 processed!\n",
      "MacacaMulatta, TRB, CTPYDINQM, 15 processed!\n",
      "MacacaMulatta, TRB, CTPYDINQM, 16 processed!\n",
      "MacacaMulatta, TRB, CTPYDINQM, 17 processed!\n",
      "MacacaMulatta, TRB, STPESANL, 15 processed!\n",
      "MacacaMulatta, TRB, TTPESANL, 14 processed!\n",
      "MacacaMulatta, TRB, TTPESANL, 15 processed!\n",
      "MacacaMulatta, TRB, TTPESANL, 17 processed!\n",
      "MusMusculus, TRA, ASNENMETM, 13 processed!\n",
      "MusMusculus, TRA, ASNENMETM, 14 processed!\n",
      "MusMusculus, TRA, ASNENMETM, 15 processed!\n",
      "MusMusculus, TRA, HGIRNASFI, 13 processed!\n",
      "MusMusculus, TRA, HGIRNASFI, 14 processed!\n",
      "MusMusculus, TRA, HGIRNASFI, 15 processed!\n",
      "MusMusculus, TRA, LSLRNPILV, 13 processed!\n",
      "MusMusculus, TRA, LSLRNPILV, 14 processed!\n",
      "MusMusculus, TRA, SSLENFRAYV, 13 processed!\n",
      "MusMusculus, TRA, SSLENFRAYV, 14 processed!\n",
      "MusMusculus, TRA, SSLENFRAYV, 15 processed!\n",
      "MusMusculus, TRA, SSPPMFRV, 15 processed!\n",
      "MusMusculus, TRA, SSYRRPVGI, 13 processed!\n",
      "MusMusculus, TRA, SSYRRPVGI, 14 processed!\n",
      "MusMusculus, TRA, TVYGFCLL, 14 processed!\n",
      "MusMusculus, TRB, ASNENMETM, 14 processed!\n",
      "MusMusculus, TRB, HGIRNASFI, 13 processed!\n",
      "MusMusculus, TRB, HGIRNASFI, 14 processed!\n",
      "MusMusculus, TRB, HGIRNASFI, 15 processed!\n",
      "MusMusculus, TRB, LSLRNPILV, 13 processed!\n",
      "MusMusculus, TRB, LSLRNPILV, 14 processed!\n",
      "MusMusculus, TRB, RALEYKNL, 13 processed!\n",
      "MusMusculus, TRB, RALEYKNL, 14 processed!\n",
      "MusMusculus, TRB, SQLLNAKYL, 14 processed!\n",
      "MusMusculus, TRB, SSLENFRAYV, 11 processed!\n",
      "MusMusculus, TRB, SSLENFRAYV, 12 processed!\n",
      "MusMusculus, TRB, SSLENFRAYV, 13 processed!\n",
      "MusMusculus, TRB, SSLENFRAYV, 14 processed!\n",
      "MusMusculus, TRB, SSLENFRAYV, 15 processed!\n",
      "MusMusculus, TRB, SSPPMFRV, 17 processed!\n",
      "MusMusculus, TRB, SSYRRPVGI, 13 processed!\n",
      "MusMusculus, TRB, SSYRRPVGI, 14 processed!\n",
      "MusMusculus, TRB, SSYRRPVGI, 15 processed!\n"
     ]
    }
   ],
   "source": [
    "matrices = {}\n",
    "\n",
    "for r in good_epitopes.to_records():\n",
    "    species, chain, epitope, cdr3_len = r[1], r[2], r[3], r[4]\n",
    "    df = filter_df(vdjdb_slim_df, [species], [epitope], [chain], cdr3_len)\n",
    "    start_pos, end_pos = get_concervative_pos(df, 80)\n",
    "    L = get_blosum_matrix(df, cdr3_start_pos, cdr3_end_pos)\n",
    "    result = pd.DataFrame(L, index=AMINO_ACIDS, columns=AMINO_ACIDS)\n",
    "    matrices[(species, chain, epitope, cdr3_len)] = result\n",
    "    print(f\"{species}, {chain}, {epitope}, {cdr3_len} processed!\")"
   ]
  },
  {
   "cell_type": "markdown",
   "metadata": {},
   "source": [
    "#### Compare HomoSapiens TCA/TCB matrices"
   ]
  },
  {
   "cell_type": "code",
   "execution_count": 214,
   "metadata": {},
   "outputs": [],
   "source": [
    "tca_matrices = []\n",
    "tca_matrices_samples_n = []\n",
    "tca_epitopes = good_epitopes[(good_epitopes.species == 'HomoSapiens') & (good_epitopes.gene == 'TRA')].values\n",
    "for species, chain, epitope, e_len, n_samples in tca_epitopes:\n",
    "    tca_matrices.append(matrices[(species, chain, epitope, e_len)])\n",
    "    tca_matrices_samples_n.append(n_samples)\n",
    "\n",
    "tcb_matrices = []\n",
    "tcb_matrices_samples_n = []\n",
    "tcb_epitopes = good_epitopes[(good_epitopes.species == 'HomoSapiens') & (good_epitopes.gene == 'TRB')].values\n",
    "for species, chain, epitope, e_len, n_samples in tcb_epitopes:\n",
    "    tcb_matrices.append(matrices[(species, chain, epitope, e_len)])\n",
    "    tcb_matrices_samples_n.append(n_samples)"
   ]
  },
  {
   "cell_type": "markdown",
   "metadata": {},
   "source": [
    "Average matrices values"
   ]
  },
  {
   "cell_type": "code",
   "execution_count": 239,
   "metadata": {},
   "outputs": [],
   "source": [
    "avg_tca_result_matrix = pd.DataFrame(index=AMINO_ACIDS, columns=AMINO_ACIDS).fillna(0)\n",
    "for matrix in tca_matrices:\n",
    "    avg_tca_result_matrix += matrix\n",
    "avg_tca_result_matrix = np.round(avg_tca_result_matrix / len(tca_matrices))"
   ]
  },
  {
   "cell_type": "code",
   "execution_count": 238,
   "metadata": {},
   "outputs": [],
   "source": [
    "avg_tcb_result_matrix = pd.DataFrame(index=AMINO_ACIDS, columns=AMINO_ACIDS).fillna(0)\n",
    "for matrix in tcb_matrices:\n",
    "    avg_tcb_result_matrix += matrix\n",
    "avg_tcb_result_matrix = np.round(avg_tcb_result_matrix / len(tcb_matrices))"
   ]
  },
  {
   "cell_type": "code",
   "execution_count": 254,
   "metadata": {},
   "outputs": [
    {
     "data": {
      "text/plain": [
       "Text(0.5, 1.0, 'Homo Sapiens, TCA/TCB difference, average values')"
      ]
     },
     "execution_count": 254,
     "metadata": {},
     "output_type": "execute_result"
    },
    {
     "data": {
      "image/png": "[encoded data removed]",
      "text/plain": [
       "<Figure size 864x648 with 2 Axes>"
      ]
     },
     "metadata": {
      "needs_background": "light"
     },
     "output_type": "display_data"
    }
   ],
   "source": [
    "plt.figure(figsize=(12, 9))\n",
    "sns.heatmap((avg_tca_result_matrix - avg_tcb_result_matrix).values, annot=True)\n",
    "plt.title('Homo Sapiens, TCA/TCB difference, average values', fontsize=15, weight='bold')"
   ]
  },
  {
   "cell_type": "markdown",
   "metadata": {},
   "source": [
    "Weighted average matrices values"
   ]
  },
  {
   "cell_type": "code",
   "execution_count": 243,
   "metadata": {},
   "outputs": [],
   "source": [
    "w_avg_tca_result_matrix = pd.DataFrame(index=AMINO_ACIDS, columns=AMINO_ACIDS).fillna(0)\n",
    "for idx, matrix in enumerate(tca_matrices):\n",
    "    w_avg_tca_result_matrix += (matrix * tca_matrices_samples_n[idx])\n",
    "w_avg_tca_result_matrix = np.round(w_avg_tca_result_matrix / np.sum(tca_matrices_samples_n))"
   ]
  },
  {
   "cell_type": "code",
   "execution_count": 245,
   "metadata": {},
   "outputs": [],
   "source": [
    "w_avg_tcb_result_matrix = pd.DataFrame(index=AMINO_ACIDS, columns=AMINO_ACIDS).fillna(0)\n",
    "for idx, matrix in enumerate(tcb_matrices):\n",
    "    w_avg_tcb_result_matrix += (matrix * tcb_matrices_samples_n[idx])\n",
    "w_avg_tcb_result_matrix = np.round(w_avg_tcb_result_matrix / np.sum(tcb_matrices_samples_n))"
   ]
  },
  {
   "cell_type": "code",
   "execution_count": 255,
   "metadata": {},
   "outputs": [
    {
     "data": {
      "text/plain": [
       "Text(0.5, 1.0, 'Homo Sapiens, TCA/TCB difference, weighted average values')"
      ]
     },
     "execution_count": 255,
     "metadata": {},
     "output_type": "execute_result"
    },
    {
     "data": {
      "image/png": "[encoded data removed]",
      "text/plain": [
       "<Figure size 864x648 with 2 Axes>"
      ]
     },
     "metadata": {
      "needs_background": "light"
     },
     "output_type": "display_data"
    }
   ],
   "source": [
    "plt.figure(figsize=(12, 9))\n",
    "sns.heatmap((w_avg_tca_result_matrix - w_avg_tcb_result_matrix).values, annot=True)\n",
    "plt.title('Homo Sapiens, TCA/TCB difference, weighted average values', fontsize=15, weight='bold')"
   ]
  },
  {
   "cell_type": "markdown",
   "metadata": {},
   "source": [
    "#### Simple example, Homo Sapiens, GIL antigen, TRB, Len14, GILGFVFTL"
   ]
  },
  {
   "cell_type": "code",
   "execution_count": 267,
   "metadata": {},
   "outputs": [
    {
     "data": {
      "text/html": [
       "<div>\n",
       "<style scoped>\n",
       "    .dataframe tbody tr th:only-of-type {\n",
       "        vertical-align: middle;\n",
       "    }\n",
       "\n",
       "    .dataframe tbody tr th {\n",
       "        vertical-align: top;\n",
       "    }\n",
       "\n",
       "    .dataframe thead th {\n",
       "        text-align: right;\n",
       "    }\n",
       "</style>\n",
       "<table border=\"1\" class=\"dataframe\">\n",
       "  <thead>\n",
       "    <tr style=\"text-align: right;\">\n",
       "      <th></th>\n",
       "      <th>A</th>\n",
       "      <th>R</th>\n",
       "      <th>N</th>\n",
       "      <th>D</th>\n",
       "      <th>C</th>\n",
       "      <th>Q</th>\n",
       "      <th>E</th>\n",
       "      <th>G</th>\n",
       "      <th>H</th>\n",
       "      <th>I</th>\n",
       "      <th>L</th>\n",
       "      <th>K</th>\n",
       "      <th>M</th>\n",
       "      <th>F</th>\n",
       "      <th>P</th>\n",
       "      <th>S</th>\n",
       "      <th>T</th>\n",
       "      <th>W</th>\n",
       "      <th>Y</th>\n",
       "      <th>V</th>\n",
       "    </tr>\n",
       "  </thead>\n",
       "  <tbody>\n",
       "    <tr>\n",
       "      <th>A</th>\n",
       "      <td>0.0</td>\n",
       "      <td>0.0</td>\n",
       "      <td>1.0</td>\n",
       "      <td>0.0</td>\n",
       "      <td>0.0</td>\n",
       "      <td>-0.0</td>\n",
       "      <td>0.0</td>\n",
       "      <td>-0.0</td>\n",
       "      <td>0.0</td>\n",
       "      <td>-1.0</td>\n",
       "      <td>-0.0</td>\n",
       "      <td>-0.0</td>\n",
       "      <td>-1.0</td>\n",
       "      <td>-0.0</td>\n",
       "      <td>-0.0</td>\n",
       "      <td>0.0</td>\n",
       "      <td>0.0</td>\n",
       "      <td>0.0</td>\n",
       "      <td>0.0</td>\n",
       "      <td>0.0</td>\n",
       "    </tr>\n",
       "    <tr>\n",
       "      <th>R</th>\n",
       "      <td>0.0</td>\n",
       "      <td>1.0</td>\n",
       "      <td>-1.0</td>\n",
       "      <td>0.0</td>\n",
       "      <td>0.0</td>\n",
       "      <td>-0.0</td>\n",
       "      <td>0.0</td>\n",
       "      <td>0.0</td>\n",
       "      <td>-0.0</td>\n",
       "      <td>-0.0</td>\n",
       "      <td>-0.0</td>\n",
       "      <td>-0.0</td>\n",
       "      <td>-0.0</td>\n",
       "      <td>1.0</td>\n",
       "      <td>-0.0</td>\n",
       "      <td>-0.0</td>\n",
       "      <td>0.0</td>\n",
       "      <td>0.0</td>\n",
       "      <td>-0.0</td>\n",
       "      <td>0.0</td>\n",
       "    </tr>\n",
       "    <tr>\n",
       "      <th>N</th>\n",
       "      <td>1.0</td>\n",
       "      <td>-1.0</td>\n",
       "      <td>2.0</td>\n",
       "      <td>-0.0</td>\n",
       "      <td>0.0</td>\n",
       "      <td>-1.0</td>\n",
       "      <td>0.0</td>\n",
       "      <td>-1.0</td>\n",
       "      <td>1.0</td>\n",
       "      <td>-2.0</td>\n",
       "      <td>-1.0</td>\n",
       "      <td>-1.0</td>\n",
       "      <td>-1.0</td>\n",
       "      <td>-1.0</td>\n",
       "      <td>-1.0</td>\n",
       "      <td>0.0</td>\n",
       "      <td>1.0</td>\n",
       "      <td>0.0</td>\n",
       "      <td>2.0</td>\n",
       "      <td>0.0</td>\n",
       "    </tr>\n",
       "    <tr>\n",
       "      <th>D</th>\n",
       "      <td>0.0</td>\n",
       "      <td>0.0</td>\n",
       "      <td>-0.0</td>\n",
       "      <td>0.0</td>\n",
       "      <td>0.0</td>\n",
       "      <td>0.0</td>\n",
       "      <td>0.0</td>\n",
       "      <td>0.0</td>\n",
       "      <td>-0.0</td>\n",
       "      <td>-1.0</td>\n",
       "      <td>-0.0</td>\n",
       "      <td>-0.0</td>\n",
       "      <td>-0.0</td>\n",
       "      <td>-0.0</td>\n",
       "      <td>-0.0</td>\n",
       "      <td>0.0</td>\n",
       "      <td>0.0</td>\n",
       "      <td>-0.0</td>\n",
       "      <td>-1.0</td>\n",
       "      <td>-0.0</td>\n",
       "    </tr>\n",
       "    <tr>\n",
       "      <th>C</th>\n",
       "      <td>0.0</td>\n",
       "      <td>0.0</td>\n",
       "      <td>0.0</td>\n",
       "      <td>0.0</td>\n",
       "      <td>0.0</td>\n",
       "      <td>0.0</td>\n",
       "      <td>0.0</td>\n",
       "      <td>0.0</td>\n",
       "      <td>0.0</td>\n",
       "      <td>0.0</td>\n",
       "      <td>0.0</td>\n",
       "      <td>0.0</td>\n",
       "      <td>0.0</td>\n",
       "      <td>0.0</td>\n",
       "      <td>0.0</td>\n",
       "      <td>0.0</td>\n",
       "      <td>0.0</td>\n",
       "      <td>0.0</td>\n",
       "      <td>0.0</td>\n",
       "      <td>0.0</td>\n",
       "    </tr>\n",
       "    <tr>\n",
       "      <th>Q</th>\n",
       "      <td>-0.0</td>\n",
       "      <td>-0.0</td>\n",
       "      <td>-1.0</td>\n",
       "      <td>0.0</td>\n",
       "      <td>0.0</td>\n",
       "      <td>1.0</td>\n",
       "      <td>-0.0</td>\n",
       "      <td>-0.0</td>\n",
       "      <td>-0.0</td>\n",
       "      <td>1.0</td>\n",
       "      <td>1.0</td>\n",
       "      <td>0.0</td>\n",
       "      <td>1.0</td>\n",
       "      <td>0.0</td>\n",
       "      <td>1.0</td>\n",
       "      <td>-0.0</td>\n",
       "      <td>-0.0</td>\n",
       "      <td>0.0</td>\n",
       "      <td>-0.0</td>\n",
       "      <td>-0.0</td>\n",
       "    </tr>\n",
       "    <tr>\n",
       "      <th>E</th>\n",
       "      <td>0.0</td>\n",
       "      <td>0.0</td>\n",
       "      <td>0.0</td>\n",
       "      <td>0.0</td>\n",
       "      <td>0.0</td>\n",
       "      <td>-0.0</td>\n",
       "      <td>-0.0</td>\n",
       "      <td>0.0</td>\n",
       "      <td>0.0</td>\n",
       "      <td>-0.0</td>\n",
       "      <td>-0.0</td>\n",
       "      <td>-0.0</td>\n",
       "      <td>-0.0</td>\n",
       "      <td>-0.0</td>\n",
       "      <td>-0.0</td>\n",
       "      <td>0.0</td>\n",
       "      <td>0.0</td>\n",
       "      <td>0.0</td>\n",
       "      <td>0.0</td>\n",
       "      <td>0.0</td>\n",
       "    </tr>\n",
       "    <tr>\n",
       "      <th>G</th>\n",
       "      <td>-0.0</td>\n",
       "      <td>0.0</td>\n",
       "      <td>-1.0</td>\n",
       "      <td>0.0</td>\n",
       "      <td>0.0</td>\n",
       "      <td>-0.0</td>\n",
       "      <td>0.0</td>\n",
       "      <td>1.0</td>\n",
       "      <td>-0.0</td>\n",
       "      <td>-2.0</td>\n",
       "      <td>-1.0</td>\n",
       "      <td>-0.0</td>\n",
       "      <td>-1.0</td>\n",
       "      <td>-1.0</td>\n",
       "      <td>-1.0</td>\n",
       "      <td>0.0</td>\n",
       "      <td>-0.0</td>\n",
       "      <td>-0.0</td>\n",
       "      <td>-1.0</td>\n",
       "      <td>-0.0</td>\n",
       "    </tr>\n",
       "    <tr>\n",
       "      <th>H</th>\n",
       "      <td>0.0</td>\n",
       "      <td>-0.0</td>\n",
       "      <td>1.0</td>\n",
       "      <td>-0.0</td>\n",
       "      <td>0.0</td>\n",
       "      <td>-0.0</td>\n",
       "      <td>0.0</td>\n",
       "      <td>-0.0</td>\n",
       "      <td>-0.0</td>\n",
       "      <td>-0.0</td>\n",
       "      <td>-0.0</td>\n",
       "      <td>-0.0</td>\n",
       "      <td>-0.0</td>\n",
       "      <td>-0.0</td>\n",
       "      <td>-0.0</td>\n",
       "      <td>0.0</td>\n",
       "      <td>0.0</td>\n",
       "      <td>-0.0</td>\n",
       "      <td>1.0</td>\n",
       "      <td>-0.0</td>\n",
       "    </tr>\n",
       "    <tr>\n",
       "      <th>I</th>\n",
       "      <td>-1.0</td>\n",
       "      <td>-0.0</td>\n",
       "      <td>-2.0</td>\n",
       "      <td>-1.0</td>\n",
       "      <td>0.0</td>\n",
       "      <td>1.0</td>\n",
       "      <td>-0.0</td>\n",
       "      <td>-2.0</td>\n",
       "      <td>-0.0</td>\n",
       "      <td>2.0</td>\n",
       "      <td>2.0</td>\n",
       "      <td>1.0</td>\n",
       "      <td>2.0</td>\n",
       "      <td>1.0</td>\n",
       "      <td>2.0</td>\n",
       "      <td>-1.0</td>\n",
       "      <td>-1.0</td>\n",
       "      <td>1.0</td>\n",
       "      <td>0.0</td>\n",
       "      <td>0.0</td>\n",
       "    </tr>\n",
       "    <tr>\n",
       "      <th>L</th>\n",
       "      <td>-0.0</td>\n",
       "      <td>-0.0</td>\n",
       "      <td>-1.0</td>\n",
       "      <td>-0.0</td>\n",
       "      <td>0.0</td>\n",
       "      <td>1.0</td>\n",
       "      <td>-0.0</td>\n",
       "      <td>-1.0</td>\n",
       "      <td>-0.0</td>\n",
       "      <td>2.0</td>\n",
       "      <td>1.0</td>\n",
       "      <td>1.0</td>\n",
       "      <td>1.0</td>\n",
       "      <td>1.0</td>\n",
       "      <td>1.0</td>\n",
       "      <td>-1.0</td>\n",
       "      <td>-0.0</td>\n",
       "      <td>0.0</td>\n",
       "      <td>-0.0</td>\n",
       "      <td>0.0</td>\n",
       "    </tr>\n",
       "    <tr>\n",
       "      <th>K</th>\n",
       "      <td>-0.0</td>\n",
       "      <td>-0.0</td>\n",
       "      <td>-1.0</td>\n",
       "      <td>-0.0</td>\n",
       "      <td>0.0</td>\n",
       "      <td>0.0</td>\n",
       "      <td>-0.0</td>\n",
       "      <td>-0.0</td>\n",
       "      <td>-0.0</td>\n",
       "      <td>1.0</td>\n",
       "      <td>1.0</td>\n",
       "      <td>-1.0</td>\n",
       "      <td>1.0</td>\n",
       "      <td>0.0</td>\n",
       "      <td>1.0</td>\n",
       "      <td>-0.0</td>\n",
       "      <td>-0.0</td>\n",
       "      <td>0.0</td>\n",
       "      <td>-0.0</td>\n",
       "      <td>-0.0</td>\n",
       "    </tr>\n",
       "    <tr>\n",
       "      <th>M</th>\n",
       "      <td>-1.0</td>\n",
       "      <td>-0.0</td>\n",
       "      <td>-1.0</td>\n",
       "      <td>-0.0</td>\n",
       "      <td>0.0</td>\n",
       "      <td>1.0</td>\n",
       "      <td>-0.0</td>\n",
       "      <td>-1.0</td>\n",
       "      <td>-0.0</td>\n",
       "      <td>2.0</td>\n",
       "      <td>1.0</td>\n",
       "      <td>1.0</td>\n",
       "      <td>1.0</td>\n",
       "      <td>1.0</td>\n",
       "      <td>1.0</td>\n",
       "      <td>-1.0</td>\n",
       "      <td>-0.0</td>\n",
       "      <td>0.0</td>\n",
       "      <td>0.0</td>\n",
       "      <td>0.0</td>\n",
       "    </tr>\n",
       "    <tr>\n",
       "      <th>F</th>\n",
       "      <td>-0.0</td>\n",
       "      <td>1.0</td>\n",
       "      <td>-1.0</td>\n",
       "      <td>-0.0</td>\n",
       "      <td>0.0</td>\n",
       "      <td>0.0</td>\n",
       "      <td>-0.0</td>\n",
       "      <td>-1.0</td>\n",
       "      <td>-0.0</td>\n",
       "      <td>1.0</td>\n",
       "      <td>1.0</td>\n",
       "      <td>0.0</td>\n",
       "      <td>1.0</td>\n",
       "      <td>1.0</td>\n",
       "      <td>1.0</td>\n",
       "      <td>-1.0</td>\n",
       "      <td>-0.0</td>\n",
       "      <td>0.0</td>\n",
       "      <td>0.0</td>\n",
       "      <td>0.0</td>\n",
       "    </tr>\n",
       "    <tr>\n",
       "      <th>P</th>\n",
       "      <td>-0.0</td>\n",
       "      <td>-0.0</td>\n",
       "      <td>-1.0</td>\n",
       "      <td>-0.0</td>\n",
       "      <td>0.0</td>\n",
       "      <td>1.0</td>\n",
       "      <td>-0.0</td>\n",
       "      <td>-1.0</td>\n",
       "      <td>-0.0</td>\n",
       "      <td>2.0</td>\n",
       "      <td>1.0</td>\n",
       "      <td>1.0</td>\n",
       "      <td>1.0</td>\n",
       "      <td>1.0</td>\n",
       "      <td>1.0</td>\n",
       "      <td>-1.0</td>\n",
       "      <td>-0.0</td>\n",
       "      <td>0.0</td>\n",
       "      <td>0.0</td>\n",
       "      <td>-0.0</td>\n",
       "    </tr>\n",
       "    <tr>\n",
       "      <th>S</th>\n",
       "      <td>0.0</td>\n",
       "      <td>-0.0</td>\n",
       "      <td>0.0</td>\n",
       "      <td>0.0</td>\n",
       "      <td>0.0</td>\n",
       "      <td>-0.0</td>\n",
       "      <td>0.0</td>\n",
       "      <td>0.0</td>\n",
       "      <td>0.0</td>\n",
       "      <td>-1.0</td>\n",
       "      <td>-1.0</td>\n",
       "      <td>-0.0</td>\n",
       "      <td>-1.0</td>\n",
       "      <td>-1.0</td>\n",
       "      <td>-1.0</td>\n",
       "      <td>0.0</td>\n",
       "      <td>0.0</td>\n",
       "      <td>-0.0</td>\n",
       "      <td>-0.0</td>\n",
       "      <td>-0.0</td>\n",
       "    </tr>\n",
       "    <tr>\n",
       "      <th>T</th>\n",
       "      <td>0.0</td>\n",
       "      <td>0.0</td>\n",
       "      <td>1.0</td>\n",
       "      <td>0.0</td>\n",
       "      <td>0.0</td>\n",
       "      <td>-0.0</td>\n",
       "      <td>0.0</td>\n",
       "      <td>-0.0</td>\n",
       "      <td>0.0</td>\n",
       "      <td>-1.0</td>\n",
       "      <td>-0.0</td>\n",
       "      <td>-0.0</td>\n",
       "      <td>-0.0</td>\n",
       "      <td>-0.0</td>\n",
       "      <td>-0.0</td>\n",
       "      <td>0.0</td>\n",
       "      <td>0.0</td>\n",
       "      <td>0.0</td>\n",
       "      <td>0.0</td>\n",
       "      <td>0.0</td>\n",
       "    </tr>\n",
       "    <tr>\n",
       "      <th>W</th>\n",
       "      <td>0.0</td>\n",
       "      <td>0.0</td>\n",
       "      <td>0.0</td>\n",
       "      <td>-0.0</td>\n",
       "      <td>0.0</td>\n",
       "      <td>0.0</td>\n",
       "      <td>0.0</td>\n",
       "      <td>-0.0</td>\n",
       "      <td>-0.0</td>\n",
       "      <td>1.0</td>\n",
       "      <td>0.0</td>\n",
       "      <td>0.0</td>\n",
       "      <td>0.0</td>\n",
       "      <td>0.0</td>\n",
       "      <td>0.0</td>\n",
       "      <td>-0.0</td>\n",
       "      <td>0.0</td>\n",
       "      <td>-0.0</td>\n",
       "      <td>0.0</td>\n",
       "      <td>0.0</td>\n",
       "    </tr>\n",
       "    <tr>\n",
       "      <th>Y</th>\n",
       "      <td>0.0</td>\n",
       "      <td>-0.0</td>\n",
       "      <td>2.0</td>\n",
       "      <td>-1.0</td>\n",
       "      <td>0.0</td>\n",
       "      <td>-0.0</td>\n",
       "      <td>0.0</td>\n",
       "      <td>-1.0</td>\n",
       "      <td>1.0</td>\n",
       "      <td>0.0</td>\n",
       "      <td>-0.0</td>\n",
       "      <td>-0.0</td>\n",
       "      <td>0.0</td>\n",
       "      <td>0.0</td>\n",
       "      <td>0.0</td>\n",
       "      <td>-0.0</td>\n",
       "      <td>0.0</td>\n",
       "      <td>0.0</td>\n",
       "      <td>1.0</td>\n",
       "      <td>0.0</td>\n",
       "    </tr>\n",
       "    <tr>\n",
       "      <th>V</th>\n",
       "      <td>0.0</td>\n",
       "      <td>0.0</td>\n",
       "      <td>0.0</td>\n",
       "      <td>-0.0</td>\n",
       "      <td>0.0</td>\n",
       "      <td>-0.0</td>\n",
       "      <td>0.0</td>\n",
       "      <td>-0.0</td>\n",
       "      <td>-0.0</td>\n",
       "      <td>0.0</td>\n",
       "      <td>0.0</td>\n",
       "      <td>-0.0</td>\n",
       "      <td>0.0</td>\n",
       "      <td>0.0</td>\n",
       "      <td>-0.0</td>\n",
       "      <td>-0.0</td>\n",
       "      <td>0.0</td>\n",
       "      <td>0.0</td>\n",
       "      <td>0.0</td>\n",
       "      <td>0.0</td>\n",
       "    </tr>\n",
       "  </tbody>\n",
       "</table>\n",
       "</div>"
      ],
      "text/plain": [
       "     A    R    N    D    C    Q    E    G    H    I    L    K    M    F    P  \\\n",
       "A  0.0  0.0  1.0  0.0  0.0 -0.0  0.0 -0.0  0.0 -1.0 -0.0 -0.0 -1.0 -0.0 -0.0   \n",
       "R  0.0  1.0 -1.0  0.0  0.0 -0.0  0.0  0.0 -0.0 -0.0 -0.0 -0.0 -0.0  1.0 -0.0   \n",
       "N  1.0 -1.0  2.0 -0.0  0.0 -1.0  0.0 -1.0  1.0 -2.0 -1.0 -1.0 -1.0 -1.0 -1.0   \n",
       "D  0.0  0.0 -0.0  0.0  0.0  0.0  0.0  0.0 -0.0 -1.0 -0.0 -0.0 -0.0 -0.0 -0.0   \n",
       "C  0.0  0.0  0.0  0.0  0.0  0.0  0.0  0.0  0.0  0.0  0.0  0.0  0.0  0.0  0.0   \n",
       "Q -0.0 -0.0 -1.0  0.0  0.0  1.0 -0.0 -0.0 -0.0  1.0  1.0  0.0  1.0  0.0  1.0   \n",
       "E  0.0  0.0  0.0  0.0  0.0 -0.0 -0.0  0.0  0.0 -0.0 -0.0 -0.0 -0.0 -0.0 -0.0   \n",
       "G -0.0  0.0 -1.0  0.0  0.0 -0.0  0.0  1.0 -0.0 -2.0 -1.0 -0.0 -1.0 -1.0 -1.0   \n",
       "H  0.0 -0.0  1.0 -0.0  0.0 -0.0  0.0 -0.0 -0.0 -0.0 -0.0 -0.0 -0.0 -0.0 -0.0   \n",
       "I -1.0 -0.0 -2.0 -1.0  0.0  1.0 -0.0 -2.0 -0.0  2.0  2.0  1.0  2.0  1.0  2.0   \n",
       "L -0.0 -0.0 -1.0 -0.0  0.0  1.0 -0.0 -1.0 -0.0  2.0  1.0  1.0  1.0  1.0  1.0   \n",
       "K -0.0 -0.0 -1.0 -0.0  0.0  0.0 -0.0 -0.0 -0.0  1.0  1.0 -1.0  1.0  0.0  1.0   \n",
       "M -1.0 -0.0 -1.0 -0.0  0.0  1.0 -0.0 -1.0 -0.0  2.0  1.0  1.0  1.0  1.0  1.0   \n",
       "F -0.0  1.0 -1.0 -0.0  0.0  0.0 -0.0 -1.0 -0.0  1.0  1.0  0.0  1.0  1.0  1.0   \n",
       "P -0.0 -0.0 -1.0 -0.0  0.0  1.0 -0.0 -1.0 -0.0  2.0  1.0  1.0  1.0  1.0  1.0   \n",
       "S  0.0 -0.0  0.0  0.0  0.0 -0.0  0.0  0.0  0.0 -1.0 -1.0 -0.0 -1.0 -1.0 -1.0   \n",
       "T  0.0  0.0  1.0  0.0  0.0 -0.0  0.0 -0.0  0.0 -1.0 -0.0 -0.0 -0.0 -0.0 -0.0   \n",
       "W  0.0  0.0  0.0 -0.0  0.0  0.0  0.0 -0.0 -0.0  1.0  0.0  0.0  0.0  0.0  0.0   \n",
       "Y  0.0 -0.0  2.0 -1.0  0.0 -0.0  0.0 -1.0  1.0  0.0 -0.0 -0.0  0.0  0.0  0.0   \n",
       "V  0.0  0.0  0.0 -0.0  0.0 -0.0  0.0 -0.0 -0.0  0.0  0.0 -0.0  0.0  0.0 -0.0   \n",
       "\n",
       "     S    T    W    Y    V  \n",
       "A  0.0  0.0  0.0  0.0  0.0  \n",
       "R -0.0  0.0  0.0 -0.0  0.0  \n",
       "N  0.0  1.0  0.0  2.0  0.0  \n",
       "D  0.0  0.0 -0.0 -1.0 -0.0  \n",
       "C  0.0  0.0  0.0  0.0  0.0  \n",
       "Q -0.0 -0.0  0.0 -0.0 -0.0  \n",
       "E  0.0  0.0  0.0  0.0  0.0  \n",
       "G  0.0 -0.0 -0.0 -1.0 -0.0  \n",
       "H  0.0  0.0 -0.0  1.0 -0.0  \n",
       "I -1.0 -1.0  1.0  0.0  0.0  \n",
       "L -1.0 -0.0  0.0 -0.0  0.0  \n",
       "K -0.0 -0.0  0.0 -0.0 -0.0  \n",
       "M -1.0 -0.0  0.0  0.0  0.0  \n",
       "F -1.0 -0.0  0.0  0.0  0.0  \n",
       "P -1.0 -0.0  0.0  0.0 -0.0  \n",
       "S  0.0  0.0 -0.0 -0.0 -0.0  \n",
       "T  0.0  0.0  0.0  0.0  0.0  \n",
       "W -0.0  0.0 -0.0  0.0  0.0  \n",
       "Y -0.0  0.0  0.0  1.0  0.0  \n",
       "V -0.0  0.0  0.0  0.0  0.0  "
      ]
     },
     "execution_count": 267,
     "metadata": {},
     "output_type": "execute_result"
    }
   ],
   "source": [
    "species, chain, epitope, cdr3_len = 'HomoSapiens', 'TRB', 'GILGFVFTL', 14\n",
    "df = filter_df(vdjdb_slim_df, [species], [epitope], [chain], cdr3_len)\n",
    "start_pos, end_pos = get_concervative_pos(df, 80)\n",
    "L = get_blosum_matrix(df, cdr3_start_pos, cdr3_end_pos)\n",
    "result = pd.DataFrame(L, index=AMINO_ACIDS, columns=AMINO_ACIDS)\n",
    "result"
   ]
  },
  {
   "cell_type": "code",
   "execution_count": 268,
   "metadata": {},
   "outputs": [
    {
     "name": "stdout",
     "output_type": "stream",
     "text": [
      "N(D)N start position: 5, end position: 7\n"
     ]
    }
   ],
   "source": [
    "print(f'N(D)N start position: {start_pos}, end position: {end_pos}')"
   ]
  },
  {
   "cell_type": "code",
   "execution_count": 270,
   "metadata": {},
   "outputs": [],
   "source": [
    "df['v_len_arr'] = df['v.end']\n",
    "df['cdr3_len_arr'] = df['j.start'] - df['v.end']\n",
    "df['j_len_arr'] = CDR3_LEN - df['j.start']"
   ]
  },
  {
   "cell_type": "code",
   "execution_count": 274,
   "metadata": {},
   "outputs": [
    {
     "data": {
      "application/vnd.plotly.v1+json": {
       "config": {
        "plotlyServerURL": "https://plot.ly"
       },
       "data": [
        {
         "name": "V",
         "orientation": "h",
         "type": "bar",
         "x": [
          5,
          5,
          5,
          5,
          4,
          4,
          4,
          4,
          5,
          5,
          5,
          3,
          3,
          3,
          4,
          4,
          4,
          4,
          4,
          4,
          4,
          4,
          4,
          4,
          4,
          4,
          4,
          4,
          4,
          5,
          5,
          5,
          5,
          5,
          5,
          5,
          5,
          5,
          5,
          5,
          5,
          5,
          5,
          5,
          5,
          5,
          5,
          5,
          3,
          3,
          3,
          3,
          4,
          4,
          4,
          4,
          4,
          4,
          4,
          4,
          4,
          4,
          4,
          4,
          4,
          4,
          4,
          4,
          4,
          4,
          4,
          5,
          5,
          5,
          5,
          5,
          5,
          5,
          5,
          2,
          2,
          3,
          3,
          3,
          3,
          3,
          3,
          4,
          4,
          4,
          4,
          4,
          4,
          4,
          4,
          4,
          4,
          4,
          3,
          3
         ]
        },
        {
         "name": "N(D)N",
         "orientation": "h",
         "type": "bar",
         "x": [
          1,
          2,
          2,
          2,
          3,
          3,
          3,
          3,
          3,
          3,
          3,
          4,
          4,
          4,
          4,
          4,
          4,
          4,
          4,
          4,
          4,
          4,
          4,
          4,
          4,
          4,
          4,
          4,
          4,
          4,
          4,
          4,
          4,
          4,
          4,
          4,
          4,
          4,
          4,
          4,
          4,
          4,
          4,
          4,
          4,
          4,
          4,
          4,
          5,
          5,
          5,
          5,
          5,
          5,
          5,
          5,
          5,
          5,
          5,
          5,
          5,
          5,
          5,
          5,
          5,
          5,
          5,
          5,
          5,
          5,
          5,
          5,
          5,
          5,
          5,
          5,
          5,
          5,
          5,
          6,
          6,
          6,
          6,
          6,
          6,
          6,
          6,
          6,
          6,
          6,
          6,
          6,
          6,
          6,
          6,
          6,
          6,
          6,
          7,
          7
         ]
        },
        {
         "name": "J",
         "orientation": "h",
         "type": "bar",
         "x": [
          8,
          7,
          7,
          7,
          7,
          7,
          7,
          7,
          6,
          6,
          6,
          7,
          7,
          7,
          6,
          6,
          6,
          6,
          6,
          6,
          6,
          6,
          6,
          6,
          6,
          6,
          6,
          6,
          6,
          5,
          5,
          5,
          5,
          5,
          5,
          5,
          5,
          5,
          5,
          5,
          5,
          5,
          5,
          5,
          5,
          5,
          5,
          5,
          6,
          6,
          6,
          6,
          5,
          5,
          5,
          5,
          5,
          5,
          5,
          5,
          5,
          5,
          5,
          5,
          5,
          5,
          5,
          5,
          5,
          5,
          5,
          4,
          4,
          4,
          4,
          4,
          4,
          4,
          4,
          6,
          6,
          5,
          5,
          5,
          5,
          5,
          5,
          4,
          4,
          4,
          4,
          4,
          4,
          4,
          4,
          4,
          4,
          4,
          4,
          4
         ]
        },
        {
         "line": {
          "color": "black"
         },
         "name": "N(D)N start, 80%",
         "type": "scatter",
         "x": [
          5,
          5
         ],
         "y": [
          0,
          100
         ]
        },
        {
         "line": {
          "color": "black"
         },
         "name": "N(D)N end, 80%",
         "type": "scatter",
         "x": [
          8,
          8
         ],
         "y": [
          0,
          100
         ]
        }
       ],
       "layout": {
        "barmode": "stack",
        "template": {
         "data": {
          "bar": [
           {
            "error_x": {
             "color": "#2a3f5f"
            },
            "error_y": {
             "color": "#2a3f5f"
            },
            "marker": {
             "line": {
              "color": "#E5ECF6",
              "width": 0.5
             }
            },
            "type": "bar"
           }
          ],
          "barpolar": [
           {
            "marker": {
             "line": {
              "color": "#E5ECF6",
              "width": 0.5
             }
            },
            "type": "barpolar"
           }
          ],
          "carpet": [
           {
            "aaxis": {
             "endlinecolor": "#2a3f5f",
             "gridcolor": "white",
             "linecolor": "white",
             "minorgridcolor": "white",
             "startlinecolor": "#2a3f5f"
            },
            "baxis": {
             "endlinecolor": "#2a3f5f",
             "gridcolor": "white",
             "linecolor": "white",
             "minorgridcolor": "white",
             "startlinecolor": "#2a3f5f"
            },
            "type": "carpet"
           }
          ],
          "choropleth": [
           {
            "colorbar": {
             "outlinewidth": 0,
             "ticks": ""
            },
            "type": "choropleth"
           }
          ],
          "contour": [
           {
            "colorbar": {
             "outlinewidth": 0,
             "ticks": ""
            },
            "colorscale": [
             [
              0,
              "#0d0887"
             ],
             [
              0.1111111111111111,
              "#46039f"
             ],
             [
              0.2222222222222222,
              "#7201a8"
             ],
             [
              0.3333333333333333,
              "#9c179e"
             ],
             [
              0.4444444444444444,
              "#bd3786"
             ],
             [
              0.5555555555555556,
              "#d8576b"
             ],
             [
              0.6666666666666666,
              "#ed7953"
             ],
             [
              0.7777777777777778,
              "#fb9f3a"
             ],
             [
              0.8888888888888888,
              "#fdca26"
             ],
             [
              1,
              "#f0f921"
             ]
            ],
            "type": "contour"
           }
          ],
          "contourcarpet": [
           {
            "colorbar": {
             "outlinewidth": 0,
             "ticks": ""
            },
            "type": "contourcarpet"
           }
          ],
          "heatmap": [
           {
            "colorbar": {
             "outlinewidth": 0,
             "ticks": ""
            },
            "colorscale": [
             [
              0,
              "#0d0887"
             ],
             [
              0.1111111111111111,
              "#46039f"
             ],
             [
              0.2222222222222222,
              "#7201a8"
             ],
             [
              0.3333333333333333,
              "#9c179e"
             ],
             [
              0.4444444444444444,
              "#bd3786"
             ],
             [
              0.5555555555555556,
              "#d8576b"
             ],
             [
              0.6666666666666666,
              "#ed7953"
             ],
             [
              0.7777777777777778,
              "#fb9f3a"
             ],
             [
              0.8888888888888888,
              "#fdca26"
             ],
             [
              1,
              "#f0f921"
             ]
            ],
            "type": "heatmap"
           }
          ],
          "heatmapgl": [
           {
            "colorbar": {
             "outlinewidth": 0,
             "ticks": ""
            },
            "colorscale": [
             [
              0,
              "#0d0887"
             ],
             [
              0.1111111111111111,
              "#46039f"
             ],
             [
              0.2222222222222222,
              "#7201a8"
             ],
             [
              0.3333333333333333,
              "#9c179e"
             ],
             [
              0.4444444444444444,
              "#bd3786"
             ],
             [
              0.5555555555555556,
              "#d8576b"
             ],
             [
              0.6666666666666666,
              "#ed7953"
             ],
             [
              0.7777777777777778,
              "#fb9f3a"
             ],
             [
              0.8888888888888888,
              "#fdca26"
             ],
             [
              1,
              "#f0f921"
             ]
            ],
            "type": "heatmapgl"
           }
          ],
          "histogram": [
           {
            "marker": {
             "colorbar": {
              "outlinewidth": 0,
              "ticks": ""
             }
            },
            "type": "histogram"
           }
          ],
          "histogram2d": [
           {
            "colorbar": {
             "outlinewidth": 0,
             "ticks": ""
            },
            "colorscale": [
             [
              0,
              "#0d0887"
             ],
             [
              0.1111111111111111,
              "#46039f"
             ],
             [
              0.2222222222222222,
              "#7201a8"
             ],
             [
              0.3333333333333333,
              "#9c179e"
             ],
             [
              0.4444444444444444,
              "#bd3786"
             ],
             [
              0.5555555555555556,
              "#d8576b"
             ],
             [
              0.6666666666666666,
              "#ed7953"
             ],
             [
              0.7777777777777778,
              "#fb9f3a"
             ],
             [
              0.8888888888888888,
              "#fdca26"
             ],
             [
              1,
              "#f0f921"
             ]
            ],
            "type": "histogram2d"
           }
          ],
          "histogram2dcontour": [
           {
            "colorbar": {
             "outlinewidth": 0,
             "ticks": ""
            },
            "colorscale": [
             [
              0,
              "#0d0887"
             ],
             [
              0.1111111111111111,
              "#46039f"
             ],
             [
              0.2222222222222222,
              "#7201a8"
             ],
             [
              0.3333333333333333,
              "#9c179e"
             ],
             [
              0.4444444444444444,
              "#bd3786"
             ],
             [
              0.5555555555555556,
              "#d8576b"
             ],
             [
              0.6666666666666666,
              "#ed7953"
             ],
             [
              0.7777777777777778,
              "#fb9f3a"
             ],
             [
              0.8888888888888888,
              "#fdca26"
             ],
             [
              1,
              "#f0f921"
             ]
            ],
            "type": "histogram2dcontour"
           }
          ],
          "mesh3d": [
           {
            "colorbar": {
             "outlinewidth": 0,
             "ticks": ""
            },
            "type": "mesh3d"
           }
          ],
          "parcoords": [
           {
            "line": {
             "colorbar": {
              "outlinewidth": 0,
              "ticks": ""
             }
            },
            "type": "parcoords"
           }
          ],
          "scatter": [
           {
            "marker": {
             "colorbar": {
              "outlinewidth": 0,
              "ticks": ""
             }
            },
            "type": "scatter"
           }
          ],
          "scatter3d": [
           {
            "line": {
             "colorbar": {
              "outlinewidth": 0,
              "ticks": ""
             }
            },
            "marker": {
             "colorbar": {
              "outlinewidth": 0,
              "ticks": ""
             }
            },
            "type": "scatter3d"
           }
          ],
          "scattercarpet": [
           {
            "marker": {
             "colorbar": {
              "outlinewidth": 0,
              "ticks": ""
             }
            },
            "type": "scattercarpet"
           }
          ],
          "scattergeo": [
           {
            "marker": {
             "colorbar": {
              "outlinewidth": 0,
              "ticks": ""
             }
            },
            "type": "scattergeo"
           }
          ],
          "scattergl": [
           {
            "marker": {
             "colorbar": {
              "outlinewidth": 0,
              "ticks": ""
             }
            },
            "type": "scattergl"
           }
          ],
          "scattermapbox": [
           {
            "marker": {
             "colorbar": {
              "outlinewidth": 0,
              "ticks": ""
             }
            },
            "type": "scattermapbox"
           }
          ],
          "scatterpolar": [
           {
            "marker": {
             "colorbar": {
              "outlinewidth": 0,
              "ticks": ""
             }
            },
            "type": "scatterpolar"
           }
          ],
          "scatterpolargl": [
           {
            "marker": {
             "colorbar": {
              "outlinewidth": 0,
              "ticks": ""
             }
            },
            "type": "scatterpolargl"
           }
          ],
          "scatterternary": [
           {
            "marker": {
             "colorbar": {
              "outlinewidth": 0,
              "ticks": ""
             }
            },
            "type": "scatterternary"
           }
          ],
          "surface": [
           {
            "colorbar": {
             "outlinewidth": 0,
             "ticks": ""
            },
            "colorscale": [
             [
              0,
              "#0d0887"
             ],
             [
              0.1111111111111111,
              "#46039f"
             ],
             [
              0.2222222222222222,
              "#7201a8"
             ],
             [
              0.3333333333333333,
              "#9c179e"
             ],
             [
              0.4444444444444444,
              "#bd3786"
             ],
             [
              0.5555555555555556,
              "#d8576b"
             ],
             [
              0.6666666666666666,
              "#ed7953"
             ],
             [
              0.7777777777777778,
              "#fb9f3a"
             ],
             [
              0.8888888888888888,
              "#fdca26"
             ],
             [
              1,
              "#f0f921"
             ]
            ],
            "type": "surface"
           }
          ],
          "table": [
           {
            "cells": {
             "fill": {
              "color": "#EBF0F8"
             },
             "line": {
              "color": "white"
             }
            },
            "header": {
             "fill": {
              "color": "#C8D4E3"
             },
             "line": {
              "color": "white"
             }
            },
            "type": "table"
           }
          ]
         },
         "layout": {
          "annotationdefaults": {
           "arrowcolor": "#2a3f5f",
           "arrowhead": 0,
           "arrowwidth": 1
          },
          "colorscale": {
           "diverging": [
            [
             0,
             "#8e0152"
            ],
            [
             0.1,
             "#c51b7d"
            ],
            [
             0.2,
             "#de77ae"
            ],
            [
             0.3,
             "#f1b6da"
            ],
            [
             0.4,
             "#fde0ef"
            ],
            [
             0.5,
             "#f7f7f7"
            ],
            [
             0.6,
             "#e6f5d0"
            ],
            [
             0.7,
             "#b8e186"
            ],
            [
             0.8,
             "#7fbc41"
            ],
            [
             0.9,
             "#4d9221"
            ],
            [
             1,
             "#276419"
            ]
           ],
           "sequential": [
            [
             0,
             "#0d0887"
            ],
            [
             0.1111111111111111,
             "#46039f"
            ],
            [
             0.2222222222222222,
             "#7201a8"
            ],
            [
             0.3333333333333333,
             "#9c179e"
            ],
            [
             0.4444444444444444,
             "#bd3786"
            ],
            [
             0.5555555555555556,
             "#d8576b"
            ],
            [
             0.6666666666666666,
             "#ed7953"
            ],
            [
             0.7777777777777778,
             "#fb9f3a"
            ],
            [
             0.8888888888888888,
             "#fdca26"
            ],
            [
             1,
             "#f0f921"
            ]
           ],
           "sequentialminus": [
            [
             0,
             "#0d0887"
            ],
            [
             0.1111111111111111,
             "#46039f"
            ],
            [
             0.2222222222222222,
             "#7201a8"
            ],
            [
             0.3333333333333333,
             "#9c179e"
            ],
            [
             0.4444444444444444,
             "#bd3786"
            ],
            [
             0.5555555555555556,
             "#d8576b"
            ],
            [
             0.6666666666666666,
             "#ed7953"
            ],
            [
             0.7777777777777778,
             "#fb9f3a"
            ],
            [
             0.8888888888888888,
             "#fdca26"
            ],
            [
             1,
             "#f0f921"
            ]
           ]
          },
          "colorway": [
           "#636efa",
           "#EF553B",
           "#00cc96",
           "#ab63fa",
           "#FFA15A",
           "#19d3f3",
           "#FF6692",
           "#B6E880",
           "#FF97FF",
           "#FECB52"
          ],
          "font": {
           "color": "#2a3f5f"
          },
          "geo": {
           "bgcolor": "white",
           "lakecolor": "white",
           "landcolor": "#E5ECF6",
           "showlakes": true,
           "showland": true,
           "subunitcolor": "white"
          },
          "hoverlabel": {
           "align": "left"
          },
          "hovermode": "closest",
          "mapbox": {
           "style": "light"
          },
          "paper_bgcolor": "white",
          "plot_bgcolor": "#E5ECF6",
          "polar": {
           "angularaxis": {
            "gridcolor": "white",
            "linecolor": "white",
            "ticks": ""
           },
           "bgcolor": "#E5ECF6",
           "radialaxis": {
            "gridcolor": "white",
            "linecolor": "white",
            "ticks": ""
           }
          },
          "scene": {
           "xaxis": {
            "backgroundcolor": "#E5ECF6",
            "gridcolor": "white",
            "gridwidth": 2,
            "linecolor": "white",
            "showbackground": true,
            "ticks": "",
            "zerolinecolor": "white"
           },
           "yaxis": {
            "backgroundcolor": "#E5ECF6",
            "gridcolor": "white",
            "gridwidth": 2,
            "linecolor": "white",
            "showbackground": true,
            "ticks": "",
            "zerolinecolor": "white"
           },
           "zaxis": {
            "backgroundcolor": "#E5ECF6",
            "gridcolor": "white",
            "gridwidth": 2,
            "linecolor": "white",
            "showbackground": true,
            "ticks": "",
            "zerolinecolor": "white"
           }
          },
          "shapedefaults": {
           "line": {
            "color": "#2a3f5f"
           }
          },
          "ternary": {
           "aaxis": {
            "gridcolor": "white",
            "linecolor": "white",
            "ticks": ""
           },
           "baxis": {
            "gridcolor": "white",
            "linecolor": "white",
            "ticks": ""
           },
           "bgcolor": "#E5ECF6",
           "caxis": {
            "gridcolor": "white",
            "linecolor": "white",
            "ticks": ""
           }
          },
          "title": {
           "x": 0.05
          },
          "xaxis": {
           "automargin": true,
           "gridcolor": "white",
           "linecolor": "white",
           "ticks": "",
           "zerolinecolor": "white",
           "zerolinewidth": 2
          },
          "yaxis": {
           "automargin": true,
           "gridcolor": "white",
           "linecolor": "white",
           "ticks": "",
           "zerolinecolor": "white",
           "zerolinewidth": 2
          }
         }
        },
        "title": {
         "text": "HomoSapiens, GIL, TRB, Len: 14"
        }
       }
      },
      "text/html": [
       "<div>\n",
       "        \n",
       "        \n",
       "            <div id=\"c17c634c-df03-4b67-8d29-3fa41b893def\" class=\"plotly-graph-div\" style=\"height:525px; width:100%;\"></div>\n",
       "            <script type=\"text/javascript\">\n",
       "                require([\"plotly\"], function(Plotly) {\n",
       "                    window.PLOTLYENV=window.PLOTLYENV || {};\n",
       "                    \n",
       "                if (document.getElementById(\"c17c634c-df03-4b67-8d29-3fa41b893def\")) {\n",
       "                    Plotly.newPlot(\n",
       "                        'c17c634c-df03-4b67-8d29-3fa41b893def',\n",
       "                        [{\"name\": \"V\", \"orientation\": \"h\", \"type\": \"bar\", \"x\": [5, 5, 5, 5, 4, 4, 4, 4, 5, 5, 5, 3, 3, 3, 4, 4, 4, 4, 4, 4, 4, 4, 4, 4, 4, 4, 4, 4, 4, 5, 5, 5, 5, 5, 5, 5, 5, 5, 5, 5, 5, 5, 5, 5, 5, 5, 5, 5, 3, 3, 3, 3, 4, 4, 4, 4, 4, 4, 4, 4, 4, 4, 4, 4, 4, 4, 4, 4, 4, 4, 4, 5, 5, 5, 5, 5, 5, 5, 5, 2, 2, 3, 3, 3, 3, 3, 3, 4, 4, 4, 4, 4, 4, 4, 4, 4, 4, 4, 3, 3]}, {\"name\": \"N(D)N\", \"orientation\": \"h\", \"type\": \"bar\", \"x\": [1, 2, 2, 2, 3, 3, 3, 3, 3, 3, 3, 4, 4, 4, 4, 4, 4, 4, 4, 4, 4, 4, 4, 4, 4, 4, 4, 4, 4, 4, 4, 4, 4, 4, 4, 4, 4, 4, 4, 4, 4, 4, 4, 4, 4, 4, 4, 4, 5, 5, 5, 5, 5, 5, 5, 5, 5, 5, 5, 5, 5, 5, 5, 5, 5, 5, 5, 5, 5, 5, 5, 5, 5, 5, 5, 5, 5, 5, 5, 6, 6, 6, 6, 6, 6, 6, 6, 6, 6, 6, 6, 6, 6, 6, 6, 6, 6, 6, 7, 7]}, {\"name\": \"J\", \"orientation\": \"h\", \"type\": \"bar\", \"x\": [8, 7, 7, 7, 7, 7, 7, 7, 6, 6, 6, 7, 7, 7, 6, 6, 6, 6, 6, 6, 6, 6, 6, 6, 6, 6, 6, 6, 6, 5, 5, 5, 5, 5, 5, 5, 5, 5, 5, 5, 5, 5, 5, 5, 5, 5, 5, 5, 6, 6, 6, 6, 5, 5, 5, 5, 5, 5, 5, 5, 5, 5, 5, 5, 5, 5, 5, 5, 5, 5, 5, 4, 4, 4, 4, 4, 4, 4, 4, 6, 6, 5, 5, 5, 5, 5, 5, 4, 4, 4, 4, 4, 4, 4, 4, 4, 4, 4, 4, 4]}, {\"line\": {\"color\": \"black\"}, \"name\": \"N(D)N start, 80%\", \"type\": \"scatter\", \"x\": [5, 5], \"y\": [0, 100]}, {\"line\": {\"color\": \"black\"}, \"name\": \"N(D)N end, 80%\", \"type\": \"scatter\", \"x\": [8, 8], \"y\": [0, 100]}],\n",
       "                        {\"barmode\": \"stack\", \"template\": {\"data\": {\"bar\": [{\"error_x\": {\"color\": \"#2a3f5f\"}, \"error_y\": {\"color\": \"#2a3f5f\"}, \"marker\": {\"line\": {\"color\": \"#E5ECF6\", \"width\": 0.5}}, \"type\": \"bar\"}], \"barpolar\": [{\"marker\": {\"line\": {\"color\": \"#E5ECF6\", \"width\": 0.5}}, \"type\": \"barpolar\"}], \"carpet\": [{\"aaxis\": {\"endlinecolor\": \"#2a3f5f\", \"gridcolor\": \"white\", \"linecolor\": \"white\", \"minorgridcolor\": \"white\", \"startlinecolor\": \"#2a3f5f\"}, \"baxis\": {\"endlinecolor\": \"#2a3f5f\", \"gridcolor\": \"white\", \"linecolor\": \"white\", \"minorgridcolor\": \"white\", \"startlinecolor\": \"#2a3f5f\"}, \"type\": \"carpet\"}], \"choropleth\": [{\"colorbar\": {\"outlinewidth\": 0, \"ticks\": \"\"}, \"type\": \"choropleth\"}], \"contour\": [{\"colorbar\": {\"outlinewidth\": 0, \"ticks\": \"\"}, \"colorscale\": [[0.0, \"#0d0887\"], [0.1111111111111111, \"#46039f\"], [0.2222222222222222, \"#7201a8\"], [0.3333333333333333, \"#9c179e\"], [0.4444444444444444, \"#bd3786\"], [0.5555555555555556, \"#d8576b\"], [0.6666666666666666, \"#ed7953\"], [0.7777777777777778, \"#fb9f3a\"], [0.8888888888888888, \"#fdca26\"], [1.0, \"#f0f921\"]], \"type\": \"contour\"}], \"contourcarpet\": [{\"colorbar\": {\"outlinewidth\": 0, \"ticks\": \"\"}, \"type\": \"contourcarpet\"}], \"heatmap\": [{\"colorbar\": {\"outlinewidth\": 0, \"ticks\": \"\"}, \"colorscale\": [[0.0, \"#0d0887\"], [0.1111111111111111, \"#46039f\"], [0.2222222222222222, \"#7201a8\"], [0.3333333333333333, \"#9c179e\"], [0.4444444444444444, \"#bd3786\"], [0.5555555555555556, \"#d8576b\"], [0.6666666666666666, \"#ed7953\"], [0.7777777777777778, \"#fb9f3a\"], [0.8888888888888888, \"#fdca26\"], [1.0, \"#f0f921\"]], \"type\": \"heatmap\"}], \"heatmapgl\": [{\"colorbar\": {\"outlinewidth\": 0, \"ticks\": \"\"}, \"colorscale\": [[0.0, \"#0d0887\"], [0.1111111111111111, \"#46039f\"], [0.2222222222222222, \"#7201a8\"], [0.3333333333333333, \"#9c179e\"], [0.4444444444444444, \"#bd3786\"], [0.5555555555555556, \"#d8576b\"], [0.6666666666666666, \"#ed7953\"], [0.7777777777777778, \"#fb9f3a\"], [0.8888888888888888, \"#fdca26\"], [1.0, \"#f0f921\"]], \"type\": \"heatmapgl\"}], \"histogram\": [{\"marker\": {\"colorbar\": {\"outlinewidth\": 0, \"ticks\": \"\"}}, \"type\": \"histogram\"}], \"histogram2d\": [{\"colorbar\": {\"outlinewidth\": 0, \"ticks\": \"\"}, \"colorscale\": [[0.0, \"#0d0887\"], [0.1111111111111111, \"#46039f\"], [0.2222222222222222, \"#7201a8\"], [0.3333333333333333, \"#9c179e\"], [0.4444444444444444, \"#bd3786\"], [0.5555555555555556, \"#d8576b\"], [0.6666666666666666, \"#ed7953\"], [0.7777777777777778, \"#fb9f3a\"], [0.8888888888888888, \"#fdca26\"], [1.0, \"#f0f921\"]], \"type\": \"histogram2d\"}], \"histogram2dcontour\": [{\"colorbar\": {\"outlinewidth\": 0, \"ticks\": \"\"}, \"colorscale\": [[0.0, \"#0d0887\"], [0.1111111111111111, \"#46039f\"], [0.2222222222222222, \"#7201a8\"], [0.3333333333333333, \"#9c179e\"], [0.4444444444444444, \"#bd3786\"], [0.5555555555555556, \"#d8576b\"], [0.6666666666666666, \"#ed7953\"], [0.7777777777777778, \"#fb9f3a\"], [0.8888888888888888, \"#fdca26\"], [1.0, \"#f0f921\"]], \"type\": \"histogram2dcontour\"}], \"mesh3d\": [{\"colorbar\": {\"outlinewidth\": 0, \"ticks\": \"\"}, \"type\": \"mesh3d\"}], \"parcoords\": [{\"line\": {\"colorbar\": {\"outlinewidth\": 0, \"ticks\": \"\"}}, \"type\": \"parcoords\"}], \"scatter\": [{\"marker\": {\"colorbar\": {\"outlinewidth\": 0, \"ticks\": \"\"}}, \"type\": \"scatter\"}], \"scatter3d\": [{\"line\": {\"colorbar\": {\"outlinewidth\": 0, \"ticks\": \"\"}}, \"marker\": {\"colorbar\": {\"outlinewidth\": 0, \"ticks\": \"\"}}, \"type\": \"scatter3d\"}], \"scattercarpet\": [{\"marker\": {\"colorbar\": {\"outlinewidth\": 0, \"ticks\": \"\"}}, \"type\": \"scattercarpet\"}], \"scattergeo\": [{\"marker\": {\"colorbar\": {\"outlinewidth\": 0, \"ticks\": \"\"}}, \"type\": \"scattergeo\"}], \"scattergl\": [{\"marker\": {\"colorbar\": {\"outlinewidth\": 0, \"ticks\": \"\"}}, \"type\": \"scattergl\"}], \"scattermapbox\": [{\"marker\": {\"colorbar\": {\"outlinewidth\": 0, \"ticks\": \"\"}}, \"type\": \"scattermapbox\"}], \"scatterpolar\": [{\"marker\": {\"colorbar\": {\"outlinewidth\": 0, \"ticks\": \"\"}}, \"type\": \"scatterpolar\"}], \"scatterpolargl\": [{\"marker\": {\"colorbar\": {\"outlinewidth\": 0, \"ticks\": \"\"}}, \"type\": \"scatterpolargl\"}], \"scatterternary\": [{\"marker\": {\"colorbar\": {\"outlinewidth\": 0, \"ticks\": \"\"}}, \"type\": \"scatterternary\"}], \"surface\": [{\"colorbar\": {\"outlinewidth\": 0, \"ticks\": \"\"}, \"colorscale\": [[0.0, \"#0d0887\"], [0.1111111111111111, \"#46039f\"], [0.2222222222222222, \"#7201a8\"], [0.3333333333333333, \"#9c179e\"], [0.4444444444444444, \"#bd3786\"], [0.5555555555555556, \"#d8576b\"], [0.6666666666666666, \"#ed7953\"], [0.7777777777777778, \"#fb9f3a\"], [0.8888888888888888, \"#fdca26\"], [1.0, \"#f0f921\"]], \"type\": \"surface\"}], \"table\": [{\"cells\": {\"fill\": {\"color\": \"#EBF0F8\"}, \"line\": {\"color\": \"white\"}}, \"header\": {\"fill\": {\"color\": \"#C8D4E3\"}, \"line\": {\"color\": \"white\"}}, \"type\": \"table\"}]}, \"layout\": {\"annotationdefaults\": {\"arrowcolor\": \"#2a3f5f\", \"arrowhead\": 0, \"arrowwidth\": 1}, \"colorscale\": {\"diverging\": [[0, \"#8e0152\"], [0.1, \"#c51b7d\"], [0.2, \"#de77ae\"], [0.3, \"#f1b6da\"], [0.4, \"#fde0ef\"], [0.5, \"#f7f7f7\"], [0.6, \"#e6f5d0\"], [0.7, \"#b8e186\"], [0.8, \"#7fbc41\"], [0.9, \"#4d9221\"], [1, \"#276419\"]], \"sequential\": [[0.0, \"#0d0887\"], [0.1111111111111111, \"#46039f\"], [0.2222222222222222, \"#7201a8\"], [0.3333333333333333, \"#9c179e\"], [0.4444444444444444, \"#bd3786\"], [0.5555555555555556, \"#d8576b\"], [0.6666666666666666, \"#ed7953\"], [0.7777777777777778, \"#fb9f3a\"], [0.8888888888888888, \"#fdca26\"], [1.0, \"#f0f921\"]], \"sequentialminus\": [[0.0, \"#0d0887\"], [0.1111111111111111, \"#46039f\"], [0.2222222222222222, \"#7201a8\"], [0.3333333333333333, \"#9c179e\"], [0.4444444444444444, \"#bd3786\"], [0.5555555555555556, \"#d8576b\"], [0.6666666666666666, \"#ed7953\"], [0.7777777777777778, \"#fb9f3a\"], [0.8888888888888888, \"#fdca26\"], [1.0, \"#f0f921\"]]}, \"colorway\": [\"#636efa\", \"#EF553B\", \"#00cc96\", \"#ab63fa\", \"#FFA15A\", \"#19d3f3\", \"#FF6692\", \"#B6E880\", \"#FF97FF\", \"#FECB52\"], \"font\": {\"color\": \"#2a3f5f\"}, \"geo\": {\"bgcolor\": \"white\", \"lakecolor\": \"white\", \"landcolor\": \"#E5ECF6\", \"showlakes\": true, \"showland\": true, \"subunitcolor\": \"white\"}, \"hoverlabel\": {\"align\": \"left\"}, \"hovermode\": \"closest\", \"mapbox\": {\"style\": \"light\"}, \"paper_bgcolor\": \"white\", \"plot_bgcolor\": \"#E5ECF6\", \"polar\": {\"angularaxis\": {\"gridcolor\": \"white\", \"linecolor\": \"white\", \"ticks\": \"\"}, \"bgcolor\": \"#E5ECF6\", \"radialaxis\": {\"gridcolor\": \"white\", \"linecolor\": \"white\", \"ticks\": \"\"}}, \"scene\": {\"xaxis\": {\"backgroundcolor\": \"#E5ECF6\", \"gridcolor\": \"white\", \"gridwidth\": 2, \"linecolor\": \"white\", \"showbackground\": true, \"ticks\": \"\", \"zerolinecolor\": \"white\"}, \"yaxis\": {\"backgroundcolor\": \"#E5ECF6\", \"gridcolor\": \"white\", \"gridwidth\": 2, \"linecolor\": \"white\", \"showbackground\": true, \"ticks\": \"\", \"zerolinecolor\": \"white\"}, \"zaxis\": {\"backgroundcolor\": \"#E5ECF6\", \"gridcolor\": \"white\", \"gridwidth\": 2, \"linecolor\": \"white\", \"showbackground\": true, \"ticks\": \"\", \"zerolinecolor\": \"white\"}}, \"shapedefaults\": {\"line\": {\"color\": \"#2a3f5f\"}}, \"ternary\": {\"aaxis\": {\"gridcolor\": \"white\", \"linecolor\": \"white\", \"ticks\": \"\"}, \"baxis\": {\"gridcolor\": \"white\", \"linecolor\": \"white\", \"ticks\": \"\"}, \"bgcolor\": \"#E5ECF6\", \"caxis\": {\"gridcolor\": \"white\", \"linecolor\": \"white\", \"ticks\": \"\"}}, \"title\": {\"x\": 0.05}, \"xaxis\": {\"automargin\": true, \"gridcolor\": \"white\", \"linecolor\": \"white\", \"ticks\": \"\", \"zerolinecolor\": \"white\", \"zerolinewidth\": 2}, \"yaxis\": {\"automargin\": true, \"gridcolor\": \"white\", \"linecolor\": \"white\", \"ticks\": \"\", \"zerolinecolor\": \"white\", \"zerolinewidth\": 2}}}, \"title\": {\"text\": \"HomoSapiens, GIL, TRB, Len: 14\"}},\n",
       "                        {\"responsive\": true}\n",
       "                    ).then(function(){\n",
       "                            \n",
       "var gd = document.getElementById('c17c634c-df03-4b67-8d29-3fa41b893def');\n",
       "var x = new MutationObserver(function (mutations, observer) {{\n",
       "        var display = window.getComputedStyle(gd).display;\n",
       "        if (!display || display === 'none') {{\n",
       "            console.log([gd, 'removed!']);\n",
       "            Plotly.purge(gd);\n",
       "            observer.disconnect();\n",
       "        }}\n",
       "}});\n",
       "\n",
       "// Listen for the removal of the full notebook cells\n",
       "var notebookContainer = gd.closest('#notebook-container');\n",
       "if (notebookContainer) {{\n",
       "    x.observe(notebookContainer, {childList: true});\n",
       "}}\n",
       "\n",
       "// Listen for the clearing of the current output cell\n",
       "var outputEl = gd.closest('.output');\n",
       "if (outputEl) {{\n",
       "    x.observe(outputEl, {childList: true});\n",
       "}}\n",
       "\n",
       "                        })\n",
       "                };\n",
       "                });\n",
       "            </script>\n",
       "        </div>"
      ]
     },
     "metadata": {},
     "output_type": "display_data"
    }
   ],
   "source": [
    "plot_sample_n = 100\n",
    "plot_df = df.sample(plot_sample_n, random_state=42).sort_values(['cdr3_len_arr', 'v_len_arr'])\n",
    "traces = []\n",
    "traces.append(go.Bar(x=plot_df.v_len_arr, orientation='h', name='V'))\n",
    "traces.append(go.Bar(x=plot_df.cdr3_len_arr, orientation='h', name='N(D)N'))\n",
    "traces.append(go.Bar(x=plot_df.j_len_arr, orientation='h', name='J'))\n",
    "traces.append(go.Scatter(x=[start_pos, start_pos], y=[0, plot_sample_n],\n",
    "                         name='N(D)N start, 80%', line={'color': 'black'}))\n",
    "traces.append(go.Scatter(x=[end_pos+1, end_pos+1], y=[0, plot_sample_n],\n",
    "                         name='N(D)N end, 80%', line={'color': 'black'}))\n",
    "fig = go.Figure(data=traces)\n",
    "fig.update_layout(barmode='stack', title='HomoSapiens, GIL, TRB, Len: 14')\n",
    "fig.show()"
   ]
  }
 ],
 "metadata": {
  "kernelspec": {
   "display_name": "Python 3",
   "language": "python",
   "name": "python3"
  },
  "language_info": {
   "codemirror_mode": {
    "name": "ipython",
    "version": 3
   },
   "file_extension": ".py",
   "mimetype": "text/x-python",
   "name": "python",
   "nbconvert_exporter": "python",
   "pygments_lexer": "ipython3",
   "version": "3.7.1"
  }
 },
 "nbformat": 4,
 "nbformat_minor": 2
}
