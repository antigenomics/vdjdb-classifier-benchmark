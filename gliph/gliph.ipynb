{
 "cells": [
  {
   "cell_type": "code",
   "execution_count": 1,
   "metadata": {},
   "outputs": [],
   "source": [
    "import pandas as pd"
   ]
  },
  {
   "cell_type": "code",
   "execution_count": 3,
   "metadata": {},
   "outputs": [],
   "source": [
    "data = pd.read_csv('../vdjdb-dump/vdjdb_a02_4epi_trab_200.txt', sep='\\t')"
   ]
  },
  {
   "cell_type": "code",
   "execution_count": 6,
   "metadata": {},
   "outputs": [
    {
     "data": {
      "text/html": [
       "<div>\n",
       "<style scoped>\n",
       "    .dataframe tbody tr th:only-of-type {\n",
       "        vertical-align: middle;\n",
       "    }\n",
       "\n",
       "    .dataframe tbody tr th {\n",
       "        vertical-align: top;\n",
       "    }\n",
       "\n",
       "    .dataframe thead th {\n",
       "        text-align: right;\n",
       "    }\n",
       "</style>\n",
       "<table border=\"1\" class=\"dataframe\">\n",
       "  <thead>\n",
       "    <tr style=\"text-align: right;\">\n",
       "      <th></th>\n",
       "      <th>gene</th>\n",
       "      <th>CDR3b</th>\n",
       "      <th>TRBV</th>\n",
       "      <th>TRBJ</th>\n",
       "      <th>epitope</th>\n",
       "    </tr>\n",
       "  </thead>\n",
       "  <tbody>\n",
       "    <tr>\n",
       "      <td>0</td>\n",
       "      <td>TRA</td>\n",
       "      <td>CAGAGRGNRDDKIIF</td>\n",
       "      <td>TRAV27*01</td>\n",
       "      <td>TRAJ30*01</td>\n",
       "      <td>GILGFVFTL</td>\n",
       "    </tr>\n",
       "    <tr>\n",
       "      <td>1</td>\n",
       "      <td>TRA</td>\n",
       "      <td>CAASALRGMDSNYQLIW</td>\n",
       "      <td>TRAV29/DV5*01</td>\n",
       "      <td>TRAJ33*01</td>\n",
       "      <td>GILGFVFTL</td>\n",
       "    </tr>\n",
       "    <tr>\n",
       "      <td>2</td>\n",
       "      <td>TRA</td>\n",
       "      <td>CAARGNYGQNFVF</td>\n",
       "      <td>TRAV29/DV5*01</td>\n",
       "      <td>TRAJ26*01</td>\n",
       "      <td>GILGFVFTL</td>\n",
       "    </tr>\n",
       "    <tr>\n",
       "      <td>3</td>\n",
       "      <td>TRA</td>\n",
       "      <td>CAVKNNNDMRF</td>\n",
       "      <td>TRAV12-2*01</td>\n",
       "      <td>TRAJ43*01</td>\n",
       "      <td>GILGFVFTL</td>\n",
       "    </tr>\n",
       "    <tr>\n",
       "      <td>4</td>\n",
       "      <td>TRA</td>\n",
       "      <td>CAMSDGGGSNYKLTF</td>\n",
       "      <td>TRAV12-3*01</td>\n",
       "      <td>TRAJ53*01</td>\n",
       "      <td>GILGFVFTL</td>\n",
       "    </tr>\n",
       "  </tbody>\n",
       "</table>\n",
       "</div>"
      ],
      "text/plain": [
       "  gene              CDR3b           TRBV       TRBJ    epitope\n",
       "0  TRA    CAGAGRGNRDDKIIF      TRAV27*01  TRAJ30*01  GILGFVFTL\n",
       "1  TRA  CAASALRGMDSNYQLIW  TRAV29/DV5*01  TRAJ33*01  GILGFVFTL\n",
       "2  TRA      CAARGNYGQNFVF  TRAV29/DV5*01  TRAJ26*01  GILGFVFTL\n",
       "3  TRA        CAVKNNNDMRF    TRAV12-2*01  TRAJ43*01  GILGFVFTL\n",
       "4  TRA    CAMSDGGGSNYKLTF    TRAV12-3*01  TRAJ53*01  GILGFVFTL"
      ]
     },
     "execution_count": 6,
     "metadata": {},
     "output_type": "execute_result"
    }
   ],
   "source": [
    "data.head()"
   ]
  },
  {
   "cell_type": "code",
   "execution_count": 5,
   "metadata": {},
   "outputs": [],
   "source": [
    "data.columns = ['gene', 'CDR3b', 'TRBV', 'TRBJ', 'epitope']"
   ]
  },
  {
   "cell_type": "code",
   "execution_count": 10,
   "metadata": {},
   "outputs": [],
   "source": [
    "data[['CDR3b', 'TRBV', 'TRBJ', ]].to_csv('test_file.txt', sep='\\t', index=False)"
   ]
  },
  {
   "cell_type": "code",
   "execution_count": null,
   "metadata": {},
   "outputs": [],
   "source": []
  }
 ],
 "metadata": {
  "kernelspec": {
   "display_name": "Python 3",
   "language": "python",
   "name": "python3"
  },
  "language_info": {
   "codemirror_mode": {
    "name": "ipython",
    "version": 3
   },
   "file_extension": ".py",
   "mimetype": "text/x-python",
   "name": "python",
   "nbconvert_exporter": "python",
   "pygments_lexer": "ipython3",
   "version": "3.7.4"
  }
 },
 "nbformat": 4,
 "nbformat_minor": 2
}
