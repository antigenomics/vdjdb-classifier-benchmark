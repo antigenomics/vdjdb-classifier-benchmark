{
 "cells": [
  {
   "cell_type": "code",
   "execution_count": 1,
   "metadata": {},
   "outputs": [
    {
     "name": "stdout",
     "output_type": "stream",
     "text": [
      "Using Cython-powered Fisher's exact test\n"
     ]
    }
   ],
   "source": [
    "import pandas as pd\n",
    "import json\n",
    "import tcrdist as td\n",
    "from tcrdist.repertoire import TCRrep\n",
    "import parasail"
   ]
  },
  {
   "cell_type": "code",
   "execution_count": 2,
   "metadata": {
    "scrolled": true
   },
   "outputs": [],
   "source": [
    "data = pd.read_csv('../vdjdb-dump/vdjdb.txt', sep='\\t')"
   ]
  },
  {
   "cell_type": "code",
   "execution_count": 3,
   "metadata": {},
   "outputs": [],
   "source": [
    "ge30 = data.groupby('antigen.epitope').cdr3.count() >= 30"
   ]
  },
  {
   "cell_type": "code",
   "execution_count": 4,
   "metadata": {},
   "outputs": [],
   "source": [
    "# removing all epitopes which have less then 30 unique TCRs\n",
    "vdj = data.loc[(data['antigen.epitope'].isin(ge30[ge30].index))]"
   ]
  },
  {
   "cell_type": "code",
   "execution_count": 5,
   "metadata": {},
   "outputs": [],
   "source": [
    "# finding epitopes with more than 1000 unique TCRs\n",
    "ge1000 = vdj.groupby('antigen.epitope').cdr3.count().sort_values() > 1000"
   ]
  },
  {
   "cell_type": "code",
   "execution_count": 6,
   "metadata": {},
   "outputs": [],
   "source": [
    "# pseudo-sampling of 1000 rows from each group\n",
    "# yes, it's just keeping top 1000, will change this later\n",
    "sampled = vdj.loc[vdj['antigen.epitope'].isin(ge1000.loc[ge1000].index)].groupby('antigen.epitope').head(1000)"
   ]
  },
  {
   "cell_type": "code",
   "execution_count": 7,
   "metadata": {},
   "outputs": [],
   "source": [
    "# separate df for epitopes which counts are 30 <= x <= 1000\n",
    "bw30_1000 = vdj.loc[~vdj['antigen.epitope'].isin(ge1000.loc[ge1000].index)]"
   ]
  },
  {
   "cell_type": "code",
   "execution_count": 8,
   "metadata": {},
   "outputs": [],
   "source": [
    "# concatenating two dfs\n",
    "vdj = pd.concat([sampled, bw30_1000])"
   ]
  },
  {
   "cell_type": "code",
   "execution_count": 9,
   "metadata": {},
   "outputs": [
    {
     "data": {
      "text/plain": [
       "(26070, 21)"
      ]
     },
     "execution_count": 9,
     "metadata": {},
     "output_type": "execute_result"
    }
   ],
   "source": [
    "vdj.shape"
   ]
  },
  {
   "cell_type": "code",
   "execution_count": 10,
   "metadata": {},
   "outputs": [],
   "source": [
    "# tcrdist has a specific naming format\n",
    "# our mapping is not in default lib mappers\n",
    "mapper = {'complex.id': 'complex_id', 'gene': 'gene', 'cdr3': 'cdr3_b_aa', 'v.segm': 'v_b_gene',\n",
    "          'j.segm': 'j_b_gene', 'species': 'organism', 'mhc.a': 'mhc_b_a', 'mhc.b': 'mhc_b_b', \n",
    "          'mhc.class': 'mhc_b_class', 'antigen.epitope': 'epitope', 'antigen.gene': 'epitope_gene',\n",
    "          'antigen.species': 'epitope_species', 'reference.id': 'reference', 'vdjdb.score': 'score'}"
   ]
  },
  {
   "cell_type": "code",
   "execution_count": 11,
   "metadata": {},
   "outputs": [],
   "source": [
    "# dropping unnecessary variables (j.start, v.end) - they do not have corresponding names in the lib\n",
    "vdj.drop(set(vdj.columns) - mapper.keys(), axis=1, inplace=True)\n",
    "\n",
    "# renaming columns\n",
    "vdj.rename(mapper=mapper, axis=1, inplace=True)"
   ]
  },
  {
   "cell_type": "code",
   "execution_count": 12,
   "metadata": {},
   "outputs": [],
   "source": [
    "# removing references to www.10xgenomics.com\n",
    "vdj = vdj[~vdj.reference.str.startswith('https://www.10xgenomics.com/resources/applicat')]"
   ]
  },
  {
   "cell_type": "code",
   "execution_count": 39,
   "metadata": {},
   "outputs": [],
   "source": [
    "vdj_trb, vdj_tra = vdj.loc[vdj.gene == 'TRB'], vdj.loc[vdj.gene == 'TRA']"
   ]
  },
  {
   "cell_type": "code",
   "execution_count": 40,
   "metadata": {},
   "outputs": [],
   "source": [
    "vdj_tra.rename(mapper={'v_b_gene': 'v_a_gene', 'j_b_gene': 'j_a_gene', 'mhc_b_class': 'mhc_a_class', \n",
    "                       'mhc_b_a': 'mhc_a_a', 'mhc_b_b': 'mhc_a_b', 'cdr3_b_aa': 'cdr3_a_aa'}, \n",
    "               axis=1, inplace=True)"
   ]
  },
  {
   "cell_type": "code",
   "execution_count": 41,
   "metadata": {},
   "outputs": [],
   "source": [
    "# these lines are from example 2\n",
    "tr_a, tr_b = TCRrep(cell_df=vdj_tra, organism=\"human\"), TCRrep(cell_df=vdj_trb, organism=\"human\")"
   ]
  },
  {
   "cell_type": "code",
   "execution_count": 42,
   "metadata": {
    "scrolled": true
   },
   "outputs": [],
   "source": [
    "# not sure whether this step is OK: need to figure out more about imgt_aligned argument\n",
    "tr_a.infer_cdrs_from_v_gene(chain='alpha', imgt_aligned=True) \n",
    "tr_b.infer_cdrs_from_v_gene(chain='beta', imgt_aligned=True) "
   ]
  },
  {
   "cell_type": "code",
   "execution_count": 44,
   "metadata": {
    "scrolled": true
   },
   "outputs": [],
   "source": [
    "# these columns will determine duplicates\n",
    "tr_b.index_cols = ['epitope', 'cdr3_b_aa', 'cdr1_b_aa', 'cdr2_b_aa', 'pmhc_b_aa', 'v_b_gene', 'j_b_gene']\n",
    "tr_a.index_cols = ['epitope', 'cdr3_a_aa', 'cdr1_a_aa', 'cdr2_a_aa', 'pmhc_a_aa', 'v_a_gene', 'j_a_gene']"
   ]
  },
  {
   "cell_type": "code",
   "execution_count": 45,
   "metadata": {},
   "outputs": [
    {
     "name": "stderr",
     "output_type": "stream",
     "text": [
      "/home/alex/anaconda3/lib/python3.7/site-packages/ipykernel_launcher.py:2: SettingWithCopyWarning: \n",
      "A value is trying to be set on a copy of a slice from a DataFrame.\n",
      "Try using .loc[row_indexer,col_indexer] = value instead\n",
      "\n",
      "See the caveats in the documentation: http://pandas.pydata.org/pandas-docs/stable/user_guide/indexing.html#returning-a-view-versus-a-copy\n",
      "  \n"
     ]
    },
    {
     "data": {
      "text/plain": [
       "tcrdist.repertoire.TCRrep for <Your TCR Repertoire Project>\n",
       " with index_cols: ['epitope', 'cdr3_a_aa', 'cdr1_a_aa', 'cdr2_a_aa', 'pmhc_a_aa', 'v_a_gene', 'j_a_gene']\n",
       " with model organism: human"
      ]
     },
     "execution_count": 45,
     "metadata": {},
     "output_type": "execute_result"
    }
   ],
   "source": [
    "# this clearly does not work and I need to manualy add a column 'count'\n",
    "tr_b.cell_df['count'], tr_a.cell_df['count'] = 1, 1\n",
    "tr_b.deduplicate()\n",
    "tr_a.deduplicate()"
   ]
  },
  {
   "cell_type": "code",
   "execution_count": null,
   "metadata": {},
   "outputs": [],
   "source": [
    "# computing pairwise distances for beta chains with Needleman–Wunsch algorithm using Blosum62\n",
    "# this fills such attributes as cdr3_b_aa_pw and also tcrdist (required for the next line)\n",
    "tr_b.compute_pairwise_all(chain=\"beta\", metric=\"nw\", processes=4, matrix=parasail.blosum62)\n",
    "tr_a.compute_pairwise_all(chain=\"alpha\", metric=\"nw\", processes=4, matrix=parasail.blosum62)\n",
    "\n",
    "# this fills paired_tcrdist between CDR regions \n",
    "tr_b.compute_paired_tcrdist(store_result=True)\n",
    "tr_a.compute_paired_tcrdist(store_result=True)"
   ]
  },
  {
   "cell_type": "code",
   "execution_count": null,
   "metadata": {},
   "outputs": [],
   "source": []
  }
 ],
 "metadata": {
  "kernelspec": {
   "display_name": "Python 3",
   "language": "python",
   "name": "python3"
  },
  "language_info": {
   "codemirror_mode": {
    "name": "ipython",
    "version": 3
   },
   "file_extension": ".py",
   "mimetype": "text/x-python",
   "name": "python",
   "nbconvert_exporter": "python",
   "pygments_lexer": "ipython3",
   "version": "3.7.4"
  }
 },
 "nbformat": 4,
 "nbformat_minor": 2
}
