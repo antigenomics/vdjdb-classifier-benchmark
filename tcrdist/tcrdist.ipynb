{
 "cells": [
  {
   "cell_type": "code",
   "execution_count": 1,
   "metadata": {},
   "outputs": [
    {
     "name": "stdout",
     "output_type": "stream",
     "text": [
      "Using Cython-powered Fisher's exact test\n"
     ]
    }
   ],
   "source": [
    "import tcrdist as td\n",
    "import pandas as pd\n",
    "from tcrdist.repertoire import TCRrep\n",
    "from tcrdist.proximity import TCRproximity\n",
    "import numpy as np\n",
    "import parasail\n",
    "from collections import namedtuple"
   ]
  },
  {
   "cell_type": "code",
   "execution_count": 2,
   "metadata": {
    "scrolled": true
   },
   "outputs": [
    {
     "data": {
      "text/plain": [
       "(61557, 16)"
      ]
     },
     "execution_count": 2,
     "metadata": {},
     "output_type": "execute_result"
    }
   ],
   "source": [
    "# reading the db file\n",
    "vdj = pd.read_csv('../vdjdb-dump/vdjdb.slim.txt', sep='\\t')\n",
    "vdj.shape"
   ]
  },
  {
   "cell_type": "code",
   "execution_count": 3,
   "metadata": {},
   "outputs": [],
   "source": [
    "# keeping only human entries and beta chains\n",
    "vdj = vdj.loc[(vdj.species == 'HomoSapiens') & (vdj.gene == 'TRB')]"
   ]
  },
  {
   "cell_type": "code",
   "execution_count": 4,
   "metadata": {},
   "outputs": [],
   "source": [
    "# counting the number of unique TCRs for an epitope\n",
    "ge30 = vdj.groupby('antigen.epitope').cdr3.count() >= 30"
   ]
  },
  {
   "cell_type": "code",
   "execution_count": 5,
   "metadata": {
    "scrolled": true
   },
   "outputs": [],
   "source": [
    "# removing all epitopes which have less then 30 unique TCRs\n",
    "vdj = vdj.loc[(vdj['antigen.epitope'].isin(ge30[ge30].index))]"
   ]
  },
  {
   "cell_type": "code",
   "execution_count": 6,
   "metadata": {},
   "outputs": [],
   "source": [
    "# finding epitopes with more than 1000 unique TCRs\n",
    "ge1000 = vdj.groupby('antigen.epitope').cdr3.count().sort_values() > 1000"
   ]
  },
  {
   "cell_type": "code",
   "execution_count": 7,
   "metadata": {},
   "outputs": [],
   "source": [
    "# pseudo-sampling of 1000 rows from each group\n",
    "# yes, it's just keeping top 1000, will change this later\n",
    "sampled = vdj.loc[vdj['antigen.epitope'].isin(ge1000.loc[ge1000].index)].groupby('antigen.epitope').head(1000)"
   ]
  },
  {
   "cell_type": "code",
   "execution_count": 8,
   "metadata": {},
   "outputs": [],
   "source": [
    "# separate df for epitopes which counts are 30 <= x <= 1000\n",
    "bw30_1000 = vdj.loc[~vdj['antigen.epitope'].isin(ge1000.loc[ge1000].index)]"
   ]
  },
  {
   "cell_type": "code",
   "execution_count": 9,
   "metadata": {
    "scrolled": true
   },
   "outputs": [],
   "source": [
    "# concatenating two dfs\n",
    "vdj = pd.concat([sampled, bw30_1000])"
   ]
  },
  {
   "cell_type": "code",
   "execution_count": 10,
   "metadata": {},
   "outputs": [
    {
     "data": {
      "text/plain": [
       "(13798, 16)"
      ]
     },
     "execution_count": 10,
     "metadata": {},
     "output_type": "execute_result"
    }
   ],
   "source": [
    "vdj.shape"
   ]
  },
  {
   "cell_type": "code",
   "execution_count": 11,
   "metadata": {},
   "outputs": [],
   "source": [
    "# tcrdist has a specific naming format\n",
    "# our mapping is not in default lib mappers\n",
    "mapper = {'complex.id': 'complex_id', 'gene': 'gene', 'cdr3': 'cdr3_b_aa', 'v.segm': 'v_b_gene',\n",
    "          'j.segm': 'j_b_gene', 'species': 'organism', 'mhc.a': 'mhc_b_a', 'mhc.b': 'mhc_b_b', \n",
    "          'mhc.class': 'mhc_b_class', 'antigen.epitope': 'epitope', 'antigen.gene': 'epitope_gene',\n",
    "          'antigen.species': 'epitope_species', 'reference.id': 'reference', 'vdjdb.score': 'score'}"
   ]
  },
  {
   "cell_type": "code",
   "execution_count": 12,
   "metadata": {
    "scrolled": true
   },
   "outputs": [],
   "source": [
    "# dropping unnecessary variables (j.start, v.end) - they do not have corresponding names in the lib\n",
    "vdj.drop(set(vdj.columns) - mapper.keys(), axis=1, inplace=True)\n",
    "\n",
    "# renaming columns\n",
    "vdj.rename(mapper=mapper, axis=1, inplace=True)"
   ]
  },
  {
   "cell_type": "code",
   "execution_count": 13,
   "metadata": {},
   "outputs": [],
   "source": [
    "# removing references to www.10xgenomics.com\n",
    "vdj = vdj[~vdj.reference.str.startswith('https://www.10xgenomics.com/resources/applicat')]"
   ]
  },
  {
   "cell_type": "code",
   "execution_count": 14,
   "metadata": {
    "scrolled": true
   },
   "outputs": [
    {
     "data": {
      "text/html": [
       "<div>\n",
       "<style scoped>\n",
       "    .dataframe tbody tr th:only-of-type {\n",
       "        vertical-align: middle;\n",
       "    }\n",
       "\n",
       "    .dataframe tbody tr th {\n",
       "        vertical-align: top;\n",
       "    }\n",
       "\n",
       "    .dataframe thead th {\n",
       "        text-align: right;\n",
       "    }\n",
       "</style>\n",
       "<table border=\"1\" class=\"dataframe\">\n",
       "  <thead>\n",
       "    <tr style=\"text-align: right;\">\n",
       "      <th></th>\n",
       "      <th>gene</th>\n",
       "      <th>cdr3_b_aa</th>\n",
       "      <th>organism</th>\n",
       "      <th>epitope</th>\n",
       "      <th>epitope_gene</th>\n",
       "      <th>epitope_species</th>\n",
       "      <th>complex_id</th>\n",
       "      <th>v_b_gene</th>\n",
       "      <th>j_b_gene</th>\n",
       "      <th>mhc_b_a</th>\n",
       "      <th>mhc_b_b</th>\n",
       "      <th>mhc_b_class</th>\n",
       "      <th>reference</th>\n",
       "      <th>score</th>\n",
       "    </tr>\n",
       "  </thead>\n",
       "  <tbody>\n",
       "    <tr>\n",
       "      <td>16414</td>\n",
       "      <td>TRB</td>\n",
       "      <td>CATTPGASGISEQFF</td>\n",
       "      <td>HomoSapiens</td>\n",
       "      <td>FRDYVDRFYKTLRAEQASQE</td>\n",
       "      <td>Gag</td>\n",
       "      <td>HIV-1</td>\n",
       "      <td>0</td>\n",
       "      <td>TRBV2*01</td>\n",
       "      <td>TRBJ2-1*01</td>\n",
       "      <td>HLA-DRA*01:01</td>\n",
       "      <td>HLA-DRB5*01:01</td>\n",
       "      <td>MHCII</td>\n",
       "      <td>PMID:27111229</td>\n",
       "      <td>3</td>\n",
       "    </tr>\n",
       "    <tr>\n",
       "      <td>30</td>\n",
       "      <td>TRB</td>\n",
       "      <td>CASIPEGGRETQYF</td>\n",
       "      <td>HomoSapiens</td>\n",
       "      <td>GLCTLVAML</td>\n",
       "      <td>BMLF1</td>\n",
       "      <td>EBV</td>\n",
       "      <td>0</td>\n",
       "      <td>TRBV7-8*01</td>\n",
       "      <td>TRBJ2-5*01</td>\n",
       "      <td>HLA-A*02:01</td>\n",
       "      <td>B2M</td>\n",
       "      <td>MHCI</td>\n",
       "      <td>PMID:23267020</td>\n",
       "      <td>1</td>\n",
       "    </tr>\n",
       "    <tr>\n",
       "      <td>59314</td>\n",
       "      <td>TRB</td>\n",
       "      <td>CASSDLASGTDTQYF</td>\n",
       "      <td>HomoSapiens</td>\n",
       "      <td>FRDYVDRFYKTLRAEQASQE</td>\n",
       "      <td>Gag</td>\n",
       "      <td>HIV-1</td>\n",
       "      <td>0</td>\n",
       "      <td>TRBV2*01</td>\n",
       "      <td>TRBJ2-3*01</td>\n",
       "      <td>HLA-DRA*01:01</td>\n",
       "      <td>HLA-DRB1*11:01</td>\n",
       "      <td>MHCII</td>\n",
       "      <td>PMID:27111229</td>\n",
       "      <td>0</td>\n",
       "    </tr>\n",
       "    <tr>\n",
       "      <td>26744</td>\n",
       "      <td>TRB</td>\n",
       "      <td>CSASGSGGKTEAFF</td>\n",
       "      <td>HomoSapiens</td>\n",
       "      <td>PKYVKQNTLKLAT</td>\n",
       "      <td>HA</td>\n",
       "      <td>InfluenzaA</td>\n",
       "      <td>21261</td>\n",
       "      <td>TRBV20-1*01</td>\n",
       "      <td>TRBJ1-1*01</td>\n",
       "      <td>HLA-DRA*01:01</td>\n",
       "      <td>HLA-DRB1*04:01</td>\n",
       "      <td>MHCII</td>\n",
       "      <td>PMID:28636589</td>\n",
       "      <td>0</td>\n",
       "    </tr>\n",
       "    <tr>\n",
       "      <td>28335</td>\n",
       "      <td>TRB</td>\n",
       "      <td>CATFSGNTGELFF</td>\n",
       "      <td>HomoSapiens</td>\n",
       "      <td>MLNIPSINV</td>\n",
       "      <td>pp65</td>\n",
       "      <td>CMV</td>\n",
       "      <td>0</td>\n",
       "      <td>TRBV24-1*01</td>\n",
       "      <td>TRBJ2-2*01</td>\n",
       "      <td>HLA-A*02</td>\n",
       "      <td>B2M</td>\n",
       "      <td>MHCI</td>\n",
       "      <td>PMID:25925682</td>\n",
       "      <td>0</td>\n",
       "    </tr>\n",
       "  </tbody>\n",
       "</table>\n",
       "</div>"
      ],
      "text/plain": [
       "      gene        cdr3_b_aa     organism               epitope epitope_gene  \\\n",
       "16414  TRB  CATTPGASGISEQFF  HomoSapiens  FRDYVDRFYKTLRAEQASQE          Gag   \n",
       "30     TRB   CASIPEGGRETQYF  HomoSapiens             GLCTLVAML        BMLF1   \n",
       "59314  TRB  CASSDLASGTDTQYF  HomoSapiens  FRDYVDRFYKTLRAEQASQE          Gag   \n",
       "26744  TRB   CSASGSGGKTEAFF  HomoSapiens         PKYVKQNTLKLAT           HA   \n",
       "28335  TRB    CATFSGNTGELFF  HomoSapiens             MLNIPSINV         pp65   \n",
       "\n",
       "      epitope_species complex_id     v_b_gene    j_b_gene        mhc_b_a  \\\n",
       "16414           HIV-1          0     TRBV2*01  TRBJ2-1*01  HLA-DRA*01:01   \n",
       "30                EBV          0   TRBV7-8*01  TRBJ2-5*01    HLA-A*02:01   \n",
       "59314           HIV-1          0     TRBV2*01  TRBJ2-3*01  HLA-DRA*01:01   \n",
       "26744      InfluenzaA      21261  TRBV20-1*01  TRBJ1-1*01  HLA-DRA*01:01   \n",
       "28335             CMV          0  TRBV24-1*01  TRBJ2-2*01       HLA-A*02   \n",
       "\n",
       "              mhc_b_b mhc_b_class      reference  score  \n",
       "16414  HLA-DRB5*01:01       MHCII  PMID:27111229      3  \n",
       "30                B2M        MHCI  PMID:23267020      1  \n",
       "59314  HLA-DRB1*11:01       MHCII  PMID:27111229      0  \n",
       "26744  HLA-DRB1*04:01       MHCII  PMID:28636589      0  \n",
       "28335             B2M        MHCI  PMID:25925682      0  "
      ]
     },
     "execution_count": 14,
     "metadata": {},
     "output_type": "execute_result"
    }
   ],
   "source": [
    "# keeping only 100 random rows for now\n",
    "vdj = vdj.sample(100)\n",
    "vdj.head()"
   ]
  },
  {
   "cell_type": "code",
   "execution_count": 15,
   "metadata": {},
   "outputs": [],
   "source": [
    "# these lines are from example 2\n",
    "tr = TCRrep(cell_df=vdj, organism=\"human\")"
   ]
  },
  {
   "cell_type": "code",
   "execution_count": 16,
   "metadata": {},
   "outputs": [],
   "source": [
    "# not sure whether this step is OK: need to figure out more about imgt_aligned argument\n",
    "tr.infer_cdrs_from_v_gene(chain='beta', imgt_aligned=True)  "
   ]
  },
  {
   "cell_type": "code",
   "execution_count": 17,
   "metadata": {
    "scrolled": true
   },
   "outputs": [
    {
     "data": {
      "text/html": [
       "<div>\n",
       "<style scoped>\n",
       "    .dataframe tbody tr th:only-of-type {\n",
       "        vertical-align: middle;\n",
       "    }\n",
       "\n",
       "    .dataframe tbody tr th {\n",
       "        vertical-align: top;\n",
       "    }\n",
       "\n",
       "    .dataframe thead th {\n",
       "        text-align: right;\n",
       "    }\n",
       "</style>\n",
       "<table border=\"1\" class=\"dataframe\">\n",
       "  <thead>\n",
       "    <tr style=\"text-align: right;\">\n",
       "      <th></th>\n",
       "      <th>gene</th>\n",
       "      <th>cdr3_b_aa</th>\n",
       "      <th>organism</th>\n",
       "      <th>epitope</th>\n",
       "      <th>epitope_gene</th>\n",
       "      <th>epitope_species</th>\n",
       "      <th>complex_id</th>\n",
       "      <th>v_b_gene</th>\n",
       "      <th>j_b_gene</th>\n",
       "      <th>mhc_b_a</th>\n",
       "      <th>mhc_b_b</th>\n",
       "      <th>mhc_b_class</th>\n",
       "      <th>reference</th>\n",
       "      <th>score</th>\n",
       "      <th>cdr1_b_aa</th>\n",
       "      <th>cdr2_b_aa</th>\n",
       "      <th>pmhc_b_aa</th>\n",
       "    </tr>\n",
       "  </thead>\n",
       "  <tbody>\n",
       "    <tr>\n",
       "      <td>16414</td>\n",
       "      <td>TRB</td>\n",
       "      <td>CATTPGASGISEQFF</td>\n",
       "      <td>HomoSapiens</td>\n",
       "      <td>FRDYVDRFYKTLRAEQASQE</td>\n",
       "      <td>Gag</td>\n",
       "      <td>HIV-1</td>\n",
       "      <td>0</td>\n",
       "      <td>TRBV2*01</td>\n",
       "      <td>TRBJ2-1*01</td>\n",
       "      <td>HLA-DRA*01:01</td>\n",
       "      <td>HLA-DRB5*01:01</td>\n",
       "      <td>MHCII</td>\n",
       "      <td>PMID:27111229</td>\n",
       "      <td>3</td>\n",
       "      <td>SNH.......LY</td>\n",
       "      <td>FYN....NEI</td>\n",
       "      <td>P.DGSN</td>\n",
       "    </tr>\n",
       "    <tr>\n",
       "      <td>30</td>\n",
       "      <td>TRB</td>\n",
       "      <td>CASIPEGGRETQYF</td>\n",
       "      <td>HomoSapiens</td>\n",
       "      <td>GLCTLVAML</td>\n",
       "      <td>BMLF1</td>\n",
       "      <td>EBV</td>\n",
       "      <td>0</td>\n",
       "      <td>TRBV7-8*01</td>\n",
       "      <td>TRBJ2-5*01</td>\n",
       "      <td>HLA-A*02:01</td>\n",
       "      <td>B2M</td>\n",
       "      <td>MHCI</td>\n",
       "      <td>PMID:23267020</td>\n",
       "      <td>1</td>\n",
       "      <td>SGH.......VS</td>\n",
       "      <td>FQN....EAQ</td>\n",
       "      <td>P.EGSV</td>\n",
       "    </tr>\n",
       "    <tr>\n",
       "      <td>59314</td>\n",
       "      <td>TRB</td>\n",
       "      <td>CASSDLASGTDTQYF</td>\n",
       "      <td>HomoSapiens</td>\n",
       "      <td>FRDYVDRFYKTLRAEQASQE</td>\n",
       "      <td>Gag</td>\n",
       "      <td>HIV-1</td>\n",
       "      <td>0</td>\n",
       "      <td>TRBV2*01</td>\n",
       "      <td>TRBJ2-3*01</td>\n",
       "      <td>HLA-DRA*01:01</td>\n",
       "      <td>HLA-DRB1*11:01</td>\n",
       "      <td>MHCII</td>\n",
       "      <td>PMID:27111229</td>\n",
       "      <td>0</td>\n",
       "      <td>SNH.......LY</td>\n",
       "      <td>FYN....NEI</td>\n",
       "      <td>P.DGSN</td>\n",
       "    </tr>\n",
       "    <tr>\n",
       "      <td>26744</td>\n",
       "      <td>TRB</td>\n",
       "      <td>CSASGSGGKTEAFF</td>\n",
       "      <td>HomoSapiens</td>\n",
       "      <td>PKYVKQNTLKLAT</td>\n",
       "      <td>HA</td>\n",
       "      <td>InfluenzaA</td>\n",
       "      <td>21261</td>\n",
       "      <td>TRBV20-1*01</td>\n",
       "      <td>TRBJ1-1*01</td>\n",
       "      <td>HLA-DRA*01:01</td>\n",
       "      <td>HLA-DRB1*04:01</td>\n",
       "      <td>MHCII</td>\n",
       "      <td>PMID:28636589</td>\n",
       "      <td>0</td>\n",
       "      <td>DFQ......ATT</td>\n",
       "      <td>SNEG...SKA</td>\n",
       "      <td>A.SLTL</td>\n",
       "    </tr>\n",
       "    <tr>\n",
       "      <td>28335</td>\n",
       "      <td>TRB</td>\n",
       "      <td>CATFSGNTGELFF</td>\n",
       "      <td>HomoSapiens</td>\n",
       "      <td>MLNIPSINV</td>\n",
       "      <td>pp65</td>\n",
       "      <td>CMV</td>\n",
       "      <td>0</td>\n",
       "      <td>TRBV24-1*01</td>\n",
       "      <td>TRBJ2-2*01</td>\n",
       "      <td>HLA-A*02</td>\n",
       "      <td>B2M</td>\n",
       "      <td>MHCI</td>\n",
       "      <td>PMID:25925682</td>\n",
       "      <td>0</td>\n",
       "      <td>KGH.......DR</td>\n",
       "      <td>SFD....VKD</td>\n",
       "      <td>Q.AQAK</td>\n",
       "    </tr>\n",
       "  </tbody>\n",
       "</table>\n",
       "</div>"
      ],
      "text/plain": [
       "      gene        cdr3_b_aa     organism               epitope epitope_gene  \\\n",
       "16414  TRB  CATTPGASGISEQFF  HomoSapiens  FRDYVDRFYKTLRAEQASQE          Gag   \n",
       "30     TRB   CASIPEGGRETQYF  HomoSapiens             GLCTLVAML        BMLF1   \n",
       "59314  TRB  CASSDLASGTDTQYF  HomoSapiens  FRDYVDRFYKTLRAEQASQE          Gag   \n",
       "26744  TRB   CSASGSGGKTEAFF  HomoSapiens         PKYVKQNTLKLAT           HA   \n",
       "28335  TRB    CATFSGNTGELFF  HomoSapiens             MLNIPSINV         pp65   \n",
       "\n",
       "      epitope_species complex_id     v_b_gene    j_b_gene        mhc_b_a  \\\n",
       "16414           HIV-1          0     TRBV2*01  TRBJ2-1*01  HLA-DRA*01:01   \n",
       "30                EBV          0   TRBV7-8*01  TRBJ2-5*01    HLA-A*02:01   \n",
       "59314           HIV-1          0     TRBV2*01  TRBJ2-3*01  HLA-DRA*01:01   \n",
       "26744      InfluenzaA      21261  TRBV20-1*01  TRBJ1-1*01  HLA-DRA*01:01   \n",
       "28335             CMV          0  TRBV24-1*01  TRBJ2-2*01       HLA-A*02   \n",
       "\n",
       "              mhc_b_b mhc_b_class      reference  score     cdr1_b_aa  \\\n",
       "16414  HLA-DRB5*01:01       MHCII  PMID:27111229      3  SNH.......LY   \n",
       "30                B2M        MHCI  PMID:23267020      1  SGH.......VS   \n",
       "59314  HLA-DRB1*11:01       MHCII  PMID:27111229      0  SNH.......LY   \n",
       "26744  HLA-DRB1*04:01       MHCII  PMID:28636589      0  DFQ......ATT   \n",
       "28335             B2M        MHCI  PMID:25925682      0  KGH.......DR   \n",
       "\n",
       "        cdr2_b_aa pmhc_b_aa  \n",
       "16414  FYN....NEI    P.DGSN  \n",
       "30     FQN....EAQ    P.EGSV  \n",
       "59314  FYN....NEI    P.DGSN  \n",
       "26744  SNEG...SKA    A.SLTL  \n",
       "28335  SFD....VKD    Q.AQAK  "
      ]
     },
     "execution_count": 17,
     "metadata": {},
     "output_type": "execute_result"
    }
   ],
   "source": [
    "# a new attribute after running infer_cdrs_from_v_gene()\n",
    "tr.cell_df.head()"
   ]
  },
  {
   "cell_type": "code",
   "execution_count": 18,
   "metadata": {},
   "outputs": [],
   "source": [
    "# these columns will determine duplicates\n",
    "tr.index_cols = ['epitope', 'cdr3_b_aa', 'cdr1_b_aa', 'cdr2_b_aa', 'pmhc_b_aa', 'v_b_gene', 'j_b_gene']"
   ]
  },
  {
   "cell_type": "code",
   "execution_count": 19,
   "metadata": {},
   "outputs": [
    {
     "data": {
      "text/plain": [
       "tcrdist.repertoire.TCRrep for <Your TCR Repertoire Project>\n",
       " with index_cols: ['epitope', 'cdr3_b_aa', 'cdr1_b_aa', 'cdr2_b_aa', 'pmhc_b_aa', 'v_b_gene', 'j_b_gene']\n",
       " with model organism: human"
      ]
     },
     "execution_count": 19,
     "metadata": {},
     "output_type": "execute_result"
    }
   ],
   "source": [
    "# this clearly does not work and I need to manualy add a column 'count'\n",
    "tr.cell_df['count'] = 1\n",
    "tr.deduplicate()"
   ]
  },
  {
   "cell_type": "code",
   "execution_count": 20,
   "metadata": {
    "scrolled": true
   },
   "outputs": [
    {
     "name": "stderr",
     "output_type": "stream",
     "text": [
      "/home/alex/.local/lib/python3.7/site-packages/tcrdist/repertoire.py:649: UserWarning: tcrdist was calculated without: 'cdr1_a_aa_pw' because pairwise distances haven't been computed for this region:\n",
      "  warnings.warn(\"tcrdist was calculated without: '{}' because pairwise distances haven't been computed for this region:\".format(k))\n",
      "/home/alex/.local/lib/python3.7/site-packages/tcrdist/repertoire.py:649: UserWarning: tcrdist was calculated without: 'cdr2_a_aa_pw' because pairwise distances haven't been computed for this region:\n",
      "  warnings.warn(\"tcrdist was calculated without: '{}' because pairwise distances haven't been computed for this region:\".format(k))\n",
      "/home/alex/.local/lib/python3.7/site-packages/tcrdist/repertoire.py:649: UserWarning: tcrdist was calculated without: 'cdr3_a_aa_pw' because pairwise distances haven't been computed for this region:\n",
      "  warnings.warn(\"tcrdist was calculated without: '{}' because pairwise distances haven't been computed for this region:\".format(k))\n",
      "/home/alex/.local/lib/python3.7/site-packages/tcrdist/repertoire.py:649: UserWarning: tcrdist was calculated without: 'pmhc_a_aa_pw' because pairwise distances haven't been computed for this region:\n",
      "  warnings.warn(\"tcrdist was calculated without: '{}' because pairwise distances haven't been computed for this region:\".format(k))\n"
     ]
    },
    {
     "data": {
      "text/plain": [
       "{'paired_tcrdist': array([[  0., 130., 210., ..., 231., 277., 229.],\n",
       "        [130.,   0., 242., ..., 265., 281., 263.],\n",
       "        [210., 242.,   0., ..., 225., 253., 269.],\n",
       "        ...,\n",
       "        [231., 265., 225., ...,   0., 244., 160.],\n",
       "        [277., 281., 253., ..., 244.,   0., 244.],\n",
       "        [229., 263., 269., ..., 160., 244.,   0.]]),\n",
       " 'paired_tcrdist_weights': {'cdr1_a_aa_pw': 1,\n",
       "  'cdr2_a_aa_pw': 1,\n",
       "  'cdr3_a_aa_pw': 1,\n",
       "  'pmhc_a_aa_pw': 1,\n",
       "  'cdr1_b_aa_pw': 1,\n",
       "  'cdr2_b_aa_pw': 1,\n",
       "  'cdr3_b_aa_pw': 1,\n",
       "  'pmhc_b_aa_pw': 1}}"
      ]
     },
     "execution_count": 20,
     "metadata": {},
     "output_type": "execute_result"
    }
   ],
   "source": [
    "# computing pairwise distances for beta chains with Needleman–Wunsch algorithm using Blosum62\n",
    "# this fills such attributes as cdr3_b_aa_pw and also tcrdist (required for the next line)\n",
    "tr.compute_pairwise_all(chain=\"beta\", metric=\"nw\", processes=4, matrix=parasail.blosum62)\n",
    "\n",
    "# this fills paired_tcrdist between CDR regions \n",
    "tr.compute_paired_tcrdist(store_result=True)"
   ]
  },
  {
   "cell_type": "code",
   "execution_count": 21,
   "metadata": {
    "scrolled": false
   },
   "outputs": [
    {
     "data": {
      "text/plain": [
       "[perf(observed='ATDALMTGY', predicted=['FRDYVDRFYKTLRAEQASQE', 'FRDYVDRFYKTLRAEQASQE', 'FRDYVDRFYKTLRAEQASQE', 'FRDYVDRFYKTLRAEQASQE', 'FRDYVDRFYKTLRAEQASQE'], dist=array([ 98., 104., 105., 107., 111.])),\n",
       " perf(observed='ATDALMTGY', predicted=['FRDYVDRFYKTLRAEQASQE', 'FRDYVDRFYKTLRAEQASQE', 'EIYKRWII', 'FRDYVDRFYKTLRAEQASQE', 'FRDYVDRFYKTLRAEQASQE'], dist=array([ 95., 113., 115., 118., 120.])),\n",
       " perf(observed='ATDALMTGY', predicted=['PKYVKQNTLKLAT', 'IVTDFSVIK', 'GILGFVFTL', 'FRDYVDRFYKTLRAEQASQE', 'GLCTLVAML'], dist=array([ 87., 124., 158., 165., 167.])),\n",
       " perf(observed='AVFDRKSDAK', predicted=['NLVPMVATV', 'PKYVKQNTLKLAT', 'GLIYNRMGAVTTEV', 'NLVPMVATV', 'QYDPVAALF'], dist=array([67., 80., 93., 94., 99.])),\n",
       " perf(observed='CINGVCWTV', predicted=['ISPRTLNAW', 'NLVPMVATV', 'FLKEKGGL', 'GLCTLVAML', 'ELAGIGILTV'], dist=array([101., 103., 120., 136., 146.])),\n",
       " perf(observed='CINGVCWTV', predicted=['IPSINVHHY', 'NLVPMVATV', 'TPQDLNTML', 'LPRRSGAAGA', 'ISPRTLNAW'], dist=array([100., 197., 199., 210., 211.])),\n",
       " perf(observed='DATYQRTRALVR', predicted=['ELAGIGILTV', 'TPQDLNTML', 'GTSGSPIVNR', 'GTSGSPIVNR', 'GTSGSPIINR'], dist=array([ 84.,  87.,  97., 112., 115.])),\n",
       " perf(observed='DATYQRTRALVR', predicted=['GILGFVFTL', 'QARQMVQAMRTIGTHP', 'PKYVKQNTLKLAT', 'GILGFVFTL', 'ELAGIGILTV'], dist=array([ 87.,  92.,  99., 168., 183.])),\n",
       " perf(observed='EIYKRWII', predicted=['FRDYVDRFYKTLRAEQASQE', 'NLVPMVATV', 'FRDYVDRFYKTLRAEQASQE', 'ATDALMTGY', 'FRDYVDRFYKTLRAEQASQE'], dist=array([ 82.,  92., 102., 115., 117.])),\n",
       " perf(observed='ELAGIGILTV', predicted=['TPRVTGGGAM', 'GTSGSPIVNR', 'TPQDLNTML', 'ELAGIGILTV', 'GTSGSPIINR'], dist=array([55., 76., 78., 81., 94.]))]"
      ]
     },
     "execution_count": 21,
     "metadata": {},
     "output_type": "execute_result"
    }
   ],
   "source": [
    "# this is like an object with fields for each epitope prediction\n",
    "pr = namedtuple(\"perf\", [\"observed\", \"predicted\", \"dist\"])\n",
    "\n",
    "# a list of epitopes\n",
    "obsereved = tr.clone_df.epitope.to_list()\n",
    "\n",
    "# a list with all results\n",
    "performance = []\n",
    "\n",
    "# a number of neighbours\n",
    "k = 5\n",
    "\n",
    "# for each row in a dataset (keeping an index of the row to exclude it)\n",
    "for row in tr.clone_df.itertuples(index=True):\n",
    "    \n",
    "    # excluding the row from a list of indices for which distances will be obtained\n",
    "    ind = (row.Index != tr.clone_df.index)                        \n",
    "\n",
    "    # obtaining the distances from the attribute that was filled earlier by compute_paired_tcrdist()\n",
    "    # so, we are using distances between CDRs (seems so)\n",
    "    # paired_tcrdist should be replaced by cdr3_b_aa_pw if compute_pairwise_all() was used\n",
    "    distances = tr.paired_tcrdist[row.Index, ind] \n",
    "\n",
    "    # getting indices of storted distances small to large\n",
    "    sorted_indices = np.argsort(distances)\n",
    "    \n",
    "    # getting epitopes associated with those indices\n",
    "    # here we first exclude the one we are currently working with\n",
    "    sorted_epitopes = tr.clone_df.epitope.loc[tr.clone_df.index != row.Index].iloc[sorted_indices].to_list()\n",
    "    \n",
    "    # getting distances associated with those neighbours\n",
    "    sorted_distances =  distances[sorted_indices]\n",
    "    \n",
    "    # getting predicted epitopes for k nearest neighbours\n",
    "    predicted = sorted_epitopes[0:k]\n",
    "    \n",
    "    # getting distances for k nearest neighbours\n",
    "    predicted_distance = sorted_distances[0:k]\n",
    "    \n",
    "    # appending the list with results \n",
    "    performance.append(pr(obsereved[row.Index], predicted, predicted_distance))\n",
    "    \n",
    "performance[:10]"
   ]
  },
  {
   "cell_type": "markdown",
   "metadata": {},
   "source": [
    "#### Kind of a conclusion for TCRdist for now"
   ]
  },
  {
   "cell_type": "raw",
   "metadata": {},
   "source": [
    "So, the results of clustering do not look that great at first glance. I am not sure about the alignment that is used: seems like it is not used at all, actually. I have mentioned my doubts in a comment to a cell above with infer_cdrs_from_v_gene() 'imgt_aligned' argument.\n",
    "\n",
    "The algorithm is: calculate distances between CDRs, cluster them with kind of a LOO approach and score the left out CDR. This gives us an opportunity to observe a true epitope which for this CDR and top k epitopes which correspond to the most similar CDRs.\n",
    "\n",
    "Currently I can only think of computing accuracy as a share of the correct predictions of epitopes. By 'correct prediction' I mean if the top 1 predicted epitope matched the true one.\n",
    "In addition it is possible to calculate this accuracy in a different way: calculate a sum of ('true epitope rank' divided by k - the total number of predicted variants).\n",
    "In my opinion, only individual ROC AUC can be calculated for each TCR. Please explain the idea to me, if I am wrong."
   ]
  },
  {
   "cell_type": "markdown",
   "metadata": {},
   "source": [
    "#### This is an exploration of built-in methods. Not successful yet: the ROC is strange"
   ]
  },
  {
   "cell_type": "code",
   "execution_count": 22,
   "metadata": {},
   "outputs": [],
   "source": [
    "target_epitope = tr.clone_df['epitope'].iloc[0]\n",
    "other_epitopes = list(set(tr.clone_df['epitope'].values) - set(target_epitope))"
   ]
  },
  {
   "cell_type": "code",
   "execution_count": 23,
   "metadata": {},
   "outputs": [
    {
     "name": "stderr",
     "output_type": "stream",
     "text": [
      "/home/alex/anaconda3/lib/python3.7/site-packages/pandas/core/indexing.py:1418: FutureWarning: \n",
      "Passing list-likes to .loc or [] with any missing label will raise\n",
      "KeyError in the future, you can use .reindex() as an alternative.\n",
      "\n",
      "See the documentation here:\n",
      "https://pandas.pydata.org/pandas-docs/stable/user_guide/indexing.html#deprecate-loc-reindex-listlike\n",
      "  return self._getitem_tuple(key)\n"
     ]
    }
   ],
   "source": [
    "proxy = TCRproximity(tr, target_epitope, other_epitopes,\n",
    "                 nn_percentile=100, chain='beta', cdrs='cdr3', subjects_folds=None)"
   ]
  },
  {
   "cell_type": "code",
   "execution_count": 24,
   "metadata": {},
   "outputs": [
    {
     "data": {
      "text/plain": [
       "{'axes': <matplotlib.axes._subplots.AxesSubplot at 0x7f037cf61250>,\n",
       " 'auc': 1.0,\n",
       " 'rates': {'fpr': array([0.        , 0.        , 0.        , 0.12371134, 0.1443299 ,\n",
       "         0.18556701, 0.20618557, 0.22680412, 0.25773196, 0.28865979,\n",
       "         0.30927835, 0.63917526, 0.65979381, 0.68041237, 0.72164948,\n",
       "         0.8556701 , 0.87628866, 0.88659794, 0.90721649, 1.        ]),\n",
       "  'tpr': array([0.        , 0.33333333, 1.        , 1.        , 1.        ,\n",
       "         1.        , 1.        , 1.        , 1.        , 1.        ,\n",
       "         1.        , 1.        , 1.        , 1.        , 1.        ,\n",
       "         1.        , 1.        , 1.        , 1.        , 1.        ])}}"
      ]
     },
     "execution_count": 24,
     "metadata": {},
     "output_type": "execute_result"
    },
    {
     "data": {
      "image/png": "[encoded data removed]",
      "text/plain": [
       "<Figure size 432x288 with 1 Axes>"
      ]
     },
     "metadata": {
      "needs_background": "light"
     },
     "output_type": "display_data"
    }
   ],
   "source": [
    "proxy.plot_ROC()"
   ]
  },
  {
   "cell_type": "code",
   "execution_count": 25,
   "metadata": {},
   "outputs": [
    {
     "data": {
      "text/html": [
       "<div>\n",
       "<style scoped>\n",
       "    .dataframe tbody tr th:only-of-type {\n",
       "        vertical-align: middle;\n",
       "    }\n",
       "\n",
       "    .dataframe tbody tr th {\n",
       "        vertical-align: top;\n",
       "    }\n",
       "\n",
       "    .dataframe thead th {\n",
       "        text-align: right;\n",
       "    }\n",
       "</style>\n",
       "<table border=\"1\" class=\"dataframe\">\n",
       "  <thead>\n",
       "    <tr style=\"text-align: right;\">\n",
       "      <th></th>\n",
       "      <th>epitope</th>\n",
       "      <th>subject</th>\n",
       "      <th>epitope_group</th>\n",
       "      <th>nn_score</th>\n",
       "      <th>predicted_p</th>\n",
       "      <th>ground_truth</th>\n",
       "    </tr>\n",
       "  </thead>\n",
       "  <tbody>\n",
       "    <tr>\n",
       "      <td>0</td>\n",
       "      <td>ATDALMTGY</td>\n",
       "      <td>NaN</td>\n",
       "      <td>ATDALMTGY</td>\n",
       "      <td>51.3333</td>\n",
       "      <td>0.982524</td>\n",
       "      <td>1</td>\n",
       "    </tr>\n",
       "    <tr>\n",
       "      <td>1</td>\n",
       "      <td>ATDALMTGY</td>\n",
       "      <td>NaN</td>\n",
       "      <td>ATDALMTGY</td>\n",
       "      <td>62</td>\n",
       "      <td>0.858252</td>\n",
       "      <td>1</td>\n",
       "    </tr>\n",
       "    <tr>\n",
       "      <td>2</td>\n",
       "      <td>ATDALMTGY</td>\n",
       "      <td>NaN</td>\n",
       "      <td>ATDALMTGY</td>\n",
       "      <td>49.8333</td>\n",
       "      <td>1</td>\n",
       "      <td>1</td>\n",
       "    </tr>\n",
       "    <tr>\n",
       "      <td>3</td>\n",
       "      <td>AVFDRKSDAK</td>\n",
       "      <td>NaN</td>\n",
       "      <td>other</td>\n",
       "      <td>76</td>\n",
       "      <td>0.695146</td>\n",
       "      <td>0</td>\n",
       "    </tr>\n",
       "    <tr>\n",
       "      <td>4</td>\n",
       "      <td>CINGVCWTV</td>\n",
       "      <td>NaN</td>\n",
       "      <td>other</td>\n",
       "      <td>91.5</td>\n",
       "      <td>0.514563</td>\n",
       "      <td>0</td>\n",
       "    </tr>\n",
       "    <tr>\n",
       "      <td>...</td>\n",
       "      <td>...</td>\n",
       "      <td>...</td>\n",
       "      <td>...</td>\n",
       "      <td>...</td>\n",
       "      <td>...</td>\n",
       "      <td>...</td>\n",
       "    </tr>\n",
       "    <tr>\n",
       "      <td>95</td>\n",
       "      <td>TPQDLNTML</td>\n",
       "      <td>NaN</td>\n",
       "      <td>other</td>\n",
       "      <td>82.1667</td>\n",
       "      <td>0.623301</td>\n",
       "      <td>0</td>\n",
       "    </tr>\n",
       "    <tr>\n",
       "      <td>96</td>\n",
       "      <td>TPRVTGGGAM</td>\n",
       "      <td>NaN</td>\n",
       "      <td>other</td>\n",
       "      <td>98.5</td>\n",
       "      <td>0.43301</td>\n",
       "      <td>0</td>\n",
       "    </tr>\n",
       "    <tr>\n",
       "      <td>97</td>\n",
       "      <td>VTEHDTLLY</td>\n",
       "      <td>NaN</td>\n",
       "      <td>other</td>\n",
       "      <td>83.1667</td>\n",
       "      <td>0.61165</td>\n",
       "      <td>0</td>\n",
       "    </tr>\n",
       "    <tr>\n",
       "      <td>98</td>\n",
       "      <td>YVLDHLIVV</td>\n",
       "      <td>NaN</td>\n",
       "      <td>other</td>\n",
       "      <td>96.1667</td>\n",
       "      <td>0.460194</td>\n",
       "      <td>0</td>\n",
       "    </tr>\n",
       "    <tr>\n",
       "      <td>99</td>\n",
       "      <td>YVLDHLIVV</td>\n",
       "      <td>NaN</td>\n",
       "      <td>other</td>\n",
       "      <td>97.1667</td>\n",
       "      <td>0.448544</td>\n",
       "      <td>0</td>\n",
       "    </tr>\n",
       "  </tbody>\n",
       "</table>\n",
       "<p>100 rows × 6 columns</p>\n",
       "</div>"
      ],
      "text/plain": [
       "       epitope  subject epitope_group nn_score predicted_p  ground_truth\n",
       "0    ATDALMTGY      NaN     ATDALMTGY  51.3333    0.982524             1\n",
       "1    ATDALMTGY      NaN     ATDALMTGY       62    0.858252             1\n",
       "2    ATDALMTGY      NaN     ATDALMTGY  49.8333           1             1\n",
       "3   AVFDRKSDAK      NaN         other       76    0.695146             0\n",
       "4    CINGVCWTV      NaN         other     91.5    0.514563             0\n",
       "..         ...      ...           ...      ...         ...           ...\n",
       "95   TPQDLNTML      NaN         other  82.1667    0.623301             0\n",
       "96  TPRVTGGGAM      NaN         other     98.5     0.43301             0\n",
       "97   VTEHDTLLY      NaN         other  83.1667     0.61165             0\n",
       "98   YVLDHLIVV      NaN         other  96.1667    0.460194             0\n",
       "99   YVLDHLIVV      NaN         other  97.1667    0.448544             0\n",
       "\n",
       "[100 rows x 6 columns]"
      ]
     },
     "execution_count": 25,
     "metadata": {},
     "output_type": "execute_result"
    }
   ],
   "source": [
    "proxy.prox_df"
   ]
  },
  {
   "cell_type": "code",
   "execution_count": null,
   "metadata": {},
   "outputs": [],
   "source": []
  }
 ],
 "metadata": {
  "kernelspec": {
   "display_name": "Python 3",
   "language": "python",
   "name": "python3"
  },
  "language_info": {
   "codemirror_mode": {
    "name": "ipython",
    "version": 3
   },
   "file_extension": ".py",
   "mimetype": "text/x-python",
   "name": "python",
   "nbconvert_exporter": "python",
   "pygments_lexer": "ipython3",
   "version": "3.7.4"
  }
 },
 "nbformat": 4,
 "nbformat_minor": 2
}
